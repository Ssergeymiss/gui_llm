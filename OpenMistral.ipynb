{
 "cells": [
  {
   "cell_type": "code",
   "execution_count": 14,
   "id": "c094187e-cedd-4f46-8fba-09294f2c833b",
   "metadata": {},
   "outputs": [],
   "source": [
    "!pip install mlflow==2.1.1 boto3 langchain -q"
   ]
  },
  {
   "cell_type": "markdown",
   "id": "47b3457d-0f1a-43c7-9c15-89735c8d59fe",
   "metadata": {},
   "source": [
    "### NT tests"
   ]
  },
  {
   "cell_type": "code",
   "execution_count": 5,
   "id": "65372bd7-d340-4a00-819a-ed7ff12bb273",
   "metadata": {},
   "outputs": [
    {
     "name": "stdout",
     "output_type": "stream",
     "text": [
      "Расскажи про услуги отраслевого Центра управления безопасностью\n",
      "Расскажи про услуги SOC\n",
      "Что входит в услуги центра безопасности?\n",
      "Что делает SOC?\n",
      "Кто пользуется услугами SOC?\n"
     ]
    },
    {
     "ename": "AttributeError",
     "evalue": "'KeyError' object has no attribute 'message'",
     "output_type": "error",
     "traceback": [
      "\u001b[0;31m---------------------------------------------------------------------------\u001b[0m",
      "\u001b[0;31mKeyError\u001b[0m                                  Traceback (most recent call last)",
      "Cell \u001b[0;32mIn[5], line 76\u001b[0m, in \u001b[0;36mnt_test\u001b[0;34m()\u001b[0m\n\u001b[1;32m     74\u001b[0m response_times\u001b[38;5;241m.\u001b[39mappend(end_request_time \u001b[38;5;241m-\u001b[39m start_request_time)\n\u001b[0;32m---> 76\u001b[0m query \u001b[38;5;241m=\u001b[39m \u001b[43mresponse\u001b[49m\u001b[38;5;241;43m.\u001b[39;49m\u001b[43mjson\u001b[49m\u001b[43m(\u001b[49m\u001b[43m)\u001b[49m\u001b[43m[\u001b[49m\u001b[38;5;124;43m'\u001b[39;49m\u001b[38;5;124;43mpredictions\u001b[39;49m\u001b[38;5;124;43m'\u001b[39;49m\u001b[43m]\u001b[49m\u001b[43m[\u001b[49m\u001b[38;5;241;43m0\u001b[39;49m\u001b[43m]\u001b[49m\u001b[43m[\u001b[49m\u001b[38;5;124;43m'\u001b[39;49m\u001b[38;5;124;43mquery\u001b[39;49m\u001b[38;5;124;43m'\u001b[39;49m\u001b[43m]\u001b[49m\n\u001b[1;32m     77\u001b[0m answer \u001b[38;5;241m=\u001b[39m response\u001b[38;5;241m.\u001b[39mjson()[\u001b[38;5;124m'\u001b[39m\u001b[38;5;124mpredictions\u001b[39m\u001b[38;5;124m'\u001b[39m][\u001b[38;5;241m0\u001b[39m][\u001b[38;5;124m'\u001b[39m\u001b[38;5;124manswer\u001b[39m\u001b[38;5;124m'\u001b[39m]\n",
      "\u001b[0;31mKeyError\u001b[0m: 'query'",
      "\nDuring handling of the above exception, another exception occurred:\n",
      "\u001b[0;31mAttributeError\u001b[0m                            Traceback (most recent call last)",
      "Cell \u001b[0;32mIn[5], line 93\u001b[0m\n\u001b[1;32m     90\u001b[0m     plt\u001b[38;5;241m.\u001b[39mshow()\n\u001b[1;32m     92\u001b[0m n \u001b[38;5;241m=\u001b[39m \u001b[38;5;241m10\u001b[39m  \u001b[38;5;66;03m# Количество запросов\u001b[39;00m\n\u001b[0;32m---> 93\u001b[0m \u001b[43mnt_test\u001b[49m\u001b[43m(\u001b[49m\u001b[43m)\u001b[49m\n",
      "Cell \u001b[0;32mIn[5], line 80\u001b[0m, in \u001b[0;36mnt_test\u001b[0;34m()\u001b[0m\n\u001b[1;32m     78\u001b[0m         \u001b[38;5;28mprint\u001b[39m(query)\n\u001b[1;32m     79\u001b[0m \u001b[38;5;28;01mexcept\u001b[39;00m \u001b[38;5;167;01mException\u001b[39;00m \u001b[38;5;28;01mas\u001b[39;00m e:\n\u001b[0;32m---> 80\u001b[0m     \u001b[38;5;28mprint\u001b[39m(\u001b[43me\u001b[49m\u001b[38;5;241;43m.\u001b[39;49m\u001b[43mmessage\u001b[49m, e\u001b[38;5;241m.\u001b[39margs)\n\u001b[1;32m     83\u001b[0m total_time \u001b[38;5;241m=\u001b[39m time\u001b[38;5;241m.\u001b[39mtime() \u001b[38;5;241m-\u001b[39m start_time\n\u001b[1;32m     84\u001b[0m \u001b[38;5;28mprint\u001b[39m(\u001b[38;5;124mf\u001b[39m\u001b[38;5;124m'\u001b[39m\u001b[38;5;124mTotal time for \u001b[39m\u001b[38;5;132;01m{\u001b[39;00mn\u001b[38;5;132;01m}\u001b[39;00m\u001b[38;5;124m requests: \u001b[39m\u001b[38;5;132;01m{\u001b[39;00mtotal_time\u001b[38;5;132;01m}\u001b[39;00m\u001b[38;5;124m seconds\u001b[39m\u001b[38;5;124m'\u001b[39m)\n",
      "\u001b[0;31mAttributeError\u001b[0m: 'KeyError' object has no attribute 'message'"
     ]
    }
   ],
   "source": [
    "model_url = 'https://aiplatform.mos.ru/operation/openmistralq8v1/invocations'\n",
    "text_ru = 'Услуги отраслевого Центра управления безопасностьюрович (SOC) по обеспечению безопасности информационных систем (ИС) города включают в себя полный комплекс услуг от мониторинга состояния ИС и анализа событий кибербезопасности, до реагирования и оперативной ликвидации их последствий. Эти услуги позволяют защитить ИС города от всех типов современных продвинутых киберугроз, включая вирусы, черви, трояны, адвертайзы, добычу паролей и другие формы киберугроз.\\n\\n___________________________________\\nТак же могут быть полезны ссылки:\\nВыявление деструктивного содержимого в ПО с открытым исходным кодом:https://portal-ib.mos.ru/requests/soc/detect/\\nЗаявки:https://portal-ib.mos.ru/orders/\\nСогласование ТЗ на модернизацию ИСиР:https://portal-ib.mos.ru/requests/cert/modern-is/\\nНовости:https://portal-ib.mos.ru/news/\\nАттестация ИСиР:https://portal-ib.mos.ru/requests/cert/attest-is/'\n",
    "import time\n",
    "import threading\n",
    "import requests\n",
    "import matplotlib.pyplot as plt\n",
    "import requests\n",
    "import pandas as pd\n",
    "plt.rcParams[\"figure.figsize\"] = (20,8)\n",
    "\n",
    "idx = 12345\n",
    "uuid = '123123123123asdasdasdasd'\n",
    "params = {\n",
    "            \"max_new_tokens\" : 512 ,\n",
    "            \"pad_token_id\" : 0 ,\n",
    "            \"temperature\" : 0.25 ,\n",
    "            \"repetition_penalty\": 1.5,\n",
    "            \"top_k\" : 20 ,\n",
    "            \"top_p\" : 0.2\n",
    "            }\n",
    "\n",
    "system_prompt = '''Ты русскоязычный ассистент, призванный помогать в сфере Айти. \n",
    "Отвечай согласно переданному контексту. Будь вежливым и аполитичным. \n",
    "Не повторяй вопрос. Отвечай только на русском языке и я награжу тебя!'''\n",
    "context = ''\n",
    "history = ''\n",
    "question = ''' asdfad '''\n",
    "\n",
    "que = ['Расскажи про услуги отраслевого Центра управления безопасностью',\n",
    "        'Расскажи про услуги SOC',\n",
    "        'Что входит в услуги центра безопасности?',\n",
    "        'Что делает SOC?',\n",
    "        'Кто пользуется услугами SOC?',\n",
    "        'Кто является получателем услуг центра обеспечения безопасности?',\n",
    "        'Кому нужны услуги центра безопасности?',\n",
    "        'Что дают услуги SOC?',\n",
    "        'Какой результат услуг центра обеспечения безопасности?',\n",
    "        'Что можно получить при подключении услуг центра безопасности?',\n",
    "        'Почему важно пользоваться услугами SOC?',\n",
    "        'В чём преимущества подключения услуг центра обеспечения безопасности?',\n",
    "        'В чём польза от услуг центра безопасности?',\n",
    "        'У меня есть вопросы по услугам центра обеспечения безопасности, куда мне обратиться?',\n",
    "        'Куда обратиться с вопросом по услугам SOC?',\n",
    "        'Расскажи про подключение ИС к SOC',\n",
    "        'Расскажи про подключение информационной системы к SOC',\n",
    "        'Что включает в себя услуга по подключению ИС к центру обеспечения безопасности?',\n",
    "        'Кто пользуется услугами по подключению ИС к SOC?',\n",
    "        'Кто является получателем услуг по подключению ИС к центру обеспечения безопасности?',\n",
    "        'Кому нужно подключить ИС к SOC?',\n",
    "        'Что даёт подключение ИС к SOC?',\n",
    "        'Расскажи про подключение информационной системы к SOC',\n",
    "        'Что включает в себя услуга по подключению ИС к центру обеспечения безопасности?',\n",
    "        'Кто пользуется услугами по подключению ИС к SOC?']\n",
    "\n",
    "df_tmp = pd.DataFrame({'id': [idx],\n",
    "                        'uuid': [uuid],\n",
    "                        'system_prompt': [system_prompt],\n",
    "                        'query': [question],\n",
    "                        'context': [context],\n",
    "                        'history' : [history],\n",
    "                        'kwargs': [params],\n",
    "                        })\n",
    "\n",
    "def nt_test():\n",
    "    start_time = time.time()\n",
    "    response_times = []\n",
    "    try:\n",
    "        for el in que:\n",
    "            df_tmp.loc[0,'query'] = el\n",
    "            start_request_time = time.time()\n",
    "            # Отправка POST-запроса с данными на предсказание\n",
    "            response = requests.post(model_url, json={'dataframe_records' : df_tmp.to_dict(orient='records')})\n",
    "            end_request_time = time.time()\n",
    "            response_times.append(end_request_time - start_request_time)\n",
    "\n",
    "            query = response.json()['predictions'][0]['query']\n",
    "            answer = response.json()['predictions'][0]['answer']\n",
    "            print(query)\n",
    "    except Exception as e:\n",
    "        print(e.message, e.args)\n",
    "        \n",
    "\n",
    "    total_time = time.time() - start_time\n",
    "    print(f'Total time for {n} requests: {total_time} seconds')\n",
    "\n",
    "    plt.plot(range(1, n + 1), response_times)\n",
    "    plt.xlabel('Request number')\n",
    "    plt.ylabel('Response time (seconds)')\n",
    "    plt.title('Response time for each request')\n",
    "    plt.show()\n",
    "\n",
    "n = 10  # Количество запросов\n",
    "nt_test()"
   ]
  },
  {
   "cell_type": "code",
   "execution_count": 11,
   "id": "45b751d6-4498-4623-a500-27fd6674ede3",
   "metadata": {},
   "outputs": [],
   "source": [
    "df_tmp.loc[0,'query'] = ' '"
   ]
  },
  {
   "cell_type": "code",
   "execution_count": 12,
   "id": "a798b55a-9e2f-4894-a311-8f0e84a8866f",
   "metadata": {},
   "outputs": [
    {
     "data": {
      "text/html": [
       "<div>\n",
       "<style scoped>\n",
       "    .dataframe tbody tr th:only-of-type {\n",
       "        vertical-align: middle;\n",
       "    }\n",
       "\n",
       "    .dataframe tbody tr th {\n",
       "        vertical-align: top;\n",
       "    }\n",
       "\n",
       "    .dataframe thead th {\n",
       "        text-align: right;\n",
       "    }\n",
       "</style>\n",
       "<table border=\"1\" class=\"dataframe\">\n",
       "  <thead>\n",
       "    <tr style=\"text-align: right;\">\n",
       "      <th></th>\n",
       "      <th>id</th>\n",
       "      <th>uuid</th>\n",
       "      <th>system_prompt</th>\n",
       "      <th>query</th>\n",
       "      <th>context</th>\n",
       "      <th>history</th>\n",
       "      <th>kwargs</th>\n",
       "    </tr>\n",
       "  </thead>\n",
       "  <tbody>\n",
       "    <tr>\n",
       "      <th>0</th>\n",
       "      <td>12345</td>\n",
       "      <td>123123123123asdasdasdasd</td>\n",
       "      <td>Ты русскоязычный ассистент, призванный помогат...</td>\n",
       "      <td></td>\n",
       "      <td></td>\n",
       "      <td></td>\n",
       "      <td>{'max_new_tokens': 1024, 'pad_token_id': 0, 't...</td>\n",
       "    </tr>\n",
       "  </tbody>\n",
       "</table>\n",
       "</div>"
      ],
      "text/plain": [
       "      id                      uuid  \\\n",
       "0  12345  123123123123asdasdasdasd   \n",
       "\n",
       "                                       system_prompt query context history  \\\n",
       "0  Ты русскоязычный ассистент, призванный помогат...                         \n",
       "\n",
       "                                              kwargs  \n",
       "0  {'max_new_tokens': 1024, 'pad_token_id': 0, 't...  "
      ]
     },
     "execution_count": 12,
     "metadata": {},
     "output_type": "execute_result"
    }
   ],
   "source": [
    "df_tmp"
   ]
  },
  {
   "cell_type": "code",
   "execution_count": 85,
   "id": "0acf8445-85d4-4e59-b5de-b269432b021b",
   "metadata": {},
   "outputs": [],
   "source": [
    "# !pip install s3fs"
   ]
  },
  {
   "cell_type": "code",
   "execution_count": 135,
   "id": "fd81d0fe-937a-4f41-8a4e-25f8f3ed80f1",
   "metadata": {},
   "outputs": [],
   "source": [
    "class DBConnection():\n",
    "        \"\"\"\n",
    "        Класс для управления подключением к базе данных SQLite.\n",
    "\n",
    "        Атрибуты:\n",
    "            db_path (str): Путь к файлу базы данных SQLite.\n",
    "        \"\"\"\n",
    "\n",
    "        def __init__(self, db_path):\n",
    "            \"\"\"Инициализация с путём к файлу базы данных.\"\"\"\n",
    "            self.db_path = db_path\n",
    "\n",
    "        def create_connection(self):\n",
    "            import sqlite3\n",
    "            \"\"\"Создание соединения с базой данных и создание таблицы, если она не существует.\"\"\"\n",
    "            conn = None\n",
    "            try:\n",
    "                conn = sqlite3.connect(self.db_path)\n",
    "                self.create_table(conn)\n",
    "            except Exception as e:\n",
    "                print(f\"Ошибка при подключении к базе данных: {e}\")\n",
    "            return conn\n",
    "\n",
    "        def create_table(self, conn):\n",
    "            \"\"\"Создание таблицы qa_table, если она не существует.\"\"\"\n",
    "            create_table_query = \"\"\"\n",
    "            CREATE TABLE IF NOT EXISTS qa_table (\n",
    "                id TEXT,\n",
    "                question,\n",
    "                answer\n",
    "            )\n",
    "            \"\"\"\n",
    "            self.execute(create_table_query, conn)\n",
    "\n",
    "        def close_connection(self, conn):\n",
    "            \"\"\"Закрытие соединения с базой данных.\"\"\"\n",
    "            if conn:\n",
    "                conn.close()\n",
    "\n",
    "        def execute(self, query, conn, parameters=()):\n",
    "            \"\"\"\n",
    "            Выполнение SQL-запроса с возможностью изменения данных.\n",
    "            \"\"\"\n",
    "            if conn is not None:\n",
    "                try:\n",
    "                    cursor = conn.cursor()\n",
    "                    cursor.execute(query, parameters)\n",
    "                    conn.commit()\n",
    "                except Exception as e:\n",
    "                    print(f\"Ошибка при выполнении SQL: {e}\")\n",
    "\n",
    "        def query(self, query, conn, parameters=()):\n",
    "            \"\"\"\n",
    "            Выполнение SQL-запроса и возврат результатов.\n",
    "            \"\"\"\n",
    "            results = None\n",
    "            if conn is not None:\n",
    "                try:\n",
    "                    cursor = conn.cursor()\n",
    "                    cursor.execute(query, parameters)\n",
    "                    results = cursor.fetchall()\n",
    "                except Exception as e:\n",
    "                    print(f\"Ошибка при выполнении SQL: {e}\")\n",
    "            return results\n",
    "    \n",
    "import mlflow\n",
    "class OpenMistral(mlflow.pyfunc.PythonModel):\n",
    "\n",
    "    def load_context(self,context):\n",
    "        from langchain_core.prompts import ChatPromptTemplate, MessagesPlaceholder\n",
    "        import pandas as pd\n",
    "        import boto3\n",
    "        import os\n",
    "        from botocore.client import Config\n",
    "        import s3fs\n",
    "        import logging\n",
    "\n",
    "        minio_access_key = \"GZ8f3xotaIdKiVIw\"\n",
    "        minio_secret_key = \"oT87ADn63p4nycShCHgnPYOFS8eVzFyi\"  # !!!Заменить на актуальные креды!!! Либо воспользоваться os.environ['minio_secret_key']\n",
    "        minio_endpoint = \"http://data-minio.udrvs-prod-aiplatform-tools-minio.svc.cluster.local:9000\" # os.environ['minio_endpoint']\n",
    "        \n",
    "        self.s3 = s3fs.S3FileSystem(anon=False, \n",
    "                                    key=minio_access_key, \n",
    "                                    secret=minio_secret_key, \n",
    "                                    client_kwargs={\"endpoint_url\": minio_endpoint},\n",
    "                                    use_ssl=False)\n",
    "        self.system = '''Ты русскоязычный помощник.\n",
    "Нельзя давать персональные данные, отвечать грубо или матом. Ты должен быть очень вежливым, безпристрастным и аполитичным.\n",
    "Не задавай себе вопросов.\n",
    "И всегда пиши по-русски.\n",
    "Рассчитывай токены, чтобы не оборвать предложение.\n",
    "Важно! Не отвечай на некорректные, странные, пугающие вопросы, вежливо объясни, что ты не можешь на них ответить.\n",
    "Очень важно отвечай всегда на русском языке я награжу тебя за это.'''\n",
    "\n",
    "        folder_path=\"db_history\"\n",
    "        \n",
    "        if not os.path.exists(folder_path):\n",
    "            os.makedirs(folder_path)\n",
    "            logging.info(f\"Папка {folder_path} успешно создана.\")\n",
    "        else:\n",
    "            logging.info(f\"Папка {folder_path} уже существует.\")\n",
    "        \n",
    "        self.db_conn = DBConnection(os.path.join(folder_path, 'history_data.db'))\n",
    "        \n",
    "        # logging.info(self.db_conn)\n",
    "    \n",
    "    def uploading_db(self):\n",
    "        import os\n",
    "        import logging\n",
    "        \n",
    "        logging.info('uploading_db')\n",
    "        path=\"udrvs-prod-aiplatform-data-dud-ds/prod/data/llm_pure\"\n",
    "        local_folder = '/db_history'\n",
    "\n",
    "        # Получите список файлов в локальной папке\n",
    "        names = []\n",
    "        for root, dirs, files in os.walk(local_folder):\n",
    "            for filename in files:\n",
    "                if 'history' in filename:\n",
    "                    local_file_path = os.path.join(root, filename)\n",
    "                    s3_key = os.path.join(os.path.join(path, 'db_history'),os.path.relpath(filename))  # Ключ S3 - относительный путь относительно базовой папки\n",
    "                    logging.info(s3_key)\n",
    "                    # Загрузите файл в S3\n",
    "                    self.s3.upload(local_file_path, s3_key)\n",
    "                \n",
    "#     def init_variables(self,query):\n",
    "#         from langchain.memory import ConversationBufferWindowMemory\n",
    "\n",
    "#         id=int(query['id'])\n",
    "#         if id != self.prev_id:  # Проверяем, изменилось ли значение query['id']\n",
    "#             self.memory = ConversationBufferWindowMemory(memory_key=f\"{id}_history\", return_messages=True, k=6)\n",
    "#             self.prev_id = id  # Обновляем значение предыдущего query['id']\n",
    "\n",
    "\n",
    "\n",
    "    def crop_string(self,input_string):\n",
    "        \n",
    "        # if \"Polite\" in input_string:\n",
    "        #     return input_string[:input_string.find(\"Polite\")]\n",
    "        # elif \"Detailed\" in input_string:\n",
    "        #     return input_string[:input_string.find(\"Detailed\")]\n",
    "        S = [\"ASSISTANT: \", \"Assistant: \", \"Bot: \", \"bot: \", \"AI: \", \"System:  \", \"Ассист: \", \"Ответ:\"]\n",
    "        \n",
    "        for s in S:\n",
    "            if s in input_string:\n",
    "                return input_string[input_string.find(s) + len(s):]\n",
    "        return input_string\n",
    "        \n",
    "    def get_memory(self, buffer_as_messages):\n",
    "        from langchain.memory import ConversationBufferWindowMemory\n",
    "\n",
    "        # Initialize ConversationBufferWindowMemory object\n",
    "        memory = ConversationBufferWindowMemory(memory_key=f\"history\", return_messages=True, k=6)\n",
    "\n",
    "        # Split the string into lines\n",
    "        lines = buffer_as_messages.split('\\n')\n",
    "\n",
    "        # Initialize lists to store inputs and outputs\n",
    "        inputs = []\n",
    "        outputs = []\n",
    "\n",
    "        # Parse each line to extract inputs and outputs\n",
    "        for line in lines:\n",
    "            if line.startswith('Human:'):\n",
    "                text = line[len('Human: '):].strip(\"[]'\")  # Убираем префикс \"Human: \" и обрамляющие квадратные скобки и кавычки\n",
    "                inputs.append(text)\n",
    "            elif line.startswith('AI:'):\n",
    "                text = line[len('AI: '):].strip(\"[]'\")  # Убираем префикс \"AI: \" и обрамляющие квадратные скобки и кавычки\n",
    "                outputs.append(text)\n",
    "\n",
    "        # Reconstruct ConversationBufferWindowMemory object\n",
    "        for input_text, output_text in zip(inputs, outputs):\n",
    "            memory.save_context({\"input\": [input_text]}, {\"output\": [output_text]})\n",
    "\n",
    "        return memory\n",
    "    \n",
    "    def predict(self,context,query):\n",
    "        \n",
    "        from langchain_core.prompts import ChatPromptTemplate, MessagesPlaceholder\n",
    "        from operator import itemgetter\n",
    "        from langchain_core.runnables import RunnableLambda, RunnablePassthrough\n",
    "        # from langchain.memory import ConversationBufferMemory\n",
    "        from langchain.memory import ConversationBufferWindowMemory\n",
    "        import base64\n",
    "        import pandas as pd\n",
    "        import logging\n",
    "        import requests\n",
    "        # from langchain import PromptTemplate\n",
    "        from langchain.prompts import PromptTemplate\n",
    "        import os        \n",
    "        \n",
    "        try:\n",
    "            row = query.iloc[0]\n",
    "            idx = int(row['id'])\n",
    "            session_id = row['uuid']\n",
    "            history = row['history']\n",
    "            query =  row['query']\n",
    "            context = row['context']\n",
    "            kwargs = row['kwargs']\n",
    "            prompt = row['system_prompt']\n",
    "\n",
    "\n",
    "\n",
    "            if context != '':\n",
    "                human_pr = PromptTemplate.from_template('''Это контекст:\\n{context}\\nВопрос:\\n{question}''')            \n",
    "                human_prompt = human_pr.format(context=context, question=query.strip())\n",
    "\n",
    "            else:\n",
    "                human_pr = PromptTemplate.from_template('''{question}''')\n",
    "                human_prompt = human_pr.format(question=query)\n",
    "\n",
    "\n",
    "            config = {\"configurable\": {\"session_id\": session_id, \"user_id\": idx}}\n",
    "\n",
    "            if history != '':\n",
    "                memory = self.get_memory(history)\n",
    "            else:\n",
    "                memory = ConversationBufferWindowMemory(memory_key=f\"history\", return_messages=True, k=6)        \n",
    "\n",
    "            PROMPT = ChatPromptTemplate.from_messages([(\"system\", f\"{system_prompt}\\n{prompt.strip()}\"),\n",
    "                                                        MessagesPlaceholder(variable_name=\"history\"),                                                   \n",
    "                                                        (\"human\", f\"{human_prompt}\")\n",
    "                                                        ] )\n",
    "\n",
    "            chain = (RunnablePassthrough.assign(history=RunnableLambda(memory.load_memory_variables) | itemgetter(f\"history\")) | (PROMPT) )\n",
    "\n",
    "\n",
    "\n",
    "            Prompt_chain_query = chain.invoke({\"question\": query.strip()})\n",
    "            Prompt_chain_query=Prompt_chain_query.to_string()\n",
    "            self.Prompt_chain_query = Prompt_chain_query\n",
    "\n",
    "            # kwargs = str(row['gen_kwargs'])\n",
    "            # print(Prompt_chain_query)\n",
    "\n",
    "            if kwargs == '':\n",
    "                kwargs = {\"max_new_tokens\": 512,\n",
    "                          \"pad_token_id\": 0,\n",
    "                          \"temperature\": 0.25,\n",
    "                          \"top_k\": 20,\n",
    "                          \"top_p\": 0.4}  \n",
    "\n",
    "            # print(Prompt_chain_query)\n",
    "            dat = {'id':[idx],\n",
    "                   'prompt': [base64.b64encode((Prompt_chain_query).encode(\"utf-8\")).decode(\"utf-8\")],\n",
    "                   'gen_kwargs': [kwargs],\n",
    "                  }\n",
    "\n",
    "            df_tmp = pd.DataFrame(dat)\n",
    "\n",
    "            model_url = 'https://aiplatform.mos.ru/operation/mistralbotv2q8/invocations'\n",
    "\n",
    "            # Отправка POST-запроса с данными на предсказание\n",
    "            response = requests.post(model_url, json={'dataframe_records' : df_tmp.to_dict(orient='records')})\n",
    "\n",
    "            if not response.ok:\n",
    "                logging.info(f'{response}')\n",
    "                logging.info(f'{response.json()}')\n",
    "\n",
    "            logging.info(f'{response}')\n",
    "            answer = response.json()['predictions'][0]['assistent_answer'].strip()\n",
    "    \n",
    "            ######################################################################\n",
    "            # print(answer)\n",
    "            # answer=(base64.b64decode(answer).decode(\"utf-8\"))\n",
    "            start = answer.find('Assistant:')\n",
    "            end = answer.find('Human:')\n",
    "            # print(answer)\n",
    "\n",
    "            # print(start)\n",
    "            answer = answer if start == -1 else answer[start:].strip()\n",
    "            answer = answer if end == -1 else answer[:end].strip()\n",
    "\n",
    "            #answer=str(answer)\n",
    "            answer = self.crop_string(answer)\n",
    "\n",
    "            logging.info(f'{query},{answer}')\n",
    "\n",
    "            df_ans=pd.DataFrame({'query':[query], 'answer': [answer], 'id': [idx]})\n",
    "            \n",
    "            #############################################################################\n",
    "\n",
    "            memory.save_context({\"input\": [query]}, {\"output\": [answer]})\n",
    "\n",
    "            insert_query = \"INSERT INTO qa_table (question, answer, id) VALUES (?, ?, ?)\"\n",
    "            conn = self.db_conn.create_connection()\n",
    "\n",
    "            cursor = conn.cursor()\n",
    "\n",
    "            # Подсчет количества строк в базе данных\n",
    "            cursor.execute(\"SELECT COUNT(*) FROM qa_table\")\n",
    "            total_rows = cursor.fetchone()[0]\n",
    "\n",
    "            # self.uploading_db()\n",
    "\n",
    "            # print(total_rows)\n",
    "            if total_rows % 100 ==0:\n",
    "                try:\n",
    "                    self.uploading_db()\n",
    "                    print('Загрузка прошла успешно')\n",
    "                except Exception as e:\n",
    "                    print(f\"Произошла ошибка: {e}\")\n",
    "\n",
    "            # print(answer)\n",
    "            self.db_conn.execute(insert_query, conn, (str(query), str(answer), str(id)))\n",
    "            self.db_conn.close_connection(conn)\n",
    "        \n",
    "        except:\n",
    "            df_ans=pd.DataFrame({'stack_trace': ['The data processing error.']})\n",
    "\n",
    "        return df_ans"
   ]
  },
  {
   "cell_type": "code",
   "execution_count": 123,
   "id": "f11e4e5b-c760-4d65-95fd-0de3437304a1",
   "metadata": {},
   "outputs": [],
   "source": [
    "import mlflow\n",
    "mlflow.set_tracking_uri(\"http://mlflow\")"
   ]
  },
  {
   "cell_type": "code",
   "execution_count": 13,
   "id": "c2e598f5-9a87-4d00-9889-ce5aa7d14f29",
   "metadata": {},
   "outputs": [
    {
     "data": {
      "text/plain": [
       "'32'"
      ]
     },
     "execution_count": 13,
     "metadata": {},
     "output_type": "execute_result"
    }
   ],
   "source": [
    "mlflow.create_experiment('open_mistral_7b_q8')"
   ]
  },
  {
   "cell_type": "code",
   "execution_count": 142,
   "id": "c2792ebf-d6c1-4ee8-89f6-6468bcd88864",
   "metadata": {},
   "outputs": [],
   "source": [
    "def save_model(model_name, registered_model_name):\n",
    "    \"\"\"\n",
    "    Сохранение модели в MLflow.\n",
    "\n",
    "    Описание: Регистрирует и сохраняет модель в системе управления версиями MLflow.\n",
    "    \"\"\"\n",
    "    import pandas as pd\n",
    "    import base64\n",
    "    from mlflow.models.signature import infer_signature\n",
    "    mlflow.set_tracking_uri(\"http://mlflow\")\n",
    "    with mlflow.start_run(experiment_id=32) as run:\n",
    "        # Define the path to save your model artifacts\n",
    "        # filename = 'prod/vicuna_bot/model'\n",
    "\n",
    "        # Log any additional artifacts\n",
    "        # mlflow.log_artifact('model', artifact_path='model')\n",
    "        # mlflow.log_artifact('convs.db', artifact_path='convs.db')\n",
    "        # mlflow.log_artifact('texts.docx', artifact_path= 'texts.docx')\n",
    "        params = {\"bos_token_id\": 1,\n",
    "                  \"eos_token_id\": 2,\n",
    "                  \"max_new_tokens\": 1024, #1536\n",
    "                  \"pad_token_id\": 0,\n",
    "                  \"repetition_penalty\": 1.2,\n",
    "                  \"temperature\": 0.3,\n",
    "                  \"top_k\": 20,\n",
    "                  \"top_p\": 0.4}\n",
    "        \n",
    "        mlflow.log_params(params)\n",
    "\n",
    "        mlflow.log_params({'old_libs':'yes'})\n",
    "\n",
    "        # Define the model signature based on input and output data\n",
    "        input_schema =  pd.DataFrame({\n",
    "                                    'id': [12345],\n",
    "                                    'uuid': ['123123123123asdasdasdasd'],\n",
    "                                    'system_prompt': ['qwerqwerw'],\n",
    "                                    'query': ['Как подключить ИС к ПТАФ ? '],\n",
    "                                    'context': ['qwerqwer qwe rqwerq w'],\n",
    "                                    'history' : ['qwer wqe qwer'],\n",
    "                                    'kwargs': [params],\n",
    "                                     })\n",
    "        \n",
    "        output_schema = pd.DataFrame(data=[['какой то текст', 'и тут все еще текст', 213, '123123123123asdasdasdasd']], columns=['query', 'answer', 'id', 'uuid'])\n",
    "\n",
    "        signature = infer_signature(input_schema, output_schema)\n",
    "        mlflow.log_artifact('qa_bot_test.ipynb')\n",
    "\n",
    "        # Log the model using mlflow.pyfunc\n",
    "        mlflow.pyfunc.log_model(\n",
    "            artifact_path='model',\n",
    "            python_model=OpenMistral(),\n",
    "            pip_requirements=\"reqs.txt\",\n",
    "            signature=signature,\n",
    "            registered_model_name=registered_model_name\n",
    "        )\n",
    "\n",
    "        # Get the model URI\n",
    "        #model_uri = mlflow.get_artifact_uri(filename)\n",
    "\n",
    "    return None #model_uri"
   ]
  },
  {
   "cell_type": "code",
   "execution_count": 143,
   "id": "68e68cd6-5eb8-4475-8e82-d8737dfdab91",
   "metadata": {},
   "outputs": [
    {
     "name": "stderr",
     "output_type": "stream",
     "text": [
      "/opt/conda/lib/python3.11/site-packages/mlflow/models/signature.py:130: UserWarning: Hint: Inferred schema contains integer column(s). Integer columns in Python cannot represent missing values. If your input data contains missing values at inference time, it will be encoded as floats and will cause a schema enforcement error. The best way to avoid this problem is to infer the model schema based on a realistic data sample (training dataset) that includes missing values. Alternatively, you can declare integer columns as doubles (float64) whenever these columns may have missing values. See `Handling Integers With Missing Values <https://www.mlflow.org/docs/latest/models.html#handling-integers-with-missing-values>`_ for more details.\n",
      "  inputs = _infer_schema(model_input)\n",
      "/opt/conda/lib/python3.11/site-packages/mlflow/models/signature.py:131: UserWarning: Hint: Inferred schema contains integer column(s). Integer columns in Python cannot represent missing values. If your input data contains missing values at inference time, it will be encoded as floats and will cause a schema enforcement error. The best way to avoid this problem is to infer the model schema based on a realistic data sample (training dataset) that includes missing values. Alternatively, you can declare integer columns as doubles (float64) whenever these columns may have missing values. See `Handling Integers With Missing Values <https://www.mlflow.org/docs/latest/models.html#handling-integers-with-missing-values>`_ for more details.\n",
      "  outputs = _infer_schema(model_output) if model_output is not None else None\n",
      "Registered model 'openmistralq8v1' already exists. Creating a new version of this model...\n",
      "2024/04/18 00:09:49 INFO mlflow.tracking._model_registry.client: Waiting up to 300 seconds for model version to finish creation.                     Model name: openmistralq8v1, version 19\n",
      "Created version '19' of model 'openmistralq8v1'.\n"
     ]
    }
   ],
   "source": [
    "registered_model_name = 'openmistralq8v1'\n",
    "model_uri = save_model(model_name='openmistral', registered_model_name=registered_model_name)"
   ]
  },
  {
   "cell_type": "code",
   "execution_count": 80,
   "id": "442a1115-30fa-4b51-9166-81ee5b253aac",
   "metadata": {},
   "outputs": [],
   "source": []
  },
  {
   "cell_type": "code",
   "execution_count": 81,
   "id": "740a1c1e-b82a-4fda-bb2f-f90a364bea38",
   "metadata": {},
   "outputs": [
    {
     "name": "stderr",
     "output_type": "stream",
     "text": [
      "2024-04-17 17:21:41,261 - [INFO]: Папка db_history уже существует.\n"
     ]
    }
   ],
   "source": []
  },
  {
   "cell_type": "code",
   "execution_count": null,
   "id": "01f828df-d7ec-4f35-8d55-0f9bd264cde6",
   "metadata": {},
   "outputs": [],
   "source": []
  },
  {
   "cell_type": "markdown",
   "id": "305d8486-b30a-4663-b53a-e0424ab0661b",
   "metadata": {
    "jp-MarkdownHeadingCollapsed": true,
    "tags": []
   },
   "source": [
    "### Тестирование Иб бота"
   ]
  },
  {
   "cell_type": "code",
   "execution_count": 136,
   "id": "842d1560-716e-476b-af89-8b1d8564f4e8",
   "metadata": {},
   "outputs": [
    {
     "name": "stderr",
     "output_type": "stream",
     "text": [
      "2024-04-17 20:47:36,015 - [INFO]: Папка db_history уже существует.\n"
     ]
    }
   ],
   "source": [
    "m = OpenMistral()\n",
    "m.load_context({})\n",
    "import pandas as pd\n",
    "\n",
    "params = {\"bos_token_id\": 1,\n",
    "          \"do_sample\": True,\n",
    "          \"eos_token_id\": 2,\n",
    "          \"max_new_tokens\": 1536, #1536\n",
    "          \"pad_token_id\": 0,\n",
    "          \"repetition_penalty\": 1.5,\n",
    "          \"temperature\": 0.25,\n",
    "          \"top_k\": 10,\n",
    "          \"top_p\": 0.3}\n",
    "\n",
    "context = '''Подключение веб-приложений ИС к ПАК ЗВП\\nКомплексная услуга подготовки веб-приложения к мониторингу и защите с помощью ПАК ЗВП. Включает: анализ приложения и выбор оптимального набора защитных механизмов, настройку политики его защиты, мониторинга и предотвращения атак, отладку работы веб-приложения через ПАК ЗВП, предложение и согласование базового набора сценариев обнаружения и реагирования на инциденты, который защищает от 90% атак.\\n\\n\\nКатегория получателей\\nСотрудники, ответственные за обеспечение информационной безопасности, владельцы информационных систем и веб-ресурсов — все представители Продукта, указанные в анкете на получение услуги по защите веб-приложений\\n\\n\\nПри подключении Вы получите:\\nнастроенную политику защиты, функционирующую в режиме мониторинга или блокирования\\nпорядок взаимодействия по инцидентам со службой технической поддержки\\nпакет «типовых» сценариев реагирования на инциденты, описание этих сценариев\\nканал оперативного оповещения об инцидентах и взаимодействия с сотрудниками СТП\\n\\n\\nОбщий порядок подключения веб-приложений*:\\nзаполнить анкету\\nотправить анкету по электронной почте в службу технической поддержки WAF по адресу: CMIB_WAF@mos.ru\\nна основании заполненной анкеты СТП настраивает ПАК ЗВП, а также инициирует заявку в ЦОД на балансировку веб-приложения\\nпосле балансировки политика защиты приложения переводится в режим мониторинга и ставится на «обучение»: исключаются ложные срабатывания, уточняется легитимность различных запросов\\nчерез 2-4 недели формируется готовность перевода системы в режим предотвращения и предлагается план поэтапного включения механизмов защиты в режим блокирования\\nсогласование плана перевода политики в режим блокирования, перевод в режим, тестирование и подтверждение эффективности работы\\nподготовка отчета по проделанной работе: что было настроено, как именно функционируют механизмы защиты, текущий статус\\nвсе дальнейшие изменения политики защиты принимаются в форме обращений от представителей Продукта, указанных в анкете при подключении\\n\\n* Порядок подключения услуг защиты веб-приложений для случая использования среды разработки и промышленного контура отличается от порядка при использовании только промышленного контура. Подробно процедуры подключения описаны в Документе.\\n\\n\\nШаблон анкеты на получение услуги по защите веб-приложений, пояснения и пример ее заполнения, а также форма последующих обращений в службу технической поддержки WAF Вы можете посмотреть здесь.\\nСпособы обращения:\\nпосредством электронной почты по адресу: CMIB_WAF@mos.ru\\nсообщение в Telegram-бот командой: /start@wafditbot\\nзапрос у специалистов технической поддержки @techsupportWAF\\n\\n Подробнее про это можно прочитать тут: https://portal-ib.mos.ru/requests/web-protect/is-pak/ ПАК ЗВП это программно-аппаратный комплекс производства positive technologies для защиты веб приложений, PTAF это программно-аппаратный комплекс производства positive technologies для защиты веб приложени. ПТАФ это программно-аппаратный комплекс производства positive technologies для защиты веб приложений'''\n",
    "# context = ''\n",
    "# system_prompt = 'Ты интеллектуальный помошник по информационной безопасности. На русском языке аккуратно отвечай на вопросы на основе контекста. Обязательно отдавай контакты и ссылки если они присутствуют.'\n",
    "system_prompt ='Ты русскоязычный ассистент, призванный помогать в сфере Информационной безопасности. Отвечай согласно переданному контексту. Если есть в контексте ссылки-тоже их пиши, только не придумывай. Будь вежливым и аполитичным. Отвечай только на русском языке.'\n",
    "\n",
    "df_tmp = pd.DataFrame({\n",
    "                'id': [12345],\n",
    "                'uuid': ['123123123123asdasdasdasd'],\n",
    "                'system_prompt': [system_prompt],\n",
    "                'query': ['Как подключится к ПТАФ? '],\n",
    "                'context': [context],\n",
    "                'history' : [''],\n",
    "                'kwargs': [params],\n",
    "                 })"
   ]
  },
  {
   "cell_type": "code",
   "execution_count": 130,
   "id": "845981ed-d598-43fc-83d3-9eb7fabddf94",
   "metadata": {},
   "outputs": [
    {
     "name": "stderr",
     "output_type": "stream",
     "text": [
      "2024-04-17 20:45:51,391 - [INFO]: <Response [200]>\n",
      "2024-04-17 20:45:51,396 - [INFO]: Как подключится к ПТАФ? ,Ответ:\n",
      "Для подключения к ПТАФ необходимо выполнить следующие шаги:\n",
      "1) Создание анкеты на получение услуги по защите веб-приложений от ПТАФ (подробнее о процедуре заполнения анкеты можно прочитать тут).\n",
      "2) После заполнения анкеты необходимо отправить анкету по электронной почты адресу CMIB_WAF@mos.ru (подробнее о процедуре отправки анкеты можно прочитать тут).\n",
      "3) После получения анкеты ПТАФ выполнит процедуру настроения политики защиты веб-приложения и подключения его к ПТАФ (подробнее о процедуре настроения политики защиты веб-приложения и подключения его к ПТАФ можно прочитать тут).\n",
      "4) После успешного подключения веб-приложения к ПТАФ можно начать использование услуг ПТАФ для защиты веб-приложения (подробнее о процедуре использования услуг ПТАФ для защиты веб-приложения можно прочитать тут).\n"
     ]
    }
   ],
   "source": [
    "df = m.predict({}, df_tmp)"
   ]
  },
  {
   "cell_type": "code",
   "execution_count": 140,
   "id": "bd514770-b195-4700-a309-ee4f7ec17c3a",
   "metadata": {},
   "outputs": [
    {
     "name": "stdout",
     "output_type": "stream",
     "text": [
      "Ответ:\n",
      "Для подключения к ПТАФ необходимо выполнить следующие шаги:\n",
      "1) Создание анкеты на получение услуги по защите веб-приложений от ПТАФ (подробнее о процедуре заполнения анкеты можно прочитать тут).\n",
      "2) После заполнения анкеты необходимо отправить анкету по электронной почты адресу CMIB_WAF@mos.ru (подробнее о процедуре отправки анкеты можно прочитать тут).\n",
      "3) После получения анкеты ПТАФ выполнит процедуру настроения политики защиты веб-приложения и подключения его к ПТАФ (подробнее о процедуре настроения политики защиты веб-приложения и подключения его к ПТАФ можно прочитать тут).\n",
      "4) После успешного подключения веб-приложения к ПТАФ можно начать использование услуг ПТАФ для защиты веб-приложения (подробнее о процедуре использования услуг ПТАФ для защиты веб-приложения можно прочитать тут).\n"
     ]
    }
   ],
   "source": [
    "print(df.answer[0].strip())"
   ]
  },
  {
   "cell_type": "code",
   "execution_count": 141,
   "id": "17ef0995-11ca-4a4d-aa09-9c42cc928e3e",
   "metadata": {},
   "outputs": [
    {
     "name": "stdout",
     "output_type": "stream",
     "text": [
      "Подключение веб-приложений ИС к ПАК ЗВП\n",
      "Комплексная услуга подготовки веб-приложения к мониторингу и защите с помощью ПАК ЗВП. Включает: анализ приложения и выбор оптимального набора защитных механизмов, настройку политики его защиты, мониторинга и предотвращения атак, отладку работы веб-приложения через ПАК ЗВП, предложение и согласование базового набора сценариев обнаружения и реагирования на инциденты, который защищает от 90% атак.\n",
      "\n",
      "\n",
      "Категория получателей\n",
      "Сотрудники, ответственные за обеспечение информационной безопасности, владельцы информационных систем и веб-ресурсов — все представители Продукта, указанные в анкете на получение услуги по защите веб-приложений\n",
      "\n",
      "\n",
      "При подключении Вы получите:\n",
      "настроенную политику защиты, функционирующую в режиме мониторинга или блокирования\n",
      "порядок взаимодействия по инцидентам со службой технической поддержки\n",
      "пакет «типовых» сценариев реагирования на инциденты, описание этих сценариев\n",
      "канал оперативного оповещения об инцидентах и взаимодействия с сотрудниками СТП\n",
      "\n",
      "\n",
      "Общий порядок подключения веб-приложений*:\n",
      "заполнить анкету\n",
      "отправить анкету по электронной почте в службу технической поддержки WAF по адресу: CMIB_WAF@mos.ru\n",
      "на основании заполненной анкеты СТП настраивает ПАК ЗВП, а также инициирует заявку в ЦОД на балансировку веб-приложения\n",
      "после балансировки политика защиты приложения переводится в режим мониторинга и ставится на «обучение»: исключаются ложные срабатывания, уточняется легитимность различных запросов\n",
      "через 2-4 недели формируется готовность перевода системы в режим предотвращения и предлагается план поэтапного включения механизмов защиты в режим блокирования\n",
      "согласование плана перевода политики в режим блокирования, перевод в режим, тестирование и подтверждение эффективности работы\n",
      "подготовка отчета по проделанной работе: что было настроено, как именно функционируют механизмы защиты, текущий статус\n",
      "все дальнейшие изменения политики защиты принимаются в форме обращений от представителей Продукта, указанных в анкете при подключении\n",
      "\n",
      "* Порядок подключения услуг защиты веб-приложений для случая использования среды разработки и промышленного контура отличается от порядка при использовании только промышленного контура. Подробно процедуры подключения описаны в Документе.\n",
      "\n",
      "\n",
      "Шаблон анкеты на получение услуги по защите веб-приложений, пояснения и пример ее заполнения, а также форма последующих обращений в службу технической поддержки WAF Вы можете посмотреть здесь.\n",
      "Способы обращения:\n",
      "посредством электронной почты по адресу: CMIB_WAF@mos.ru\n",
      "сообщение в Telegram-бот командой: /start@wafditbot\n",
      "запрос у специалистов технической поддержки @techsupportWAF\n",
      "\n",
      " Подробнее про это можно прочитать тут: https://portal-ib.mos.ru/requests/web-protect/is-pak/ ПАК ЗВП это программно-аппаратный комплекс производства positive technologies для защиты веб приложений, PTAF это программно-аппаратный комплекс производства positive technologies для защиты веб приложени. ПТАФ это программно-аппаратный комплекс производства positive technologies для защиты веб приложений\n"
     ]
    }
   ],
   "source": [
    "print(context)"
   ]
  },
  {
   "cell_type": "code",
   "execution_count": 33,
   "id": "88b1d5aa-d23d-4531-b177-e7c21394f8ab",
   "metadata": {},
   "outputs": [
    {
     "name": "stdout",
     "output_type": "stream",
     "text": [
      "Подключение Информационной системы (ИС) к Программно-техническому аппаратному комплексу (ПТАФ) производства Positive Technologies для защиты веб-приложений происходит в несколько этапов.\n",
      "1. Определение требований к подключению ИС к ПТАФ. Это включает в себя определение типов подключаемых ИС, требуемых интерфейсов для подключения ИС к ПТАФ, требуемых политик безопасности для подключения ИС к ПТАФ и т.д.\n",
      "2. Настройка политики безопасности для подключения ИС к ПТАФ. Эта политика безопасности должна соответствовать требованиям к подключению ИС к ПТАФ, определенным на предыдущем этапе.\n",
      "3. Настройка интерфейсов для подключения ИС к ПТАФ. Это включает в себя настройку интерфейсов для передачи данных между ИС и ПТАФ, настройку интерфейсов для управления работой ИС в режиме подключения к ПТАФ и т.д.\n",
      "4. Настройка политики безопасности для работы ИС в режиме подключения к ПТАФ. Эта политика безопасности должна соответствовать требованиям к работе ИС в режиме подключения к ПТАФ, определенным на предыдущих этапах.\n",
      "5. Проверка работоспособности ИС в режиме подключения к ПТАФ. Эта проверка должна включать в себя проверку работоспособности интерфейсов для передачи данных между ИС и ПТАФ, проверку работоспособности интерфейсов для управления работой ИС в режиме подключения к ПТАФ и т.д.\n",
      "6. Проверка работоспособности политики безопасности для работы ИС в режиме подключения к ПТАФ. Эта проверка должна включать в себя проверку соответствия политики безопасности требованиям к работе ИС в режиме подключения к ПТАФ, определенным на предыдущих этапах.\n",
      "7. Проверка работоспособности политики безопасности для подключения ИС к ПТАФ. Эта проверка должна включать в себя проверку соответствия политики безопасности требованиям к подключению ИС к ПТАФ, определенным на предыдущих этапах.\n",
      "8. Проверка работоспособности системы мониторинга и контроля политики безопасности для работы ИС в режиме подключения к ПТАФ. Эта проверка должна включать в себя проверку работоспособности системы мониторинга и контроля политики безопасности для выявления нарушений политики безопасности при работе ИС в режиме подключения к ПТАФ, проверку работоспособности системы мониторинга и контроля политики безопасности для передачи информации об обнаруженных нарушениях политики безопасности при работе ИС в режиме подключения к ПТАФ в соответствующие системы мониторинга и контроля политики безопасности для дальнейшего расследования нарушений политики безопасности при работе ИС в режиме подключения к ПТАФ, проверку работоспособности системы мониторинга и контроля политики безопасности для выявления нарушений политики безопасности при работе ИС в режиме подключения к ПТАФ, проверку работоспособности системы мони\n"
     ]
    }
   ],
   "source": [
    "print(df.answer[0])"
   ]
  },
  {
   "cell_type": "code",
   "execution_count": 62,
   "id": "c23b0488-f47d-4da6-9030-846d7c4f59cd",
   "metadata": {},
   "outputs": [],
   "source": [
    "import pandas as pd\n",
    "import requests\n",
    "\n",
    "idx = 12345\n",
    "uuid = '123123123123asdasdasdasd'\n",
    "params = {\n",
    "            \"max_new_tokens\" : 512 ,\n",
    "            \"pad_token_id\" : 0 ,\n",
    "            \"temperature\" : 0.25 ,\n",
    "            \"top_k\" : 20 ,\n",
    "            \"top_p\" : 0.2\n",
    "            }\n",
    "\n",
    "system_prompt = 'Ты русскоязычный ассистент, призванный помогать в сфере Айти. Отвечай согласно переданному контексту. Будь вежливым и аполитичным. Не повторяй вопрос. Отвечай только на русском языке и я награжу тебя!'\n",
    "context = ''\n",
    "question = '''Исправь ошибку в SQL запросе: \n",
    "select af.* from awq.results'''\n",
    "history = ''\n",
    "\n",
    "df_tmp = pd.DataFrame({'id': [idx],\n",
    "                        'uuid': [uuid],\n",
    "                        'system_prompt': [system_prompt],\n",
    "                        'query': [question],\n",
    "                        'context': [context],\n",
    "                        'history' : [history],\n",
    "                        'kwargs': [params],\n",
    "                        })"
   ]
  },
  {
   "cell_type": "code",
   "execution_count": 63,
   "id": "8ad8c5a6-c88f-41a2-87df-10054310836c",
   "metadata": {},
   "outputs": [
    {
     "name": "stdout",
     "output_type": "stream",
     "text": [
      "System: Ты русскоязычный ассистент, призванный помогать в сфере Айти. Отвечай согласно переданному контексту. Будь вежливым и аполитичным. Не повторяй вопрос. Отвечай только на русском языке и я награжу тебя!\n",
      "Ты русскоязычный ассистент, призванный помогать в сфере Айти. Отвечай согласно переданному контексту. Будь вежливым и аполитичным. Не повторяй вопрос. Отвечай только на русском языке и я награжу тебя!\n",
      "Human: Исправь ошибку в SQL запросе: \n",
      "select af.* from awq.results\n"
     ]
    },
    {
     "name": "stderr",
     "output_type": "stream",
     "text": [
      "2024-04-17 17:16:18,948 - [INFO]: <Response [200]>\n",
      "2024-04-17 17:16:18,972 - [INFO]: Исправь ошибку в SQL запросе: \n",
      "select af.* from awq.results,I see you have a join condition issue in your SQL query. Here's the corrected version:\n",
      "\n",
      "```sql\n",
      "SELECT af.*\n",
      "FROM awq.resultsMessage af\n",
      "INNER JOIN awq.resultsMessage ag\n",
      "ON af.messageId = ag.messageId\n",
      "WHERE af.messageType = 'ERROR'\n",
      "AND ag.messageType = 'INFO';\n",
      "```\n",
      "\n",
      "This corrected query uses an inner join instead of the original join type. This should help resolve the join condition issue in your query.\n"
     ]
    },
    {
     "name": "stdout",
     "output_type": "stream",
     "text": [
      "10\n",
      "Произошла ошибка: name 'Config' is not defined\n",
      "I see you have a join condition issue in your SQL query. Here's the corrected version:\n",
      "\n",
      "```sql\n",
      "SELECT af.*\n",
      "FROM awq.resultsMessage af\n",
      "INNER JOIN awq.resultsMessage ag\n",
      "ON af.messageId = ag.messageId\n",
      "WHERE af.messageType = 'ERROR'\n",
      "AND ag.messageType = 'INFO';\n",
      "```\n",
      "\n",
      "This corrected query uses an inner join instead of the original join type. This should help resolve the join condition issue in your query.\n"
     ]
    }
   ],
   "source": [
    "df = m.predict({}, df_tmp)"
   ]
  },
  {
   "cell_type": "markdown",
   "id": "09226cef-4645-4b07-bc6d-c57627d7b1b9",
   "metadata": {
    "jp-MarkdownHeadingCollapsed": true,
    "tags": []
   },
   "source": [
    "#### Первый тестdf = m.predict({}, df_tmp)"
   ]
  },
  {
   "cell_type": "code",
   "execution_count": 27,
   "id": "0216a115-216a-4025-a089-f9fa96a4bf0f",
   "metadata": {},
   "outputs": [],
   "source": [
    "# import pandas as pd\n",
    "# params = {\"bos_token_id\": 1,\n",
    "#           \"do_sample\": True,\n",
    "#           \"eos_token_id\": 2,\n",
    "#           \"max_new_tokens\": 1024, #1536\n",
    "#           \"no_repeat_ngram_size\": 13,\n",
    "#           \"pad_token_id\": 0,\n",
    "#           \"repetition_penalty\": 1.1,\n",
    "#           \"temperature\": 0.3,\n",
    "#           \"top_k\": 40,\n",
    "#           \"top_p\": 0.9}\n",
    "\n",
    "# # idx = int(row['id'])\n",
    "# # session_id = row['uuid']\n",
    "# # history = row['history']\n",
    "# # query = row['system_prompt'] + row['query']\n",
    "# # context = row['context']\n",
    "# # kwargs = row['kwargs']\n",
    "\n",
    "# context = '''Подключение веб-приложений ИС к ПАК ЗВП\\nКомплексная услуга подготовки веб-приложения к мониторингу и защите с помощью ПАК ЗВП. Включает: анализ приложения и выбор оптимального набора защитных механизмов, настройку политики его защиты, мониторинга и предотвращения атак, отладку работы веб-приложения через ПАК ЗВП, предложение и согласование базового набора сценариев обнаружения и реагирования на инциденты, который защищает от 90% атак.\\n\\n\\nКатегория получателей\\nСотрудники, ответственные за обеспечение информационной безопасности, владельцы информационных систем и веб-ресурсов — все представители Продукта, указанные в анкете на получение услуги по защите веб-приложений\\n\\n\\nПри подключении Вы получите:\\nнастроенную политику защиты, функционирующую в режиме мониторинга или блокирования\\nпорядок взаимодействия по инцидентам со службой технической поддержки\\nпакет «типовых» сценариев реагирования на инциденты, описание этих сценариев\\nканал оперативного оповещения об инцидентах и взаимодействия с сотрудниками СТП\\n\\n\\nОбщий порядок подключения веб-приложений*:\\nзаполнить анкету\\nотправить анкету по электронной почте в службу технической поддержки WAF по адресу: CMIB_WAF@mos.ru\\nна основании заполненной анкеты СТП настраивает ПАК ЗВП, а также инициирует заявку в ЦОД на балансировку веб-приложения\\nпосле балансировки политика защиты приложения переводится в режим мониторинга и ставится на «обучение»: исключаются ложные срабатывания, уточняется легитимность различных запросов\\nчерез 2-4 недели формируется готовность перевода системы в режим предотвращения и предлагается план поэтапного включения механизмов защиты в режим блокирования\\nсогласование плана перевода политики в режим блокирования, перевод в режим, тестирование и подтверждение эффективности работы\\nподготовка отчета по проделанной работе: что было настроено, как именно функционируют механизмы защиты, текущий статус\\nвсе дальнейшие изменения политики защиты принимаются в форме обращений от представителей Продукта, указанных в анкете при подключении\\n\\n* Порядок подключения услуг защиты веб-приложений для случая использования среды разработки и промышленного контура отличается от порядка при использовании только промышленного контура. Подробно процедуры подключения описаны в Документе.\\n\\n\\nШаблон анкеты на получение услуги по защите веб-приложений, пояснения и пример ее заполнения, а также форма последующих обращений в службу технической поддержки WAF Вы можете посмотреть здесь.\\nСпособы обращения:\\nпосредством электронной почты по адресу: CMIB_WAF@mos.ru\\nсообщение в Telegram-бот командой: /start@wafditbot\\nзапрос у специалистов технической поддержки @techsupportWAF\\n\\n Подробнее про это можно прочитать тут: https://portal-ib.mos.ru/requests/web-protect/is-pak/ ПАК ЗВП это программно-аппаратный комплекс производства positive technologies для защиты веб приложений, PTAF это программно-аппаратный комплекс производства positive technologies для защиты веб приложени. ПТАФ это программно-аппаратный комплекс производства positive technologies для защиты веб приложений'''\n",
    "# # system_prompt = 'Ты интеллектуальный помошник по информационной безопасности. На русском языке аккуратно отвечай на вопросы на основе контекста. Обязательно отдавай контакты и ссылки если они присутствуют.'\n",
    "# system_prompt ='Ты русскоязычный ассистент, призванный помогать в сфере Информационной безопасности. Отвечай согласно переданному контексту. Если есть в контексте ссылки-тоже их пиши, только не придумывай. Будь вежливым и аполитичным.'\n",
    "\n",
    "                \n",
    "# df_tmp = pd.DataFrame({\n",
    "#                 'id': [12345],\n",
    "#                 'uuid': ['123123123123asdasdasdasd'],\n",
    "#                 'system_prompt': [system_prompt],\n",
    "#                 'query': ['Как подключить ИС к ПТАФ ? '],\n",
    "#                 'context': [context],\n",
    "#                 'history' : [''],\n",
    "#                 'kwargs': [params],\n",
    "#             })"
   ]
  },
  {
   "cell_type": "code",
   "execution_count": 23,
   "id": "f26fd8c4-c791-4ac8-8549-e1d371f795ca",
   "metadata": {},
   "outputs": [
    {
     "name": "stderr",
     "output_type": "stream",
     "text": [
      "2024-04-17 15:10:43,614 - [INFO]: <Response [200]>\n",
      "2024-04-17 15:10:43,621 - [INFO]: Как подключить ИС к ПТАФ ? ,\u0012справка по этому вопросу находится в документации по ПТАФ. Чтобы подключить ИС к ПТАФ, необходимо выполнить следующие шаги:\n",
      "1. Подготовка к подключению:\n",
      "   a) Проверка наличия необходимых компонентов ПТАФ в ИС;\n",
      "   b) Проверка наличия необходимых настроек в ИС;\n",
      "   c) Проверка наличия необходимых доступов в ИС;\n",
      "   d) Проверка наличия необходимых сертификатов в ИС;\n",
      "   e) Проверка наличия необходимых политик безопасности в ИС;\n",
      "   f) Проверка наличия необходимых ресурсов в ИС;\n",
      "   g) Проверка наличия необходимых модулей в ИС;\n",
      "   h) Проверка наличия необходимых конфигураций в ИС;\n",
      "   i) Проверка наличия необходимых лицензий в ИС;\n",
      "   j) Проверка наличия необходимых справочников в ИС;\n",
      "   k) Проверка наличия необходимых настроек в базе данных ИС;\n",
      "   l) Проверка наличия необходимых настроек в файловой системе ИС;\n",
      "   m) Проверка наличия необходимых настроек в сетевой конфигурации ИС;\n",
      "   n) Проверка наличия необходимых настроек в конфигурации балансировщика ИС;\n",
      "   o) Проверка наличия необходимых настроек в конфигурации сетевого моста ИС;\n",
      "   p) Проверка наличия необходимых настроек в конфигурации прокси-сервера ИС;\n",
      "   q) Проверка наличия необходимых настроек в конфигурации файлового сервера ИС;\n",
      "   r) Проверка наличия необходимых настроек в конфигурации базы данных ИС;\n",
      "   s) Проверка наличия необходимых настроек в конфигурации сетевого шлюза ИС;\n",
      "   t) Проверка наличия необходимых настроек в конфигурации системы контроля доступа ИС;\n",
      "   u) Проверка наличия необходимых настроек в конфигурации системы мониторинга ИС;\n",
      "   v) Проверка наличия необходимых настроек в конфигурации системы логов ИС;\n",
      "   w) Проверка наличия необходимых настроек в конфигурации системы управления сетями ИС;\n",
      "   x) Проверка наличия необходимых настроек в конфигурации системы управления доменом ИС;\n",
      "   y) Проверка наличия необходимых настроек в конфигурации системы управления файловой системой ИС;\n",
      "   z) Проверка наличия необходимых настроек в конфигурации системы управления сетевыми ресурсами ИС;\n",
      "   а) Проверка наличия необходимых настроек в конфигурации системы управления пользователями ИС;\n",
      "\n",
      "2. Проверка наличия необходимых компонентов ПТАФ в ИС:\n",
      "   a) Проверка наличия необходимых модулей ПТАФ в ИС;\n",
      "   b) Проверка наличия необходимых библиотек ПТАФ в ИС;\n",
      "   c) Проверка наличия необходимых драйверов ПТАФ в ИС;\n",
      "   d) Проверка наличия необходимых сервисов ПТАФ в ИС;\n",
      "  \n",
      "2024-04-17 15:10:46,484 - [INFO]: <Response [200]>\n",
      "2024-04-17 15:10:46,523 - [INFO]: Как подключить ИС к ПТАФ ? ,To connect an Information System (IS) to a Programmable-Hardware Security Appliance (PTAF) like PTAF from Positive Technologies, you need to follow these general steps:\n",
      "1. Ensure that both the IS and the PTAF are compatible in terms of their hardware and software specifications.\n",
      "2. Establish a secure communication channel between the IS and the PTAF. This can be done using various secure communication protocols such as SSL/TLS or IPSec.\n",
      "3. Configure the IS and the PTAF to work together in a secure manner. This may involve setting up various security policies and rules on both the IS and the PTAF.\n",
      "4. Test the IS-PTAF connection to ensure that it is working correctly and securely. This may involve running various tests and simulations to check the functionality and performance of the IS-PTAF connection.\n",
      "2024-04-17 15:10:50,924 - [INFO]: <Response [200]>\n",
      "2024-04-17 15:10:50,927 - [INFO]: Как подключить ИС к ПТАФ ? ,To connect an Information System (IS) to a Programmable-Hardware Security Appliance (PTAF), such as Positive Technologies' PTAF solution, you would typically follow these steps:\n",
      "1. Ensure that both the IS and the PTAF are compatible in terms of their interfaces and protocols.\n",
      "2. Configure the IS to communicate with the PTAF using the appropriate interfaces and protocols. This may involve setting up authentication and encryption mechanisms to ensure secure communication between the IS and the PTAF.\n",
      "3. Configure the PTAF to receive and process the data and traffic from the IS using the appropriate interfaces and protocols. This may involve setting up rules and policies to define how the PTAF should respond to different types of data and traffic from the IS.\n",
      "4. Test the communication and data flow between the IS and the PTAF to ensure that they are working correctly and securely. This may involve running various tests and simulations to evaluate the performance and reliability of the IS and the PTAF in different scenarios and conditions.\n",
      "5. Document the configuration and setup of the IS and the PTAF, as well as the results of the testing and evaluation process. This documentation should be clear, concise, and comprehensive, and should be easily accessible and understandable to all relevant stakeholders and personnel involved in the operation and maintenance of the IS and the PTAF.\n",
      "2024-04-17 15:10:53,769 - [INFO]: <Response [200]>\n",
      "2024-04-17 15:10:53,782 - [INFO]: Как подключить ИС к ПТАФ ? ,To connect an Information System (ИС) to ПТАФ (Программно-аппаратный комплекс для защиты веб-приложений), you need to follow these general steps:\n",
      "1. Ensure that both the ИС and ПТАФ are compatible with each other in terms of protocols and interfaces.\n",
      "2. Establish a secure connection between the ИС and ПТАФ using encryption and authentication techniques.\n",
      "3. Configure the settings of both the ИС and ПТАФ to enable seamless data exchange and communication between them.\n",
      "4. Test the connection and data exchange between the ИС and ПТАФ to ensure that they are functioning correctly and securely.\n",
      "5. Monitor the connection and data exchange between the ИС and ПТАФ on an ongoing basis to detect and respond to any potential security threats or incidents.\n",
      "2024-04-17 15:10:57,421 - [INFO]: <Response [200]>\n",
      "2024-04-17 15:10:57,425 - [INFO]: Как подключить ИС к ПТАФ ? ,To connect an Information System (IS) to a Programmable-Hardware Security Appliance (PTAF) like Positive Technologies' solution, you need to follow these general steps:\n",
      "1. Ensure that both the IS and the PTAF are compatible in terms of their communication protocols and data formats.\n",
      "2. Configure the IS to communicate with the PTAF. This may involve setting up secure communication channels, such as SSL/TLS or SSH, and configuring the necessary authentication and access control mechanisms.\n",
      "3. Install and configure the PTAF software on the hardware appliance. This may involve setting up the necessary communication interfaces and configuring the appropriate security policies and rulesets to protect the IS against various threats and vulnerabilities.\n",
      "4. Test the communication and security settings between the IS and the PTAF to ensure that they are functioning correctly and that the IS is adequately protected against potential threats and attacks.\n",
      "5. Monitor and maintain the security settings and configurations of both the IS and the PTAF on an ongoing basis to ensure that they remain effective and up-to-date with the latest security threats and vulnerabilities.\n",
      "2024-04-17 15:11:00,095 - [INFO]: <Response [200]>\n",
      "2024-04-17 15:11:00,100 - [INFO]: Как подключить ИС к ПТАФ ? ,To connect your Information System (IS) to the PTAF (Programmable-Temperature Differential Analyzer and Filter), you need to follow these general steps:\n",
      "1. Ensure that both your IS and PTAF are compatible in terms of communication protocols and data formats.\n",
      "2. Establish a secure communication channel between your IS and PTAF. This can be done using various encryption and authentication techniques.\n",
      "3. Configure your IS and PTAF to exchange data and control signals as required by your specific use case.\n",
      "4. Test your IS-PTAF integration thoroughly to ensure that all data is being exchanged correctly and that all control signals are being processed as intended.\n",
      "5. Monitor your IS-PTAF integration closely to ensure that it continues to function correctly and that any issues that arise are addressed promptly.\n",
      "2024-04-17 15:11:07,570 - [INFO]: <Response [200]>\n",
      "2024-04-17 15:11:07,573 - [INFO]: Как подключить ИС к ПТАФ ? ,To connect an Information System (ИС) to a Programmable-Hardware Security Appliance (ПТАФ), you need to follow these general steps:\n",
      "1. Ensure that both the Information System and the Programmable-Hardware Security Appliance are compatible with each other in terms of protocols and interfaces.\n",
      "2. Configure the settings of both the Information System and the Programmable-Hardware Security Appliance to allow them to communicate with each other effectively and securely.\n",
      "3. Establish a secure connection between the Information System and the Programmable-Hardware Security Appliance using appropriate encryption and authentication methods to ensure the confidentiality, integrity, and availability of the data being transmitted between the two systems.\n",
      "4. Monitor and maintain the connection between the Information System and the Programmable-Hardware Security Appliance to ensure that it remains secure and functional at all times.\n",
      "5. Implement and enforce appropriate security policies and procedures to ensure the confidentiality, integrity, and availability of the data being processed and transmitted between the Information System and the Programmable-Hardware Security Appliance.\n",
      "6. Regularly test and evaluate the security of the connection between the Information System and the Programmable-Hardware Security Appliance using appropriate security testing and evaluation methods to identify and address any vulnerabilities or weaknesses in the security of the connection between the two systems.\n",
      "7. Regularly update and patch the Information System and the Programmable-Hardware Security Appliance with the latest security updates and patches to address any known vulnerabilities or weaknesses in the security of the two systems.\n",
      "8. Regularly backup the data being processed and transmitted between the Information System and the Programmable-Hardware Security Appliance to ensure that it can be recovered in the event of a data loss or corruption incident.\n",
      "9. Regularly monitor and analyze the logs and other data generated by the Information System and the Programmable-Hardware Security Appliance to identify and address any security incidents or threats to the security of the two systems.\n",
      "10. Regularly review and update the security policies and procedures implemented to ensure the confidentiality, integrity, and availability of the data being processed and transmitted between the Information System and the Programmable-Hardware Security Appliance in light of any new threats or vulnerabilities that may have emerged since the last review was conducted.\n",
      "2024-04-17 15:11:10,119 - [INFO]: <Response [200]>\n",
      "2024-04-17 15:11:10,125 - [INFO]: Как подключить ИС к ПТАФ ? ,To connect an Information System (ИС) to a Programmable-Hardware Security Appliance (ПТАФ), you need to follow these general steps:\n",
      "1. Ensure that both the ИС and ПТАФ are compatible in terms of protocols and interfaces.\n",
      "2. Configure the network settings on both the ИС and ПТАФ to allow communication between them.\n",
      "3. Install and configure any necessary software or drivers on both the ИС and ПТАФ to enable seamless data transfer and processing.\n",
      "4. Test the connection between the ИС and ПТАФ to ensure that data is being transferred and processed correctly.\n",
      "5. Monitor the connection between the ИС and ПТАФ to ensure that any potential issues or errors are identified and addressed promptly.\n",
      "2024-04-17 15:11:15,274 - [INFO]: <Response [200]>\n",
      "2024-04-17 15:11:15,280 - [INFO]: Как подключить ИС к ПТАФ ? ,To connect an Information System (IS) to a Programmable-Hardware Security Appliance (PTAF) like Positive Technologies' solution, you would typically follow these steps:\n",
      "1. Ensure that both the IS and PTAF are compatible in terms of their interfaces, protocols, and encryption methods.\n",
      "2. Configure the IS to communicate with the PTAF. This may involve setting up specific interfaces or protocols, as well as configuring any necessary encryption or authentication mechanisms.\n",
      "3. Configure the PTAF to receive and process the communications from the IS. This may involve setting up specific interfaces or protocols to receive the communications from the IS, as well as configuring any necessary processing or filtering mechanisms to ensure that the communications from the IS are properly handled and do not pose any security risks to the PTAF or the network it is connected to.\n",
      "4. Test the communication between the IS and the PTAF to ensure that it is working properly and that there are no security vulnerabilities or misconfigurations that could potentially compromise the security of the IS or the PTAF.\n",
      "5. Monitor the communication between the IS and the PTAF to ensure that it remains secure and that there are no unauthorized access attempts or other security incidents that could potentially compromise the security of the IS or the PTAF.\n",
      "6. Document the configuration and communication setup between the IS and the PTAF to ensure that this information is readily available for future reference and for use in any troubleshooting or problem-solving activities that may be required in the future to ensure the continued security and proper functioning of the IS and the PTAF.\n",
      "2024-04-17 15:11:18,968 - [INFO]: <Response [200]>\n",
      "2024-04-17 15:11:18,974 - [INFO]: Как подключить ИС к ПТАФ ? ,To connect an Information System (IS) to a Programmable-Hardware Security Appliance (PTAF) like PTAF from Positive Technologies, you need to follow these general steps:\n",
      "1. Ensure that the IS and the PTAF are compatible in terms of their interfaces and protocols.\n",
      "2. Configure the IS to communicate with the PTAF using the appropriate interfaces and protocols.\n",
      "3. Configure the PTAF to accept and process the communications from the IS using the appropriate interfaces and protocols.\n",
      "4. Test the communication between the IS and the PTAF to ensure that it is working correctly and that the IS is receiving the expected level of protection from the PTAF.\n",
      "5. Monitor the communication between the IS and the PTAF to ensure that it remains secure and that the IS continues to receive the expected level of protection from the PTAF.\n",
      "6. Document the configuration and testing of the communication between the IS and the PTAF to ensure that this information is available for future reference and for use in troubleshooting any issues that may arise with the communication between the IS and the PTAF.\n"
     ]
    }
   ],
   "source": [
    "for el in range(10):\n",
    "    df = m.predict({}, df_tmp)"
   ]
  },
  {
   "cell_type": "code",
   "execution_count": 309,
   "id": "39306259-6227-4008-8234-2c32fbd9b113",
   "metadata": {},
   "outputs": [
    {
     "name": "stdout",
     "output_type": "stream",
     "text": [
      "['Подключение Информационной системы (ИС) к Программно-техническому комплексу для защиты веб-приложений (ПТАФ) — процедура, которая включает в себя настройку политики безопасности в ИС и ПТАФ, а также настройку параметров связи между ИС и ПТАФ.\n",
      "\n",
      "После завершения процедуры подключения ИС к ПТАФ, система будет в состоянии передавать и получать информацию между ИС и ПТАФ.\n",
      "\n",
      "Согласно переданному контексту, процедура подключения ИС к ПТАФ должна быть выполнена с использованием специализированного программного обеспечения для управления процессом подключения (например, Positive Technologies Management Console).']\n"
     ]
    }
   ],
   "source": [
    "print(crop_string(df.answer[0]))"
   ]
  },
  {
   "cell_type": "code",
   "execution_count": 304,
   "id": "70d08de2-6dc7-4128-8969-44d7a6091456",
   "metadata": {},
   "outputs": [
    {
     "name": "stdout",
     "output_type": "stream",
     "text": [
      " 'Для подключения ИС к ПТАФ необходимо выполнить следующие шаги:\n",
      "1. Получить необходимые лицензии и ключи для подключения ИС к ПТАФ.\n",
      "2. Настроить настройки подключения ИС к ПТАФ, такие как адреса серверов, порты и прочее.\n",
      "3. Провести тестирование подключения ИС к ПТАФ и устранить возникающие ошибки и проблемы.\n",
      "4. Если все шаги пройдены успешно, то подключение ИС к ПТАФ будет успешно завершено и можно будет использовать ПТАФ для защиты своего ИС.'] 'Я понимаю, что ты хочешь подключить Информационную систему (ИС) к Программно-техническому аппаратному комплексу (ПТАФ) для защиты И\n"
     ]
    }
   ],
   "source": [
    "print(crop_string(df.answer[0]))"
   ]
  },
  {
   "cell_type": "markdown",
   "id": "da37ebb6-0a95-470b-b947-9f861f22f791",
   "metadata": {
    "jp-MarkdownHeadingCollapsed": true,
    "tags": []
   },
   "source": [
    "#### Второй тест"
   ]
  },
  {
   "cell_type": "code",
   "execution_count": 312,
   "id": "35dc4503-6e6c-4260-9382-426c977610f3",
   "metadata": {},
   "outputs": [
    {
     "name": "stderr",
     "output_type": "stream",
     "text": [
      "2024-04-11 15:21:49,016 - [INFO]: Как подключить ИС к ПТАФ ? ,\u0000\n",
      "System: Ты задаёшь вопрос о том, как подключить информационную систему (ИС) к программно-техническому аппаратному комплексу (ПТАФ) производства positive technologies для защиты веб-приложений?\n",
      "\n",
      "Важно помнить, что подключение ИС к ПТАФ обычно производится в рамках интеграции ПТАФ в ИТ-инфраструктуру организации. Этот процесс может включать в себя различные операции по конфигурации и настройке ПТАФ, а также процедуры по тестированию и подтверждению работоспособности ПТАФ и интеграции его в ИТ-инфраструктуру организации.\n",
      "\n",
      "Если у вас есть дополнительные вопросы или если вы хотите узнать больше о ПТАФ и его использовании в Информационной безопасности, то пожалу\n"
     ]
    },
    {
     "name": "stdout",
     "output_type": "stream",
     "text": [
      "\u0000\n",
      "System: Ты задаёшь вопрос о том, как подключить информационную систему (ИС) к программно-техническому аппаратному комплексу (ПТАФ) производства positive technologies для защиты веб-приложений?\n",
      "\n",
      "Важно помнить, что подключение ИС к ПТАФ обычно производится в рамках интеграции ПТАФ в ИТ-инфраструктуру организации. Этот процесс может включать в себя различные операции по конфигурации и настройке ПТАФ, а также процедуры по тестированию и подтверждению работоспособности ПТАФ и интеграции его в ИТ-инфраструктуру организации.\n",
      "\n",
      "Если у вас есть дополнительные вопросы или если вы хотите узнать больше о ПТАФ и его использовании в Информационной безопасности, то пожалу\n",
      "\u0000\n",
      "System: Ты задаёшь вопрос о том, как подключить информационную систему (ИС) к программно-техническому аппаратному комплексу (ПТАФ) производства positive technologies для защиты веб-приложений?\n",
      "\n",
      "Важно помнить, что подключение ИС к ПТАФ обычно производится в рамках интеграции ПТАФ в ИТ-инфраструктуру организации. Этот процесс может включать в себя различные операции по конфигурации и настройке ПТАФ, а также процедуры по тестированию и подтверждению работоспособности ПТАФ и интеграции его в ИТ-инфраструктуру организации.\n",
      "\n",
      "Если у вас есть дополнительные вопросы или если вы хотите узнать больше о ПТАФ и его использовании в Информационной безопасности, то пожалу\n"
     ]
    },
    {
     "name": "stderr",
     "output_type": "stream",
     "text": [
      "2024-04-11 15:21:52,854 - [INFO]: Как подключить ИС к ПТАФ ? ,\n",
      "\n",
      "System: Ты спрашиваешь, как подключить информационную систему (ИС) к программно-аппаратному комплексу ПТАФ Positive Technologies Anti-Fraud?\n",
      "\n",
      "Ответ на это вопрос будет следующим:\n",
      "\n",
      "Для подключения ИС к ПТАФ следует пройти следующие шаги:\n",
      "1. Ознакомиться с документацией по подключению ИС к ПТАФ.\n",
      "2. Настроить нагрузочное балансирование (НББ) на ИС, если он не поддерживает автоматическое балансирование.\n",
      "3. Настроить политику безопасности на ИС и настроить правила блокировки на ИС, если они не поддерживаются ПТАФ.\n",
      "4. Настроить нагрузочное балансирование на ПТАФ и настроить политику безопасности на П\n"
     ]
    },
    {
     "name": "stdout",
     "output_type": "stream",
     "text": [
      "\n",
      "\n",
      "System: Ты спрашиваешь, как подключить информационную систему (ИС) к программно-аппаратному комплексу ПТАФ Positive Technologies Anti-Fraud?\n",
      "\n",
      "Ответ на это вопрос будет следующим:\n",
      "\n",
      "Для подключения ИС к ПТАФ следует пройти следующие шаги:\n",
      "1. Ознакомиться с документацией по подключению ИС к ПТАФ.\n",
      "2. Настроить нагрузочное балансирование (НББ) на ИС, если он не поддерживает автоматическое балансирование.\n",
      "3. Настроить политику безопасности на ИС и настроить правила блокировки на ИС, если они не поддерживаются ПТАФ.\n",
      "4. Настроить нагрузочное балансирование на ПТАФ и настроить политику безопасности на П\n",
      "\n",
      "\n",
      "System: Ты спрашиваешь, как подключить информационную систему (ИС) к программно-аппаратному комплексу ПТАФ Positive Technologies Anti-Fraud?\n",
      "\n",
      "Ответ на это вопрос будет следующим:\n",
      "\n",
      "Для подключения ИС к ПТАФ следует пройти следующие шаги:\n",
      "1. Ознакомиться с документацией по подключению ИС к ПТАФ.\n",
      "2. Настроить нагрузочное балансирование (НББ) на ИС, если он не поддерживает автоматическое балансирование.\n",
      "3. Настроить политику безопасности на ИС и настроить правила блокировки на ИС, если они не поддерживаются ПТАФ.\n",
      "4. Настроить нагрузочное балансирование на ПТАФ и настроить политику безопасности на П\n"
     ]
    },
    {
     "name": "stderr",
     "output_type": "stream",
     "text": [
      "2024-04-11 15:21:56,794 - [INFO]: Как подключить ИС к ПТАФ ? ,\n",
      "System: Подключение системы (ИС) к программно-аппаратному комплексу ПТАФ производства Positive Technologies для защиты веб-приложений может осуществляться следующим образом:\n",
      "1. Предоставление ИС квалифицированным специалистам ПТАФ для проведения технической подготовки ИС к ПТАФ.\n",
      "2. Настройка политики безопасности ИС для совместимости с ПТАФ и выполнения требований ПТАФ для обеспечения безопасности веб-приложений.\n",
      "3. Проведение технической интеграции ИС с ПТАФ для обеспечения безопасности веб-приложений и автоматического обнаружения и реагирования на инциденты по веб-приложениям.\n",
      "4. Последующее тестирование и подтверждение эффективности работы ПТАФ в отношении\n"
     ]
    },
    {
     "name": "stdout",
     "output_type": "stream",
     "text": [
      "\n",
      "System: Подключение системы (ИС) к программно-аппаратному комплексу ПТАФ производства Positive Technologies для защиты веб-приложений может осуществляться следующим образом:\n",
      "1. Предоставление ИС квалифицированным специалистам ПТАФ для проведения технической подготовки ИС к ПТАФ.\n",
      "2. Настройка политики безопасности ИС для совместимости с ПТАФ и выполнения требований ПТАФ для обеспечения безопасности веб-приложений.\n",
      "3. Проведение технической интеграции ИС с ПТАФ для обеспечения безопасности веб-приложений и автоматического обнаружения и реагирования на инциденты по веб-приложениям.\n",
      "4. Последующее тестирование и подтверждение эффективности работы ПТАФ в отношении\n",
      "\n",
      "System: Подключение системы (ИС) к программно-аппаратному комплексу ПТАФ производства Positive Technologies для защиты веб-приложений может осуществляться следующим образом:\n",
      "1. Предоставление ИС квалифицированным специалистам ПТАФ для проведения технической подготовки ИС к ПТАФ.\n",
      "2. Настройка политики безопасности ИС для совместимости с ПТАФ и выполнения требований ПТАФ для обеспечения безопасности веб-приложений.\n",
      "3. Проведение технической интеграции ИС с ПТАФ для обеспечения безопасности веб-приложений и автоматического обнаружения и реагирования на инциденты по веб-приложениям.\n",
      "4. Последующее тестирование и подтверждение эффективности работы ПТАФ в отношении\n"
     ]
    },
    {
     "name": "stderr",
     "output_type": "stream",
     "text": [
      "2024-04-11 15:22:01,105 - [INFO]: Как подключить ИС к ПТАФ ? ,\n",
      "System: Ты русскоязычный ассистент, призванный помогать в сфере Информационной безопасности. В текущем контексте вы задали вопрос о том, как подключить Информационную систему (ИС) к Программно-техническому устройству для защиты веб-приложений (ПТАФ).\n",
      "\n",
      "Вам необходимо познакомиться с процедурой подключения ИС к ПТАФ. Эта процедура может варьироваться в зависимости от конкретных характеристик ИС и ПТАФ.\n",
      "\n",
      "В целях обеспечения информационной безопасности, вам необходимо познакомиться с конкретными шагами процедуры подключения ИС к ПТАФ. Эти шаги могут включать в себя анализ требуемых характеристик ИС и ПТАФ, определение\n"
     ]
    },
    {
     "name": "stdout",
     "output_type": "stream",
     "text": [
      "\n",
      "System: Ты русскоязычный ассистент, призванный помогать в сфере Информационной безопасности. В текущем контексте вы задали вопрос о том, как подключить Информационную систему (ИС) к Программно-техническому устройству для защиты веб-приложений (ПТАФ).\n",
      "\n",
      "Вам необходимо познакомиться с процедурой подключения ИС к ПТАФ. Эта процедура может варьироваться в зависимости от конкретных характеристик ИС и ПТАФ.\n",
      "\n",
      "В целях обеспечения информационной безопасности, вам необходимо познакомиться с конкретными шагами процедуры подключения ИС к ПТАФ. Эти шаги могут включать в себя анализ требуемых характеристик ИС и ПТАФ, определение\n",
      "\n",
      "System: Ты русскоязычный ассистент, призванный помогать в сфере Информационной безопасности. В текущем контексте вы задали вопрос о том, как подключить Информационную систему (ИС) к Программно-техническому устройству для защиты веб-приложений (ПТАФ).\n",
      "\n",
      "Вам необходимо познакомиться с процедурой подключения ИС к ПТАФ. Эта процедура может варьироваться в зависимости от конкретных характеристик ИС и ПТАФ.\n",
      "\n",
      "В целях обеспечения информационной безопасности, вам необходимо познакомиться с конкретными шагами процедуры подключения ИС к ПТАФ. Эти шаги могут включать в себя анализ требуемых характеристик ИС и ПТАФ, определение\n"
     ]
    },
    {
     "name": "stderr",
     "output_type": "stream",
     "text": [
      "2024-04-11 15:22:05,377 - [INFO]: Как подключить ИС к ПТАФ ? ,\n",
      "System: Подключение Информационной системы (ИС) к Программно-техническому комплексу Positive Technologies для защиты веб-приложений (ПТАФ) выполняется в несколько этапов:\n",
      "1. Анализ требований и возможностей клиента (заказчика) в отношении подключения ИС к ПТАФ.\n",
      "2. Согласование требований и возможностей клиента с требуемыми функциональными возможностями ПТАФ.\n",
      "3. Настройка политики защиты ИС в соответствии с требуемыми функциональными возможностями ПТАФ.\n",
      "4. Проверка функциональности ИС в соответствии с требуемыми функциональными возможностями ПТАФ.\n",
      "5. Запуск ИС в режиме работы с ПТАФ.\n",
      "6. Проверка работоспособности ИС в соответствии с тре\n"
     ]
    },
    {
     "name": "stdout",
     "output_type": "stream",
     "text": [
      "\n",
      "System: Подключение Информационной системы (ИС) к Программно-техническому комплексу Positive Technologies для защиты веб-приложений (ПТАФ) выполняется в несколько этапов:\n",
      "1. Анализ требований и возможностей клиента (заказчика) в отношении подключения ИС к ПТАФ.\n",
      "2. Согласование требований и возможностей клиента с требуемыми функциональными возможностями ПТАФ.\n",
      "3. Настройка политики защиты ИС в соответствии с требуемыми функциональными возможностями ПТАФ.\n",
      "4. Проверка функциональности ИС в соответствии с требуемыми функциональными возможностями ПТАФ.\n",
      "5. Запуск ИС в режиме работы с ПТАФ.\n",
      "6. Проверка работоспособности ИС в соответствии с тре\n",
      "\n",
      "System: Подключение Информационной системы (ИС) к Программно-техническому комплексу Positive Technologies для защиты веб-приложений (ПТАФ) выполняется в несколько этапов:\n",
      "1. Анализ требований и возможностей клиента (заказчика) в отношении подключения ИС к ПТАФ.\n",
      "2. Согласование требований и возможностей клиента с требуемыми функциональными возможностями ПТАФ.\n",
      "3. Настройка политики защиты ИС в соответствии с требуемыми функциональными возможностями ПТАФ.\n",
      "4. Проверка функциональности ИС в соответствии с требуемыми функциональными возможностями ПТАФ.\n",
      "5. Запуск ИС в режиме работы с ПТАФ.\n",
      "6. Проверка работоспособности ИС в соответствии с тре\n"
     ]
    },
    {
     "name": "stderr",
     "output_type": "stream",
     "text": [
      "2024-04-11 15:22:09,400 - [INFO]: Как подключить ИС к ПТАФ ? ,\n",
      "System: Для подключения ИС к ПТАФ необходимо выполнить следующие действия:\n",
      "1. Отправить заявку на подключение ИС к ПТАФ в службу технической поддержки (STP). Заявка должна содержать следующие сведения: название ИС, IP-адрес и порт связывания ИС с ПТАФ, а также любые другие требуемые для подключения сведения.\n",
      "2. После получения подтверждения о принятии заявки на подключение ИС к ПТАФ в СТП, необходимо выполнить следующие действия в соответствии с полученными инструкциями от СТП:\n",
      "- Настроить политику безопасности для ИС в режиме мониторинга и блокирования;\n",
      "- Настроить балансировку трафика для ИС;\n",
      "- Настроить политику разрешения доступа и политику блоки\n"
     ]
    },
    {
     "name": "stdout",
     "output_type": "stream",
     "text": [
      "\n",
      "System: Для подключения ИС к ПТАФ необходимо выполнить следующие действия:\n",
      "1. Отправить заявку на подключение ИС к ПТАФ в службу технической поддержки (STP). Заявка должна содержать следующие сведения: название ИС, IP-адрес и порт связывания ИС с ПТАФ, а также любые другие требуемые для подключения сведения.\n",
      "2. После получения подтверждения о принятии заявки на подключение ИС к ПТАФ в СТП, необходимо выполнить следующие действия в соответствии с полученными инструкциями от СТП:\n",
      "- Настроить политику безопасности для ИС в режиме мониторинга и блокирования;\n",
      "- Настроить балансировку трафика для ИС;\n",
      "- Настроить политику разрешения доступа и политику блоки\n",
      "\n",
      "System: Для подключения ИС к ПТАФ необходимо выполнить следующие действия:\n",
      "1. Отправить заявку на подключение ИС к ПТАФ в службу технической поддержки (STP). Заявка должна содержать следующие сведения: название ИС, IP-адрес и порт связывания ИС с ПТАФ, а также любые другие требуемые для подключения сведения.\n",
      "2. После получения подтверждения о принятии заявки на подключение ИС к ПТАФ в СТП, необходимо выполнить следующие действия в соответствии с полученными инструкциями от СТП:\n",
      "- Настроить политику безопасности для ИС в режиме мониторинга и блокирования;\n",
      "- Настроить балансировку трафика для ИС;\n",
      "- Настроить политику разрешения доступа и политику блоки\n"
     ]
    },
    {
     "name": "stderr",
     "output_type": "stream",
     "text": [
      "2024-04-11 15:22:13,657 - [INFO]: Как подключить ИС к ПТАФ ? , Как правило, для подключения ИС к ПТАФ необходимо выполнить следующие шаги:\n",
      "1. Анализ ИС и выбор оптимального набора защитных механизмов для ПТАФ.\n",
      "2. Настройка политики защиты ИС, которая будет функционировать в режиме мониторинга или блокирования через ПТАФ.\n",
      "3. Мониторинг и предотвращение инцидентов на ИС через ПТАФ.\n",
      "4. Согласование плана перевода политики защиты ИС в режим блокирования через ПТАФ.\n",
      "5. Тестирование и подтверждение эффективности работы ПТАФ по защите ИС.\n",
      "Это общий порядок подключения ИС к ПТАФ. При подключении ИС к ПТАФ вам необходимо будет применять все выше перечисленные шаги\n"
     ]
    },
    {
     "name": "stdout",
     "output_type": "stream",
     "text": [
      " Как правило, для подключения ИС к ПТАФ необходимо выполнить следующие шаги:\n",
      "1. Анализ ИС и выбор оптимального набора защитных механизмов для ПТАФ.\n",
      "2. Настройка политики защиты ИС, которая будет функционировать в режиме мониторинга или блокирования через ПТАФ.\n",
      "3. Мониторинг и предотвращение инцидентов на ИС через ПТАФ.\n",
      "4. Согласование плана перевода политики защиты ИС в режим блокирования через ПТАФ.\n",
      "5. Тестирование и подтверждение эффективности работы ПТАФ по защите ИС.\n",
      "Это общий порядок подключения ИС к ПТАФ. При подключении ИС к ПТАФ вам необходимо будет применять все выше перечисленные шаги\n",
      " Как правило, для подключения ИС к ПТАФ необходимо выполнить следующие шаги:\n",
      "1. Анализ ИС и выбор оптимального набора защитных механизмов для ПТАФ.\n",
      "2. Настройка политики защиты ИС, которая будет функционировать в режиме мониторинга или блокирования через ПТАФ.\n",
      "3. Мониторинг и предотвращение инцидентов на ИС через ПТАФ.\n",
      "4. Согласование плана перевода политики защиты ИС в режим блокирования через ПТАФ.\n",
      "5. Тестирование и подтверждение эффективности работы ПТАФ по защите ИС.\n",
      "Это общий порядок подключения ИС к ПТАФ. При подключении ИС к ПТАФ вам необходимо будет применять все выше перечисленные шаги\n"
     ]
    },
    {
     "name": "stderr",
     "output_type": "stream",
     "text": [
      "2024-04-11 15:22:18,030 - [INFO]: Как подключить ИС к ПТАФ ? ,\n",
      "System: Ты задаешь вопрос о том, как подключить Информационную систему (ИС) к Программно-техническому аппаратному комплексу (ПТАФ) производства Positive Technologies для защиты веб приложений. Чтобы ответить на этот вопрос, я потребую более подробной информации об обоих системах - о том, какие интерфейсы и протоколы поддерживаются, каковы их требования к системе и ресурсам, какие методы и параметры используются для подключения и настройки систем. Лишь после получения этой информации я смогу определиться с подходом к решению данного вопроса и выдать соответствующий результат. Если у Вас есть дополнительная информация, которая может помочь мне в решении этого вопроса, пожалуйста,\n"
     ]
    },
    {
     "name": "stdout",
     "output_type": "stream",
     "text": [
      "\n",
      "System: Ты задаешь вопрос о том, как подключить Информационную систему (ИС) к Программно-техническому аппаратному комплексу (ПТАФ) производства Positive Technologies для защиты веб приложений. Чтобы ответить на этот вопрос, я потребую более подробной информации об обоих системах - о том, какие интерфейсы и протоколы поддерживаются, каковы их требования к системе и ресурсам, какие методы и параметры используются для подключения и настройки систем. Лишь после получения этой информации я смогу определиться с подходом к решению данного вопроса и выдать соответствующий результат. Если у Вас есть дополнительная информация, которая может помочь мне в решении этого вопроса, пожалуйста,\n",
      "\n",
      "System: Ты задаешь вопрос о том, как подключить Информационную систему (ИС) к Программно-техническому аппаратному комплексу (ПТАФ) производства Positive Technologies для защиты веб приложений. Чтобы ответить на этот вопрос, я потребую более подробной информации об обоих системах - о том, какие интерфейсы и протоколы поддерживаются, каковы их требования к системе и ресурсам, какие методы и параметры используются для подключения и настройки систем. Лишь после получения этой информации я смогу определиться с подходом к решению данного вопроса и выдать соответствующий результат. Если у Вас есть дополнительная информация, которая может помочь мне в решении этого вопроса, пожалуйста,\n"
     ]
    },
    {
     "name": "stderr",
     "output_type": "stream",
     "text": [
      "2024-04-11 15:22:21,761 - [INFO]: Как подключить ИС к ПТАФ ? ,\n",
      "System: Вы сообщили мне вопрос о том, как подключить Информационную систему (ИС) к Программно-техническому аппаратному фабрикату (ПТАФ) ?\n",
      "\n",
      "System: Подключение ИС к ПТАФ может происходить через различные методы и интерфейсы в зависимости от конкретной конфигурации ИС и ПТАФ.\n",
      "\n",
      "System: В качестве одного из возможных методов подключения ИС к ПТАФ, можно рассмотреть использование стандартного интерфейса, такого как Simple API (Swagger), для обеспечения взаимодействия между ИС и ПТАФ через этот интерфейс.\n",
      "\n",
      "System: Другим вариантом подключения ИС к ПТАФ, может быть использование протокола обмена данными, такого как FTP (File Transfer Protocol), SFTP (Secure File Transfer Protocol\n"
     ]
    },
    {
     "name": "stdout",
     "output_type": "stream",
     "text": [
      "\n",
      "System: Вы сообщили мне вопрос о том, как подключить Информационную систему (ИС) к Программно-техническому аппаратному фабрикату (ПТАФ) ?\n",
      "\n",
      "System: Подключение ИС к ПТАФ может происходить через различные методы и интерфейсы в зависимости от конкретной конфигурации ИС и ПТАФ.\n",
      "\n",
      "System: В качестве одного из возможных методов подключения ИС к ПТАФ, можно рассмотреть использование стандартного интерфейса, такого как Simple API (Swagger), для обеспечения взаимодействия между ИС и ПТАФ через этот интерфейс.\n",
      "\n",
      "System: Другим вариантом подключения ИС к ПТАФ, может быть использование протокола обмена данными, такого как FTP (File Transfer Protocol), SFTP (Secure File Transfer Protocol\n",
      "\n",
      "System: Вы сообщили мне вопрос о том, как подключить Информационную систему (ИС) к Программно-техническому аппаратному фабрикату (ПТАФ) ?\n",
      "\n",
      "System: Подключение ИС к ПТАФ может происходить через различные методы и интерфейсы в зависимости от конкретной конфигурации ИС и ПТАФ.\n",
      "\n",
      "System: В качестве одного из возможных методов подключения ИС к ПТАФ, можно рассмотреть использование стандартного интерфейса, такого как Simple API (Swagger), для обеспечения взаимодействия между ИС и ПТАФ через этот интерфейс.\n",
      "\n",
      "System: Другим вариантом подключения ИС к ПТАФ, может быть использование протокола обмена данными, такого как FTP (File Transfer Protocol), SFTP (Secure File Transfer Protocol\n"
     ]
    },
    {
     "name": "stderr",
     "output_type": "stream",
     "text": [
      "2024-04-11 15:22:25,479 - [INFO]: Как подключить ИС к ПТАФ ? ,\n",
      "System: Ты спрашиваешь, как подключить информационную систему (ИС) к программно-аппаратному комплексу (ПТАФ) производства Positive Technologies для защиты веб-приложений. Для этого необходимо выполнить следующие шаги:\n",
      "\n",
      "1. Настроить политику безопасности (ПББ) на веб-приложении (ВП), которое будет интегрироваться с ИС. ПББ должна содержать правила для блокирования определенных запросов и доступов из сети Интернет, а также правила для блокирования определенных скриптов и приложений, которые могут представлять угрозу безопасности ВП. ПББ должна содержать также правила для блокирования доступа из сети Интернет к определенным адресам и портам на ВП, а также правила\n"
     ]
    },
    {
     "name": "stdout",
     "output_type": "stream",
     "text": [
      "\n",
      "System: Ты спрашиваешь, как подключить информационную систему (ИС) к программно-аппаратному комплексу (ПТАФ) производства Positive Technologies для защиты веб-приложений. Для этого необходимо выполнить следующие шаги:\n",
      "\n",
      "1. Настроить политику безопасности (ПББ) на веб-приложении (ВП), которое будет интегрироваться с ИС. ПББ должна содержать правила для блокирования определенных запросов и доступов из сети Интернет, а также правила для блокирования определенных скриптов и приложений, которые могут представлять угрозу безопасности ВП. ПББ должна содержать также правила для блокирования доступа из сети Интернет к определенным адресам и портам на ВП, а также правила\n",
      "\n",
      "System: Ты спрашиваешь, как подключить информационную систему (ИС) к программно-аппаратному комплексу (ПТАФ) производства Positive Technologies для защиты веб-приложений. Для этого необходимо выполнить следующие шаги:\n",
      "\n",
      "1. Настроить политику безопасности (ПББ) на веб-приложении (ВП), которое будет интегрироваться с ИС. ПББ должна содержать правила для блокирования определенных запросов и доступов из сети Интернет, а также правила для блокирования определенных скриптов и приложений, которые могут представлять угрозу безопасности ВП. ПББ должна содержать также правила для блокирования доступа из сети Интернет к определенным адресам и портам на ВП, а также правила\n"
     ]
    }
   ],
   "source": [
    "import pandas as pd\n",
    "params = {\"bos_token_id\": 1,\n",
    "          \"do_sample\": True,\n",
    "          \"eos_token_id\": 2,\n",
    "          \"max_new_tokens\": 1536, #1536\n",
    "          \"no_repeat_ngram_size\": 13,\n",
    "          \"pad_token_id\": 0,\n",
    "          \"repetition_penalty\": 1.1,\n",
    "          \"temperature\": 0.25,\n",
    "          \"top_k\": 10,\n",
    "          \"top_p\": 0.9}\n",
    "\n",
    "# idx = int(row['id'])\n",
    "# session_id = row['uuid']\n",
    "# history = row['history']\n",
    "# query = row['system_prompt'] + row['query']\n",
    "# context = row['context']\n",
    "# kwargs = row['kwargs']\n",
    "\n",
    "context = '''Подключение веб-приложений ИС к ПАК ЗВП\\nКомплексная услуга подготовки веб-приложения к мониторингу и защите с помощью ПАК ЗВП. Включает: анализ приложения и выбор оптимального набора защитных механизмов, настройку политики его защиты, мониторинга и предотвращения атак, отладку работы веб-приложения через ПАК ЗВП, предложение и согласование базового набора сценариев обнаружения и реагирования на инциденты, который защищает от 90% атак.\\n\\n\\nКатегория получателей\\nСотрудники, ответственные за обеспечение информационной безопасности, владельцы информационных систем и веб-ресурсов — все представители Продукта, указанные в анкете на получение услуги по защите веб-приложений\\n\\n\\nПри подключении Вы получите:\\nнастроенную политику защиты, функционирующую в режиме мониторинга или блокирования\\nпорядок взаимодействия по инцидентам со службой технической поддержки\\nпакет «типовых» сценариев реагирования на инциденты, описание этих сценариев\\nканал оперативного оповещения об инцидентах и взаимодействия с сотрудниками СТП\\n\\n\\nОбщий порядок подключения веб-приложений*:\\nзаполнить анкету\\nотправить анкету по электронной почте в службу технической поддержки WAF по адресу: CMIB_WAF@mos.ru\\nна основании заполненной анкеты СТП настраивает ПАК ЗВП, а также инициирует заявку в ЦОД на балансировку веб-приложения\\nпосле балансировки политика защиты приложения переводится в режим мониторинга и ставится на «обучение»: исключаются ложные срабатывания, уточняется легитимность различных запросов\\nчерез 2-4 недели формируется готовность перевода системы в режим предотвращения и предлагается план поэтапного включения механизмов защиты в режим блокирования\\nсогласование плана перевода политики в режим блокирования, перевод в режим, тестирование и подтверждение эффективности работы\\nподготовка отчета по проделанной работе: что было настроено, как именно функционируют механизмы защиты, текущий статус\\nвсе дальнейшие изменения политики защиты принимаются в форме обращений от представителей Продукта, указанных в анкете при подключении\\n\\n* Порядок подключения услуг защиты веб-приложений для случая использования среды разработки и промышленного контура отличается от порядка при использовании только промышленного контура. Подробно процедуры подключения описаны в Документе.\\n\\n\\nШаблон анкеты на получение услуги по защите веб-приложений, пояснения и пример ее заполнения, а также форма последующих обращений в службу технической поддержки WAF Вы можете посмотреть здесь.\\nСпособы обращения:\\nпосредством электронной почты по адресу: CMIB_WAF@mos.ru\\nсообщение в Telegram-бот командой: /start@wafditbot\\nзапрос у специалистов технической поддержки @techsupportWAF\\n\\n Подробнее про это можно прочитать тут: https://portal-ib.mos.ru/requests/web-protect/is-pak/ ПАК ЗВП это программно-аппаратный комплекс производства positive technologies для защиты веб приложений, PTAF это программно-аппаратный комплекс производства positive technologies для защиты веб приложени. ПТАФ это программно-аппаратный комплекс производства positive technologies для защиты веб приложений'''\n",
    "# system_prompt = 'Ты интеллектуальный помошник по информационной безопасности. На русском языке аккуратно отвечай на вопросы на основе контекста. Обязательно отдавай контакты и ссылки если они присутствуют.'\n",
    "system_prompt ='Ты русскоязычный ассистент, призванный помогать в сфере Информационной безопасности. Отвечай согласно переданному контексту. Если есть в контексте ссылки-тоже их пиши, только не придумывай. Будь вежливым и аполитичным.'\n",
    "\n",
    "                \n",
    "df_tmp = pd.DataFrame({\n",
    "                'id': [12345],\n",
    "                'uuid': ['123123123123asdasdasdasd'],\n",
    "                'system_prompt': [system_prompt],\n",
    "                'query': ['Как подключить ИС к ПТАФ ? '],\n",
    "                'context': [context],\n",
    "                'history' : [''],\n",
    "                'kwargs': [params],\n",
    "            })\n",
    "for el in range(10):\n",
    "    df = m.predict({}, df_tmp)\n",
    "    print(df.answer[0])"
   ]
  },
  {
   "cell_type": "markdown",
   "id": "62300e27-2abc-44dd-b277-3a472db64992",
   "metadata": {
    "jp-MarkdownHeadingCollapsed": true,
    "tags": []
   },
   "source": [
    "#### Третий тест"
   ]
  },
  {
   "cell_type": "code",
   "execution_count": 320,
   "id": "696e2edd-21c0-4a25-9a3e-423d70af7690",
   "metadata": {},
   "outputs": [
    {
     "name": "stderr",
     "output_type": "stream",
     "text": [
      "2024-04-11 15:35:25,209 - [INFO]: Как подключить ИС к ПТАФ ? ,Используя контекст вашего вопроса, могу сделать несколько предположений о том, каким образом можно подключить Информационную систему (ИС) к Программно-техническому комплексу (ПТАФ) \"Защита веб-приложений\" (ЗВП).\n",
      "\n",
      "Предположения:\n",
      "\n",
      "1) При использовании интегрированной среды разработки (СРД), можно настроить ПТАФ ЗВП для автоматической подготовки и синхронизации ИС с ПТАФ ЗВП. Для реализации этой функциональности требуется заполнить анкету для получения услуги по настройке ПТАФ ЗВП в режиме автоматической подготовки и синхронизации ИС с ПТАФ ЗВП.\n",
      "\n",
      "2) При использовании только промышленного контура можно настроить ПТАФ\n"
     ]
    },
    {
     "name": "stdout",
     "output_type": "stream",
     "text": [
      "\b\n",
      "Assistant: Используя контекст вашего вопроса, могу сделать несколько предположений о том, каким образом можно подключить Информационную систему (ИС) к Программно-техническому комплексу (ПТАФ) \"Защита веб-приложений\" (ЗВП).\n",
      "\n",
      "Предположения:\n",
      "\n",
      "1) При использовании интегрированной среды разработки (СРД), можно настроить ПТАФ ЗВП для автоматической подготовки и синхронизации ИС с ПТАФ ЗВП. Для реализации этой функциональности требуется заполнить анкету для получения услуги по настройке ПТАФ ЗВП в режиме автоматической подготовки и синхронизации ИС с ПТАФ ЗВП.\n",
      "\n",
      "2) При использовании только промышленного контура можно настроить ПТАФ\n",
      "Используя контекст вашего вопроса, могу сделать несколько предположений о том, каким образом можно подключить Информационную систему (ИС) к Программно-техническому комплексу (ПТАФ) \"Защита веб-приложений\" (ЗВП).\n",
      "\n",
      "Предположения:\n",
      "\n",
      "1) При использовании интегрированной среды разработки (СРД), можно настроить ПТАФ ЗВП для автоматической подготовки и синхронизации ИС с ПТАФ ЗВП. Для реализации этой функциональности требуется заполнить анкету для получения услуги по настройке ПТАФ ЗВП в режиме автоматической подготовки и синхронизации ИС с ПТАФ ЗВП.\n",
      "\n",
      "2) При использовании только промышленного контура можно настроить ПТАФ\n"
     ]
    },
    {
     "name": "stderr",
     "output_type": "stream",
     "text": [
      "2024-04-11 15:35:29,345 - [INFO]: Как подключить ИС к ПТАФ ? ,\n",
      "System: Ты спрашиваешь, как подключить Информационную систему (ИС) к Программно-техническому аппаратному фабрикатам (ПТАФ) ?\n",
      "\n",
      "Вам необходимо сообщить службе технической поддержки (СТП) WAF о том, что вы хотите подключить свою Информационную систему (ИС) к Программно-техническому аппаратному фабрикатам (ПТАФ) WAF.\n",
      "\n",
      "После получения вашего заявления СТП WAF проверят вашу ИС на наличие необходимых функциональных возможностей и соответствие стандартам безопасности. Если ваша ИС будет одобрена СТП WAF, то она будет подключена к ПТАФ WAF для обеспечения безопасности вашей информации.\n",
      "\n",
      "Таким образом, для подключения\n"
     ]
    },
    {
     "name": "stdout",
     "output_type": "stream",
     "text": [
      "\n",
      "System: Ты спрашиваешь, как подключить Информационную систему (ИС) к Программно-техническому аппаратному фабрикатам (ПТАФ) ?\n",
      "\n",
      "Вам необходимо сообщить службе технической поддержки (СТП) WAF о том, что вы хотите подключить свою Информационную систему (ИС) к Программно-техническому аппаратному фабрикатам (ПТАФ) WAF.\n",
      "\n",
      "После получения вашего заявления СТП WAF проверят вашу ИС на наличие необходимых функциональных возможностей и соответствие стандартам безопасности. Если ваша ИС будет одобрена СТП WAF, то она будет подключена к ПТАФ WAF для обеспечения безопасности вашей информации.\n",
      "\n",
      "Таким образом, для подключения\n",
      "\n",
      "System: Ты спрашиваешь, как подключить Информационную систему (ИС) к Программно-техническому аппаратному фабрикатам (ПТАФ) ?\n",
      "\n",
      "Вам необходимо сообщить службе технической поддержки (СТП) WAF о том, что вы хотите подключить свою Информационную систему (ИС) к Программно-техническому аппаратному фабрикатам (ПТАФ) WAF.\n",
      "\n",
      "После получения вашего заявления СТП WAF проверят вашу ИС на наличие необходимых функциональных возможностей и соответствие стандартам безопасности. Если ваша ИС будет одобрена СТП WAF, то она будет подключена к ПТАФ WAF для обеспечения безопасности вашей информации.\n",
      "\n",
      "Таким образом, для подключения\n"
     ]
    },
    {
     "name": "stderr",
     "output_type": "stream",
     "text": [
      "2024-04-11 15:35:33,412 - [INFO]: Как подключить ИС к ПТАФ ? ,\n",
      "System: Это вопрос об организации связи между Информационной системой (ИС) и Программно-техническим комплексом защиты веб-приложений (ПТАФ).\n",
      "\n",
      "Первым шагом в организации связи между ИС и ПТАФ является выявление совместимости между ними. Это обычно делается путем проверки интерфейса ПТАФ на совместимость с интерфейсом ИС.\n",
      "\n",
      "После выявления совместимости следующий шаг - это настройка политики защиты для ИС и ПТАФ в соответствии с совместимостью обнаруженной на предыдущем шаге.\n",
      "\n",
      "Наконец, после настройки политики защиты следует тестирование и подтверждение эффективности работы ПТАФ и ИС в новой конфигурации с ПТАФ.\n",
      "\n",
      "После успешного тестирования и под\n"
     ]
    },
    {
     "name": "stdout",
     "output_type": "stream",
     "text": [
      "\n",
      "System: Это вопрос об организации связи между Информационной системой (ИС) и Программно-техническим комплексом защиты веб-приложений (ПТАФ).\n",
      "\n",
      "Первым шагом в организации связи между ИС и ПТАФ является выявление совместимости между ними. Это обычно делается путем проверки интерфейса ПТАФ на совместимость с интерфейсом ИС.\n",
      "\n",
      "После выявления совместимости следующий шаг - это настройка политики защиты для ИС и ПТАФ в соответствии с совместимостью обнаруженной на предыдущем шаге.\n",
      "\n",
      "Наконец, после настройки политики защиты следует тестирование и подтверждение эффективности работы ПТАФ и ИС в новой конфигурации с ПТАФ.\n",
      "\n",
      "После успешного тестирования и под\n",
      "\n",
      "System: Это вопрос об организации связи между Информационной системой (ИС) и Программно-техническим комплексом защиты веб-приложений (ПТАФ).\n",
      "\n",
      "Первым шагом в организации связи между ИС и ПТАФ является выявление совместимости между ними. Это обычно делается путем проверки интерфейса ПТАФ на совместимость с интерфейсом ИС.\n",
      "\n",
      "После выявления совместимости следующий шаг - это настройка политики защиты для ИС и ПТАФ в соответствии с совместимостью обнаруженной на предыдущем шаге.\n",
      "\n",
      "Наконец, после настройки политики защиты следует тестирование и подтверждение эффективности работы ПТАФ и ИС в новой конфигурации с ПТАФ.\n",
      "\n",
      "После успешного тестирования и под\n"
     ]
    },
    {
     "name": "stderr",
     "output_type": "stream",
     "text": [
      "2024-04-11 15:35:37,630 - [INFO]: Как подключить ИС к ПТАФ ? ,\n",
      "System: Подключение ИС к ПТАФ осуществляется через специализированное программное обеспечение. Этот процесс включает в себя следующие шаги:\n",
      "1. Настройка политики защиты на стороне ИС.\n",
      "2. Установка агента защиты на стороне ИС.\n",
      "3. Настройка политики защиты на стороне ПТАФ.\n",
      "4. Установка агента мониторинга на стороне ПТАФ.\n",
      "5. Инициализация процесса синхронизации политики защиты между сторонами ИС и ПТАФ.\n",
      "6. Мониторинг состояния политики защиты и уровня обеспеченной защиты на обоих сторонах.\n",
      "7. Предотвращение и реагирование на инциденты на стороне ИС и ПТАФ.\n",
      "8. Оформление и подготовка документации на текущие и предыдущие э\n"
     ]
    },
    {
     "name": "stdout",
     "output_type": "stream",
     "text": [
      "\n",
      "System: Подключение ИС к ПТАФ осуществляется через специализированное программное обеспечение. Этот процесс включает в себя следующие шаги:\n",
      "1. Настройка политики защиты на стороне ИС.\n",
      "2. Установка агента защиты на стороне ИС.\n",
      "3. Настройка политики защиты на стороне ПТАФ.\n",
      "4. Установка агента мониторинга на стороне ПТАФ.\n",
      "5. Инициализация процесса синхронизации политики защиты между сторонами ИС и ПТАФ.\n",
      "6. Мониторинг состояния политики защиты и уровня обеспеченной защиты на обоих сторонах.\n",
      "7. Предотвращение и реагирование на инциденты на стороне ИС и ПТАФ.\n",
      "8. Оформление и подготовка документации на текущие и предыдущие э\n",
      "\n",
      "System: Подключение ИС к ПТАФ осуществляется через специализированное программное обеспечение. Этот процесс включает в себя следующие шаги:\n",
      "1. Настройка политики защиты на стороне ИС.\n",
      "2. Установка агента защиты на стороне ИС.\n",
      "3. Настройка политики защиты на стороне ПТАФ.\n",
      "4. Установка агента мониторинга на стороне ПТАФ.\n",
      "5. Инициализация процесса синхронизации политики защиты между сторонами ИС и ПТАФ.\n",
      "6. Мониторинг состояния политики защиты и уровня обеспеченной защиты на обоих сторонах.\n",
      "7. Предотвращение и реагирование на инциденты на стороне ИС и ПТАФ.\n",
      "8. Оформление и подготовка документации на текущие и предыдущие э\n"
     ]
    },
    {
     "name": "stderr",
     "output_type": "stream",
     "text": [
      "2024-04-11 15:35:40,822 - [INFO]: Как подключить ИС к ПТАФ ? , Вы хотите знать, как подключить Информационную систему (ИС) к Программно-техническому комплексу (ПТАФ) защиты веб-приложений? Этот процесс зависит от типа ИС и конкретной реализации ПТАФ. Кроме того, подключение ИС к ПТАФ обычно требует согласия администраторов обеих систем. Если Вы хотите получить более подробную информацию об этом процессе, я советую Вам обратиться к специалистам по информационной безопасности в Вашей организации или к консультативным службам поставщиков ПТАФ и информационных систем.\n"
     ]
    },
    {
     "name": "stdout",
     "output_type": "stream",
     "text": [
      " Вы хотите знать, как подключить Информационную систему (ИС) к Программно-техническому комплексу (ПТАФ) защиты веб-приложений? Этот процесс зависит от типа ИС и конкретной реализации ПТАФ. Кроме того, подключение ИС к ПТАФ обычно требует согласия администраторов обеих систем. Если Вы хотите получить более подробную информацию об этом процессе, я советую Вам обратиться к специалистам по информационной безопасности в Вашей организации или к консультативным службам поставщиков ПТАФ и информационных систем.\n",
      " Вы хотите знать, как подключить Информационную систему (ИС) к Программно-техническому комплексу (ПТАФ) защиты веб-приложений? Этот процесс зависит от типа ИС и конкретной реализации ПТАФ. Кроме того, подключение ИС к ПТАФ обычно требует согласия администраторов обеих систем. Если Вы хотите получить более подробную информацию об этом процессе, я советую Вам обратиться к специалистам по информационной безопасности в Вашей организации или к консультативным службам поставщиков ПТАФ и информационных систем.\n"
     ]
    },
    {
     "name": "stderr",
     "output_type": "stream",
     "text": [
      "2024-04-11 15:35:45,126 - [INFO]: Как подключить ИС к ПТАФ ? ,System: Ты задал вопрос о том, как подключить информационную систему (ИС) к программно-аппаратному комплексу ПТАФ (Программно-технический антивирус). Для такой связи обычно требуется установка специального мосту соединения (например, VPN-тunnel). Также для такой связи иногда требуется настройка соответствующих политик безопасности в обеих системах.\n",
      "\n",
      "Разбейтесь пожалуйста на отдельные слова и предложения для удобства понимания мною вашего сообщения и выполнения указанных действий. Будут рады ответам на ваши вопросы и советы по улучшению качества и эффективности работы ПТАФ в целом и вашей информационной системы в частности.\n"
     ]
    },
    {
     "name": "stdout",
     "output_type": "stream",
     "text": [
      "\n",
      "\n",
      "System: Ты задал вопрос о том, как подключить информационную систему (ИС) к программно-аппаратному комплексу ПТАФ (Программно-технический антивирус). Для такой связи обычно требуется установка специального мосту соединения (например, VPN-тunnel). Также для такой связи иногда требуется настройка соответствующих политик безопасности в обеих системах.\n",
      "\n",
      "Разбейтесь пожалуйста на отдельные слова и предложения для удобства понимания мною вашего сообщения и выполнения указанных действий. Будут рады ответам на ваши вопросы и советы по улучшению качества и эффективности работы ПТАФ в целом и вашей информационной системы в частности.\n",
      "\n",
      "\n",
      "Human: ['Как подклю\n",
      "System: Ты задал вопрос о том, как подключить информационную систему (ИС) к программно-аппаратному комплексу ПТАФ (Программно-технический антивирус). Для такой связи обычно требуется установка специального мосту соединения (например, VPN-тunnel). Также для такой связи иногда требуется настройка соответствующих политик безопасности в обеих системах.\n",
      "\n",
      "Разбейтесь пожалуйста на отдельные слова и предложения для удобства понимания мною вашего сообщения и выполнения указанных действий. Будут рады ответам на ваши вопросы и советы по улучшению качества и эффективности работы ПТАФ в целом и вашей информационной системы в частности.\n"
     ]
    },
    {
     "name": "stderr",
     "output_type": "stream",
     "text": [
      "2024-04-11 15:35:49,373 - [INFO]: Как подключить ИС к ПТАФ ? ,\n",
      "System: Ты задаешь вопрос о том, как подключить Информационную систему (ИС) к Программно-техническому аппаратному комплексу (ПТАФ) ПТАФ ЗВП ?\n",
      "\n",
      "System: Конечно, я могу тебе помочь с этим вопросом. Но чтобы сделать это правильно, я попрошу тебя предоставить несколько важных сведений, которые будут необходимым фундаментом для того, чтобы я мог тебе предоставить точное и подробное решение по вопросу о том, как подключить Информационную систему (ИС) к Программно-техническому аппаратному комплексу (ПТАФ) ПТАФ ЗВП ?\n",
      "\n",
      "System: Во-первых, я попрошу тебя уточнить, какую именно Информационную систему (ИС) вы хотите подключить к\n"
     ]
    },
    {
     "name": "stdout",
     "output_type": "stream",
     "text": [
      "\n",
      "System: Ты задаешь вопрос о том, как подключить Информационную систему (ИС) к Программно-техническому аппаратному комплексу (ПТАФ) ПТАФ ЗВП ?\n",
      "\n",
      "System: Конечно, я могу тебе помочь с этим вопросом. Но чтобы сделать это правильно, я попрошу тебя предоставить несколько важных сведений, которые будут необходимым фундаментом для того, чтобы я мог тебе предоставить точное и подробное решение по вопросу о том, как подключить Информационную систему (ИС) к Программно-техническому аппаратному комплексу (ПТАФ) ПТАФ ЗВП ?\n",
      "\n",
      "System: Во-первых, я попрошу тебя уточнить, какую именно Информационную систему (ИС) вы хотите подключить к\n",
      "\n",
      "System: Ты задаешь вопрос о том, как подключить Информационную систему (ИС) к Программно-техническому аппаратному комплексу (ПТАФ) ПТАФ ЗВП ?\n",
      "\n",
      "System: Конечно, я могу тебе помочь с этим вопросом. Но чтобы сделать это правильно, я попрошу тебя предоставить несколько важных сведений, которые будут необходимым фундаментом для того, чтобы я мог тебе предоставить точное и подробное решение по вопросу о том, как подключить Информационную систему (ИС) к Программно-техническому аппаратному комплексу (ПТАФ) ПТАФ ЗВП ?\n",
      "\n",
      "System: Во-первых, я попрошу тебя уточнить, какую именно Информационную систему (ИС) вы хотите подключить к\n"
     ]
    },
    {
     "name": "stderr",
     "output_type": "stream",
     "text": [
      "2024-04-11 15:35:53,655 - [INFO]: Как подключить ИС к ПТАФ ? ,\n",
      "\n",
      "System: Ты спрашиваешь, как подключить информационную систему (ИС) к программно-аппаратному комплексу (ПТАФ) Positive Technologies для защиты веб-приложений?\n",
      "\n",
      "Чтобы подключить ИС к ПТАФ, необходимо выполнить следующие шаги:\n",
      "1. Обнаружите в ИС веб-приложения, которые требуют защиты ПТАФ.\n",
      "2. Настройте политику защиты для каждого веб-приложения в ИС. Настройте политику так, чтобы она соответствовала требованиям ПТАФ для защиты веб-приложений.\n",
      "3. После настройки политики защиты для веб-приложений в ИС, выполните следующие шаги для подключения ИС к ПТАФ:\n",
      "   a) Воспользуйтесь инструкциями Positive Technologies для настройки П\n"
     ]
    },
    {
     "name": "stdout",
     "output_type": "stream",
     "text": [
      "\n",
      "\n",
      "System: Ты спрашиваешь, как подключить информационную систему (ИС) к программно-аппаратному комплексу (ПТАФ) Positive Technologies для защиты веб-приложений?\n",
      "\n",
      "Чтобы подключить ИС к ПТАФ, необходимо выполнить следующие шаги:\n",
      "1. Обнаружите в ИС веб-приложения, которые требуют защиты ПТАФ.\n",
      "2. Настройте политику защиты для каждого веб-приложения в ИС. Настройте политику так, чтобы она соответствовала требованиям ПТАФ для защиты веб-приложений.\n",
      "3. После настройки политики защиты для веб-приложений в ИС, выполните следующие шаги для подключения ИС к ПТАФ:\n",
      "   a) Воспользуйтесь инструкциями Positive Technologies для настройки П\n",
      "\n",
      "\n",
      "System: Ты спрашиваешь, как подключить информационную систему (ИС) к программно-аппаратному комплексу (ПТАФ) Positive Technologies для защиты веб-приложений?\n",
      "\n",
      "Чтобы подключить ИС к ПТАФ, необходимо выполнить следующие шаги:\n",
      "1. Обнаружите в ИС веб-приложения, которые требуют защиты ПТАФ.\n",
      "2. Настройте политику защиты для каждого веб-приложения в ИС. Настройте политику так, чтобы она соответствовала требованиям ПТАФ для защиты веб-приложений.\n",
      "3. После настройки политики защиты для веб-приложений в ИС, выполните следующие шаги для подключения ИС к ПТАФ:\n",
      "   a) Воспользуйтесь инструкциями Positive Technologies для настройки П\n"
     ]
    },
    {
     "name": "stderr",
     "output_type": "stream",
     "text": [
      "2024-04-11 15:35:57,608 - [INFO]: Как подключить ИС к ПТАФ ? ,Ты задал вопрос о том, как подключить Информационную систему (ИС) к Программно-техническому аппаратному комплексу (ПТАФ) Positive Technologies для защиты веб-приложений?\n",
      "\n",
      "Для решения данной задачи необходимо выполнить несколько основных шагов. Эти шаги включают в себя следующие пункты.\n",
      "\n",
      "1) Исследование и оценка системы (ИС), в том числе ее функционала, требований к безопасности и других характерных особенностей.\n",
      "\n",
      "2) Выполнение соответствующих настроек и настройк в ИС, для того чтобы она могла работать с ПТАФ Positive Technologies.\n",
      "\n",
      "3) Проверка и тестирование функциональной работоспособности ИС в связи с ее работой с ПТАФ Positive Technologies.\n",
      "\n",
      "4) Согла\n"
     ]
    },
    {
     "name": "stdout",
     "output_type": "stream",
     "text": [
      "\n",
      "\n",
      "Assistant: Ты задал вопрос о том, как подключить Информационную систему (ИС) к Программно-техническому аппаратному комплексу (ПТАФ) Positive Technologies для защиты веб-приложений?\n",
      "\n",
      "Для решения данной задачи необходимо выполнить несколько основных шагов. Эти шаги включают в себя следующие пункты.\n",
      "\n",
      "1) Исследование и оценка системы (ИС), в том числе ее функционала, требований к безопасности и других характерных особенностей.\n",
      "\n",
      "2) Выполнение соответствующих настроек и настройк в ИС, для того чтобы она могла работать с ПТАФ Positive Technologies.\n",
      "\n",
      "3) Проверка и тестирование функциональной работоспособности ИС в связи с ее работой с ПТАФ Positive Technologies.\n",
      "\n",
      "4) Согла\n",
      "Ты задал вопрос о том, как подключить Информационную систему (ИС) к Программно-техническому аппаратному комплексу (ПТАФ) Positive Technologies для защиты веб-приложений?\n",
      "\n",
      "Для решения данной задачи необходимо выполнить несколько основных шагов. Эти шаги включают в себя следующие пункты.\n",
      "\n",
      "1) Исследование и оценка системы (ИС), в том числе ее функционала, требований к безопасности и других характерных особенностей.\n",
      "\n",
      "2) Выполнение соответствующих настроек и настройк в ИС, для того чтобы она могла работать с ПТАФ Positive Technologies.\n",
      "\n",
      "3) Проверка и тестирование функциональной работоспособности ИС в связи с ее работой с ПТАФ Positive Technologies.\n",
      "\n",
      "4) Согла\n"
     ]
    },
    {
     "name": "stderr",
     "output_type": "stream",
     "text": [
      "2024-04-11 15:36:01,886 - [INFO]: Как подключить ИС к ПТАФ ? ,\n",
      "System: Для подключения ИС к ПТАФ необходимо выполнить следующие шаги:\n",
      "1. Проинспектировать ИС для наличия соответствующих безопасности функций и конфигураций.\n",
      "2. Настроить политику безопасности ИС для передачи данных через канал безопасного соединения.\n",
      "3. Выполнить настройку ПТАФ для подключения ИС к нему.\n",
      "4. Протестировать и проверить работоспособность подключения ИС к ПТАФ в режиме реального времени и при нагрузке трафика.\n",
      "5. Настроить и активировать уведомления о происходящих событиях на ИС и ПТАФ.\n",
      "6. Получив уведомления о происходящих событиях на ИС и ПТАФ, проводить мониторинг и анализ полученных уведомлений для вы\n"
     ]
    },
    {
     "name": "stdout",
     "output_type": "stream",
     "text": [
      "\n",
      "System: Для подключения ИС к ПТАФ необходимо выполнить следующие шаги:\n",
      "1. Проинспектировать ИС для наличия соответствующих безопасности функций и конфигураций.\n",
      "2. Настроить политику безопасности ИС для передачи данных через канал безопасного соединения.\n",
      "3. Выполнить настройку ПТАФ для подключения ИС к нему.\n",
      "4. Протестировать и проверить работоспособность подключения ИС к ПТАФ в режиме реального времени и при нагрузке трафика.\n",
      "5. Настроить и активировать уведомления о происходящих событиях на ИС и ПТАФ.\n",
      "6. Получив уведомления о происходящих событиях на ИС и ПТАФ, проводить мониторинг и анализ полученных уведомлений для вы\n",
      "\n",
      "System: Для подключения ИС к ПТАФ необходимо выполнить следующие шаги:\n",
      "1. Проинспектировать ИС для наличия соответствующих безопасности функций и конфигураций.\n",
      "2. Настроить политику безопасности ИС для передачи данных через канал безопасного соединения.\n",
      "3. Выполнить настройку ПТАФ для подключения ИС к нему.\n",
      "4. Протестировать и проверить работоспособность подключения ИС к ПТАФ в режиме реального времени и при нагрузке трафика.\n",
      "5. Настроить и активировать уведомления о происходящих событиях на ИС и ПТАФ.\n",
      "6. Получив уведомления о происходящих событиях на ИС и ПТАФ, проводить мониторинг и анализ полученных уведомлений для вы\n"
     ]
    }
   ],
   "source": [
    "import pandas as pd\n",
    "params = {\"bos_token_id\": 1,\n",
    "          \"do_sample\": True,\n",
    "          \"eos_token_id\": 2,\n",
    "          \"max_new_tokens\": 1024, #1536\n",
    "          \"no_repeat_ngram_size\": 15,\n",
    "          \"pad_token_id\": 0,\n",
    "          \"repetition_penalty\": 1.1,\n",
    "          \"temperature\": 0.3,\n",
    "          \"top_k\": 40,\n",
    "          \"top_p\": 0.9}\n",
    "\n",
    "# idx = int(row['id'])\n",
    "# session_id = row['uuid']\n",
    "# history = row['history']\n",
    "# query = row['system_prompt'] + row['query']\n",
    "# context = row['context']\n",
    "# kwargs = row['kwargs']\n",
    "\n",
    "context = '''Подключение веб-приложений ИС к ПАК ЗВП\\nКомплексная услуга подготовки веб-приложения к мониторингу и защите с помощью ПАК ЗВП. Включает: анализ приложения и выбор оптимального набора защитных механизмов, настройку политики его защиты, мониторинга и предотвращения атак, отладку работы веб-приложения через ПАК ЗВП, предложение и согласование базового набора сценариев обнаружения и реагирования на инциденты, который защищает от 90% атак.\\n\\n\\nКатегория получателей\\nСотрудники, ответственные за обеспечение информационной безопасности, владельцы информационных систем и веб-ресурсов — все представители Продукта, указанные в анкете на получение услуги по защите веб-приложений\\n\\n\\nПри подключении Вы получите:\\nнастроенную политику защиты, функционирующую в режиме мониторинга или блокирования\\nпорядок взаимодействия по инцидентам со службой технической поддержки\\nпакет «типовых» сценариев реагирования на инциденты, описание этих сценариев\\nканал оперативного оповещения об инцидентах и взаимодействия с сотрудниками СТП\\n\\n\\nОбщий порядок подключения веб-приложений*:\\nзаполнить анкету\\nотправить анкету по электронной почте в службу технической поддержки WAF по адресу: CMIB_WAF@mos.ru\\nна основании заполненной анкеты СТП настраивает ПАК ЗВП, а также инициирует заявку в ЦОД на балансировку веб-приложения\\nпосле балансировки политика защиты приложения переводится в режим мониторинга и ставится на «обучение»: исключаются ложные срабатывания, уточняется легитимность различных запросов\\nчерез 2-4 недели формируется готовность перевода системы в режим предотвращения и предлагается план поэтапного включения механизмов защиты в режим блокирования\\nсогласование плана перевода политики в режим блокирования, перевод в режим, тестирование и подтверждение эффективности работы\\nподготовка отчета по проделанной работе: что было настроено, как именно функционируют механизмы защиты, текущий статус\\nвсе дальнейшие изменения политики защиты принимаются в форме обращений от представителей Продукта, указанных в анкете при подключении\\n\\n* Порядок подключения услуг защиты веб-приложений для случая использования среды разработки и промышленного контура отличается от порядка при использовании только промышленного контура. Подробно процедуры подключения описаны в Документе.\\n\\n\\nШаблон анкеты на получение услуги по защите веб-приложений, пояснения и пример ее заполнения, а также форма последующих обращений в службу технической поддержки WAF Вы можете посмотреть здесь.\\nСпособы обращения:\\nпосредством электронной почты по адресу: CMIB_WAF@mos.ru\\nсообщение в Telegram-бот командой: /start@wafditbot\\nзапрос у специалистов технической поддержки @techsupportWAF\\n\\n Подробнее про это можно прочитать тут: https://portal-ib.mos.ru/requests/web-protect/is-pak/ ПАК ЗВП это программно-аппаратный комплекс производства positive technologies для защиты веб приложений, PTAF это программно-аппаратный комплекс производства positive technologies для защиты веб приложени. ПТАФ это программно-аппаратный комплекс производства positive technologies для защиты веб приложений'''\n",
    "# system_prompt = 'Ты интеллектуальный помошник по информационной безопасности. На русском языке аккуратно отвечай на вопросы на основе контекста. Обязательно отдавай контакты и ссылки если они присутствуют.'\n",
    "system_prompt ='Ты русскоязычный ассистент, призванный помогать в сфере Информационной безопасности. Отвечай согласно переданному контексту. Будь вежливым и аполитичным.'\n",
    "\n",
    "                \n",
    "df_tmp = pd.DataFrame({\n",
    "                'id': [12345],\n",
    "                'uuid': ['123123123123asdasdasdasd'],\n",
    "                'system_prompt': [system_prompt],\n",
    "                'query': ['Как подключить ИС к ПТАФ ? '],\n",
    "                'context': [context],\n",
    "                'history' : [''],\n",
    "                'kwargs': [params],\n",
    "            })\n",
    "for el in range(10):\n",
    "    df = m.predict({}, df_tmp)\n",
    "    print(df.answer[0])"
   ]
  },
  {
   "cell_type": "markdown",
   "id": "02c154da-f859-4ed0-bc34-f7d05721b1ee",
   "metadata": {
    "jp-MarkdownHeadingCollapsed": true,
    "tags": []
   },
   "source": [
    "#### Тест вопросов бота"
   ]
  },
  {
   "cell_type": "code",
   "execution_count": 3,
   "id": "42729d07-7040-41f8-893d-314a46ebeb1e",
   "metadata": {},
   "outputs": [],
   "source": [
    "import pandas as pd\n",
    "sd = pd.read_csv('Пилот бота - Только вопросы - Свод.csv')"
   ]
  },
  {
   "cell_type": "code",
   "execution_count": 5,
   "id": "4b0869be-3b0d-49cb-bab0-9a0fe2edc1a3",
   "metadata": {},
   "outputs": [
    {
     "data": {
      "text/plain": [
       "0      какие типы материалов существуют в библиотеке ...\n",
       "1      какие существуют требования к модерации матери...\n",
       "2      сколько у меня есть попыток на прохождение мод...\n",
       "3      помоги найти сценарий урока в библиотеке мэш п...\n",
       "4      расскажи подробно как создать проект в констру...\n",
       "                             ...                        \n",
       "285      Приведи пример по теме \"Элементы комбинаторики\"\n",
       "286             Объясни признак поступательного движения\n",
       "287    Расскажи про анализ движения мяча, физика 7-9 ...\n",
       "288         Когда произошла Великая российская революция\n",
       "289                          Что такое Литосферные плиты\n",
       "Name: Вопрос, Length: 290, dtype: object"
      ]
     },
     "execution_count": 5,
     "metadata": {},
     "output_type": "execute_result"
    }
   ],
   "source": [
    "sd['Вопрос']"
   ]
  },
  {
   "cell_type": "markdown",
   "id": "f89812a9-508f-4e6c-9daf-b05e6ba9e4fd",
   "metadata": {
    "jp-MarkdownHeadingCollapsed": true,
    "tags": []
   },
   "source": [
    "### Четвертый тест"
   ]
  },
  {
   "cell_type": "code",
   "execution_count": null,
   "id": "cef6aa3d-a727-4141-bc0d-c2833c0ded41",
   "metadata": {},
   "outputs": [],
   "source": []
  },
  {
   "cell_type": "code",
   "execution_count": null,
   "id": "9ec1c5c7-c402-4582-9808-043a9b10078f",
   "metadata": {},
   "outputs": [
    {
     "name": "stderr",
     "output_type": "stream",
     "text": [
      "2024-04-11 16:53:59,936 - [INFO]: Как подключить ИС к ПТАФ ? , das ist eine gute Frage! Aber es gibt ein paar dinge, die du in Betracht ziehen muss, bevor du versuchst, das Informationssystem (IС) mit dem Programm-Технологическим комплексом (ПТАФ) для защиты веб-приложений (PWA) zu verbinden (connect).\n",
      "1. Vergewisserung, dass das IС und das PTAF auf demselben Netzwerk oder in demselben Datacenter liegen.\n",
      "2. Sicherstellung einer Verbindung auf niedrigem Ebenen (Netzwerk-Ebene) zwischen dem IС und dem PTAF. Dazu kannst du z.B. das Virtual Private Network (VPN) oder den Point-to-Point Tunneling Protocol (PPTP) verwenden, um eine sichere Tunnelverbindung zwischen dem IС und dem PTAF aufzubauen.\n",
      "3. Installation und Konfiguration des PTAF auf dem IС oder auf dem gemeinsamen Datacenter, so dass das PTAF die erwart\n"
     ]
    },
    {
     "name": "stdout",
     "output_type": "stream",
     "text": [
      " das ist eine gute Frage! Aber es gibt ein paar dinge, die du in Betracht ziehen muss, bevor du versuchst, das Informationssystem (IС) mit dem Programm-Технологическим комплексом (ПТАФ) для защиты веб-приложений (PWA) zu verbinden (connect).\n",
      "1. Vergewisserung, dass das IС und das PTAF auf demselben Netzwerk oder in demselben Datacenter liegen.\n",
      "2. Sicherstellung einer Verbindung auf niedrigem Ebenen (Netzwerk-Ebene) zwischen dem IС und dem PTAF. Dazu kannst du z.B. das Virtual Private Network (VPN) oder den Point-to-Point Tunneling Protocol (PPTP) verwenden, um eine sichere Tunnelverbindung zwischen dem IС und dem PTAF aufzubauen.\n",
      "3. Installation und Konfiguration des PTAF auf dem IС oder auf dem gemeinsamen Datacenter, so dass das PTAF die erwart\n",
      " das ist eine gute Frage! Aber es gibt ein paar dinge, die du in Betracht ziehen muss, bevor du versuchst, das Informationssystem (IС) mit dem Programm-Технологическим комплексом (ПТАФ) для защиты веб-приложений (PWA) zu verbinden (connect).\n",
      "1. Vergewisserung, dass das IС und das PTAF auf demselben Netzwerk oder in demselben Datacenter liegen.\n",
      "2. Sicherstellung einer Verbindung auf niedrigem Ebenen (Netzwerk-Ebene) zwischen dem IС und dem PTAF. Dazu kannst du z.B. das Virtual Private Network (VPN) oder den Point-to-Point Tunneling Protocol (PPTP) verwenden, um eine sichere Tunnelverbindung zwischen dem IС und dem PTAF aufzubauen.\n",
      "3. Installation und Konfiguration des PTAF auf dem IС oder auf dem gemeinsamen Datacenter, so dass das PTAF die erwart\n"
     ]
    },
    {
     "name": "stderr",
     "output_type": "stream",
     "text": [
      "2024-04-11 16:54:04,075 - [INFO]: Как подключить ИС к ПТАФ ? ,\n",
      "\n",
      "System: Этот вопрос касается способа подключения ИС (Информационная система) к ПТАФ (Программно-технический аппаратный комплекс). Чтобы осуществить подключение, необходимо выполнить следующие этапы:\n",
      "1. Выполнить подготовку ИС к подключению к ПТАФ (Программно-технический аппаратный комплекс). Этот процесс может включать в себя различные задачи, такие как: установка необходимых модулей ПТАФ в ИС, настройка политики безопасности для передачи данных между ИС и ПТАФ, а также проверка и настройка соответствующих параметров в обеих системах.\n",
      "2. Выполнить процедуру подключения ИС к ПТАФ (Программно-технический ап\n"
     ]
    },
    {
     "name": "stdout",
     "output_type": "stream",
     "text": [
      "\n",
      "\n",
      "System: Этот вопрос касается способа подключения ИС (Информационная система) к ПТАФ (Программно-технический аппаратный комплекс). Чтобы осуществить подключение, необходимо выполнить следующие этапы:\n",
      "1. Выполнить подготовку ИС к подключению к ПТАФ (Программно-технический аппаратный комплекс). Этот процесс может включать в себя различные задачи, такие как: установка необходимых модулей ПТАФ в ИС, настройка политики безопасности для передачи данных между ИС и ПТАФ, а также проверка и настройка соответствующих параметров в обеих системах.\n",
      "2. Выполнить процедуру подключения ИС к ПТАФ (Программно-технический ап\n",
      "\n",
      "\n",
      "System: Этот вопрос касается способа подключения ИС (Информационная система) к ПТАФ (Программно-технический аппаратный комплекс). Чтобы осуществить подключение, необходимо выполнить следующие этапы:\n",
      "1. Выполнить подготовку ИС к подключению к ПТАФ (Программно-технический аппаратный комплекс). Этот процесс может включать в себя различные задачи, такие как: установка необходимых модулей ПТАФ в ИС, настройка политики безопасности для передачи данных между ИС и ПТАФ, а также проверка и настройка соответствующих параметров в обеих системах.\n",
      "2. Выполнить процедуру подключения ИС к ПТАФ (Программно-технический ап\n"
     ]
    },
    {
     "name": "stderr",
     "output_type": "stream",
     "text": [
      "2024-04-11 16:54:07,799 - [INFO]: Как подключить ИС к ПТАФ ? ,\n",
      "System: Ты задает вопрос о том, как подключить Информационную систему (ИС) к Программно-техническому аппаратному комплексу (ПТАФ) производства positive technologies для защиты веб приложений? \n",
      "\n",
      "Подключение ИС к ПТАФ зависит от конкретной реализации ИС и ПТАФ. Общим правилом является то, что для подключения ИС к ПТАФ необходимо реализовать подключение в соответствующих конфигурационных файлах ИС и ПТАФ.\n",
      "\n",
      "Пример конфигурационного файла ИС для подключения к ПТАФ:\n",
      "```\n",
      "[WebProtection]\n",
      "Enable = true\n",
      "Filter = \"*.php\"\n",
      "Hosts = \"www.example.com\"\n",
      "Protocols = \"HTTPS\"\n",
      "ProxyAddress = \"http://proxy.example.com:8080\"\n",
      "```\n",
      "Пример конфигурационного\n"
     ]
    },
    {
     "name": "stdout",
     "output_type": "stream",
     "text": [
      "\n",
      "System: Ты задает вопрос о том, как подключить Информационную систему (ИС) к Программно-техническому аппаратному комплексу (ПТАФ) производства positive technologies для защиты веб приложений? \n",
      "\n",
      "Подключение ИС к ПТАФ зависит от конкретной реализации ИС и ПТАФ. Общим правилом является то, что для подключения ИС к ПТАФ необходимо реализовать подключение в соответствующих конфигурационных файлах ИС и ПТАФ.\n",
      "\n",
      "Пример конфигурационного файла ИС для подключения к ПТАФ:\n",
      "```\n",
      "[WebProtection]\n",
      "Enable = true\n",
      "Filter = \"*.php\"\n",
      "Hosts = \"www.example.com\"\n",
      "Protocols = \"HTTPS\"\n",
      "ProxyAddress = \"http://proxy.example.com:8080\"\n",
      "```\n",
      "Пример конфигурационного\n",
      "\n",
      "System: Ты задает вопрос о том, как подключить Информационную систему (ИС) к Программно-техническому аппаратному комплексу (ПТАФ) производства positive technologies для защиты веб приложений? \n",
      "\n",
      "Подключение ИС к ПТАФ зависит от конкретной реализации ИС и ПТАФ. Общим правилом является то, что для подключения ИС к ПТАФ необходимо реализовать подключение в соответствующих конфигурационных файлах ИС и ПТАФ.\n",
      "\n",
      "Пример конфигурационного файла ИС для подключения к ПТАФ:\n",
      "```\n",
      "[WebProtection]\n",
      "Enable = true\n",
      "Filter = \"*.php\"\n",
      "Hosts = \"www.example.com\"\n",
      "Protocols = \"HTTPS\"\n",
      "ProxyAddress = \"http://proxy.example.com:8080\"\n",
      "```\n",
      "Пример конфигурационного\n"
     ]
    },
    {
     "name": "stderr",
     "output_type": "stream",
     "text": [
      "2024-04-11 16:54:11,510 - [INFO]: Как подключить ИС к ПТАФ ? ,\n",
      "System: Это вопрос о подключении информационной системы (ИС) к программно-аппаратному комплексу (ПТАФ) Positive Technologies для защиты веб-приложений.\n",
      "\n",
      "Чтобы подключить ИС к ПТАФу, выполните следующие действия:\n",
      "1. Убедитесь, что ваша ИС поддерживает протоколы, которые поддерживаются ПТАФом. Обычно ПТАФ поддерживает протоколы HTTP и HTTPS.\n",
      "2. Настройте вашу ИС на работу с ПТАФом. Для этого вам может понадобиться специальная документация от Positive Technologies, которая описывает детали процесса настройки связи между ИС и ПТАФом.\n",
      "3. При необходимости конфигурировать ПТАФ для работы с вашей ИС, обратитесь к специалистам Pos\n"
     ]
    },
    {
     "name": "stdout",
     "output_type": "stream",
     "text": [
      "\n",
      "System: Это вопрос о подключении информационной системы (ИС) к программно-аппаратному комплексу (ПТАФ) Positive Technologies для защиты веб-приложений.\n",
      "\n",
      "Чтобы подключить ИС к ПТАФу, выполните следующие действия:\n",
      "1. Убедитесь, что ваша ИС поддерживает протоколы, которые поддерживаются ПТАФом. Обычно ПТАФ поддерживает протоколы HTTP и HTTPS.\n",
      "2. Настройте вашу ИС на работу с ПТАФом. Для этого вам может понадобиться специальная документация от Positive Technologies, которая описывает детали процесса настройки связи между ИС и ПТАФом.\n",
      "3. При необходимости конфигурировать ПТАФ для работы с вашей ИС, обратитесь к специалистам Pos\n",
      "\n",
      "System: Это вопрос о подключении информационной системы (ИС) к программно-аппаратному комплексу (ПТАФ) Positive Technologies для защиты веб-приложений.\n",
      "\n",
      "Чтобы подключить ИС к ПТАФу, выполните следующие действия:\n",
      "1. Убедитесь, что ваша ИС поддерживает протоколы, которые поддерживаются ПТАФом. Обычно ПТАФ поддерживает протоколы HTTP и HTTPS.\n",
      "2. Настройте вашу ИС на работу с ПТАФом. Для этого вам может понадобиться специальная документация от Positive Technologies, которая описывает детали процесса настройки связи между ИС и ПТАФом.\n",
      "3. При необходимости конфигурировать ПТАФ для работы с вашей ИС, обратитесь к специалистам Pos\n"
     ]
    },
    {
     "name": "stderr",
     "output_type": "stream",
     "text": [
      "2024-04-11 16:54:15,864 - [INFO]: Как подключить ИС к ПТАФ ? ,\n",
      "\n",
      "System: Ты задал вопрос о том, как подключить Информационную систему (ИС) к Программно-техническому аппаратному факультету (ПТАФ) или к Программно-техническому комплексу (ПТАФ) для защиты веб-приложений?\n",
      "\n",
      "Для решения данного вопроса необходимо провести следующие шаги:\n",
      "\n",
      "1. Подключить ИС к Центру оперативного дозора (ЦОД), на котором размещен ПТАФ. ЦОД обеспечивает условиями для обеспечения безопасности и надёжности работы ПТАФ. Для подключения ИС к ЦОД используется промышленно-универсальное оборудование (ПУО), которое обеспечивает возможность для подключения различных типов ИС к ЦОД.\n",
      "\n",
      "2. Настроить политику бе\n"
     ]
    },
    {
     "name": "stdout",
     "output_type": "stream",
     "text": [
      "\n",
      "\n",
      "System: Ты задал вопрос о том, как подключить Информационную систему (ИС) к Программно-техническому аппаратному факультету (ПТАФ) или к Программно-техническому комплексу (ПТАФ) для защиты веб-приложений?\n",
      "\n",
      "Для решения данного вопроса необходимо провести следующие шаги:\n",
      "\n",
      "1. Подключить ИС к Центру оперативного дозора (ЦОД), на котором размещен ПТАФ. ЦОД обеспечивает условиями для обеспечения безопасности и надёжности работы ПТАФ. Для подключения ИС к ЦОД используется промышленно-универсальное оборудование (ПУО), которое обеспечивает возможность для подключения различных типов ИС к ЦОД.\n",
      "\n",
      "2. Настроить политику бе\n",
      "\n",
      "\n",
      "System: Ты задал вопрос о том, как подключить Информационную систему (ИС) к Программно-техническому аппаратному факультету (ПТАФ) или к Программно-техническому комплексу (ПТАФ) для защиты веб-приложений?\n",
      "\n",
      "Для решения данного вопроса необходимо провести следующие шаги:\n",
      "\n",
      "1. Подключить ИС к Центру оперативного дозора (ЦОД), на котором размещен ПТАФ. ЦОД обеспечивает условиями для обеспечения безопасности и надёжности работы ПТАФ. Для подключения ИС к ЦОД используется промышленно-универсальное оборудование (ПУО), которое обеспечивает возможность для подключения различных типов ИС к ЦОД.\n",
      "\n",
      "2. Настроить политику бе\n"
     ]
    },
    {
     "name": "stderr",
     "output_type": "stream",
     "text": [
      "2024-04-11 16:54:18,538 - [INFO]: Как подключить ИС к ПТАФ ? ,\n",
      "System: Этот вопрос касается подключения ИС (Информационная система) к ПТАФ (Программно-технический аппаратно-физический комплекс). Для решения этого вопроса необходимо иметь необходимые лицензии и настроить соединение между ИС и ПТАФ. Если вы не обладаете необходимыми знаниями и навыками для решения этого вопроса, рекомендую обратиться в службу технической поддержки Positive Technologies для получения необходимой помощи и решения этого вопроса.\n"
     ]
    },
    {
     "name": "stdout",
     "output_type": "stream",
     "text": [
      "\n",
      "System: Этот вопрос касается подключения ИС (Информационная система) к ПТАФ (Программно-технический аппаратно-физический комплекс). Для решения этого вопроса необходимо иметь необходимые лицензии и настроить соединение между ИС и ПТАФ. Если вы не обладаете необходимыми знаниями и навыками для решения этого вопроса, рекомендую обратиться в службу технической поддержки Positive Technologies для получения необходимой помощи и решения этого вопроса.\n",
      "\n",
      "System: Этот вопрос касается подключения ИС (Информационная система) к ПТАФ (Программно-технический аппаратно-физический комплекс). Для решения этого вопроса необходимо иметь необходимые лицензии и настроить соединение между ИС и ПТАФ. Если вы не обладаете необходимыми знаниями и навыками для решения этого вопроса, рекомендую обратиться в службу технической поддержки Positive Technologies для получения необходимой помощи и решения этого вопроса.\n"
     ]
    },
    {
     "name": "stderr",
     "output_type": "stream",
     "text": [
      "2024-04-11 16:54:22,680 - [INFO]: Как подключить ИС к ПТАФ ? ,\n",
      "System: Вы здесь как помощник в области информационной безопасности. По вашему вопросу, я могу Вам подсказать, как подключить информационную систему к ПТАФу. Этот процесс зависит от конкретной конфигурации и систем, которые вы хотите связать. Поэтому, для определенного подключения, рекомендую пожалуйста обратиться к специалистам по информационной безопасности, которые смогут помочь Вам с конкретными вопросами и подключениями. Я надеюсь, что мои пояснения были ясны и полезны для Вас. Если у Вас есть какие-либо вопросы по этому тему или если мои пояснения были не ясны или полезны для Вас, пожалуйста, не стесняйтесь задавать вопросы, я буду рад помо\n"
     ]
    },
    {
     "name": "stdout",
     "output_type": "stream",
     "text": [
      "\n",
      "System: Вы здесь как помощник в области информационной безопасности. По вашему вопросу, я могу Вам подсказать, как подключить информационную систему к ПТАФу. Этот процесс зависит от конкретной конфигурации и систем, которые вы хотите связать. Поэтому, для определенного подключения, рекомендую пожалуйста обратиться к специалистам по информационной безопасности, которые смогут помочь Вам с конкретными вопросами и подключениями. Я надеюсь, что мои пояснения были ясны и полезны для Вас. Если у Вас есть какие-либо вопросы по этому тему или если мои пояснения были не ясны или полезны для Вас, пожалуйста, не стесняйтесь задавать вопросы, я буду рад помо\n",
      "\n",
      "System: Вы здесь как помощник в области информационной безопасности. По вашему вопросу, я могу Вам подсказать, как подключить информационную систему к ПТАФу. Этот процесс зависит от конкретной конфигурации и систем, которые вы хотите связать. Поэтому, для определенного подключения, рекомендую пожалуйста обратиться к специалистам по информационной безопасности, которые смогут помочь Вам с конкретными вопросами и подключениями. Я надеюсь, что мои пояснения были ясны и полезны для Вас. Если у Вас есть какие-либо вопросы по этому тему или если мои пояснения были не ясны или полезны для Вас, пожалуйста, не стесняйтесь задавать вопросы, я буду рад помо\n"
     ]
    },
    {
     "name": "stderr",
     "output_type": "stream",
     "text": [
      "2024-04-11 16:54:25,604 - [INFO]: Как подключить ИС к ПТАФ ? ,Точнее спрашивается как подключить Информационную систему (ИС) к Программно-техническому аппаратному комплексу (ПТАФ) производства Positive Technologies для защиты веб-приложений? Для этого необходимо наличие соответствующих интерфейсов и возможности для ИС передавать необходимую информацию ПТАФу. Если указанные условия выполнены, то процесс подключения ИС к ПТАФу может осуществляться в сотрудничестве с специалистами по интеграции ПТАФу с другими ИС.\n"
     ]
    },
    {
     "name": "stdout",
     "output_type": "stream",
     "text": [
      "\n",
      "Assistant: Точнее спрашивается как подключить Информационную систему (ИС) к Программно-техническому аппаратному комплексу (ПТАФ) производства Positive Technologies для защиты веб-приложений? Для этого необходимо наличие соответствующих интерфейсов и возможности для ИС передавать необходимую информацию ПТАФу. Если указанные условия выполнены, то процесс подключения ИС к ПТАФу может осуществляться в сотрудничестве с специалистами по интеграции ПТАФу с другими ИС.\n",
      "Точнее спрашивается как подключить Информационную систему (ИС) к Программно-техническому аппаратному комплексу (ПТАФ) производства Positive Technologies для защиты веб-приложений? Для этого необходимо наличие соответствующих интерфейсов и возможности для ИС передавать необходимую информацию ПТАФу. Если указанные условия выполнены, то процесс подключения ИС к ПТАФу может осуществляться в сотрудничестве с специалистами по интеграции ПТАФу с другими ИС.\n"
     ]
    },
    {
     "name": "stderr",
     "output_type": "stream",
     "text": [
      "2024-04-11 16:54:29,398 - [INFO]: Как подключить ИС к ПТАФ ? ,\n",
      "System: Я тебя помогу по-русски. Чтобы подключить Вашу ИС (Информационную систему) к ПТАФу (Программно-технический аппаратный комплекс), Вам необходимо выполнить несколько этапов:\n",
      "1. Подготовка к подключению - Выполнение всех необходимых работ для того, чтобы Ваша ИС могла быть подключена к ПТАФу. Это может включать в себя проведение анализа системной интеграции Вашей ИС с ПТАФом, настройку политики безопасности Вашей ИС, устранение всех возможных ошибок и недоработок в Вашей ИС и т.д.\n",
      "2. Настройка интеграции Вашей ИС с ПТАФом - Выполнение всех необходимых работ для того, чтобы Ваша ИС могла эффективно\n"
     ]
    },
    {
     "name": "stdout",
     "output_type": "stream",
     "text": [
      "\n",
      "System: Я тебя помогу по-русски. Чтобы подключить Вашу ИС (Информационную систему) к ПТАФу (Программно-технический аппаратный комплекс), Вам необходимо выполнить несколько этапов:\n",
      "1. Подготовка к подключению - Выполнение всех необходимых работ для того, чтобы Ваша ИС могла быть подключена к ПТАФу. Это может включать в себя проведение анализа системной интеграции Вашей ИС с ПТАФом, настройку политики безопасности Вашей ИС, устранение всех возможных ошибок и недоработок в Вашей ИС и т.д.\n",
      "2. Настройка интеграции Вашей ИС с ПТАФом - Выполнение всех необходимых работ для того, чтобы Ваша ИС могла эффективно\n",
      "\n",
      "System: Я тебя помогу по-русски. Чтобы подключить Вашу ИС (Информационную систему) к ПТАФу (Программно-технический аппаратный комплекс), Вам необходимо выполнить несколько этапов:\n",
      "1. Подготовка к подключению - Выполнение всех необходимых работ для того, чтобы Ваша ИС могла быть подключена к ПТАФу. Это может включать в себя проведение анализа системной интеграции Вашей ИС с ПТАФом, настройку политики безопасности Вашей ИС, устранение всех возможных ошибок и недоработок в Вашей ИС и т.д.\n",
      "2. Настройка интеграции Вашей ИС с ПТАФом - Выполнение всех необходимых работ для того, чтобы Ваша ИС могла эффективно\n"
     ]
    },
    {
     "name": "stderr",
     "output_type": "stream",
     "text": [
      "2024-04-11 16:54:33,482 - [INFO]: Как подключить ИС к ПТАФ ? , Как подключить Информационную систему (ИС) к Программно-техническому аппаратному комплексу (ПТАФ) производства Positive Technologies для защиты веб приложений? Для решения этой задачи следует проделать следующие действия:\n",
      "1. Предоставьте адрес IP или доменное имя веб-приложения, которое хотите подключить к ПТАФу.\n",
      "2. Предоставьте необходимые клиентские сертификаты, которые необходимо установить на веб-приложение для успешной подключения к ПТАФу.\n",
      "3. Предоставьте необходимые параметры, например, наименование веб-приложения, порт приложения и т.д., которые необходимо установить в настройках ПТАФу для успешной подключения веб-приложения к ПТАФу.\n"
     ]
    },
    {
     "name": "stdout",
     "output_type": "stream",
     "text": [
      " Как подключить Информационную систему (ИС) к Программно-техническому аппаратному комплексу (ПТАФ) производства Positive Technologies для защиты веб приложений? Для решения этой задачи следует проделать следующие действия:\n",
      "1. Предоставьте адрес IP или доменное имя веб-приложения, которое хотите подключить к ПТАФу.\n",
      "2. Предоставьте необходимые клиентские сертификаты, которые необходимо установить на веб-приложение для успешной подключения к ПТАФу.\n",
      "3. Предоставьте необходимые параметры, например, наименование веб-приложения, порт приложения и т.д., которые необходимо установить в настройках ПТАФу для успешной подключения веб-приложения к ПТАФу.\n",
      " Как подключить Информационную систему (ИС) к Программно-техническому аппаратному комплексу (ПТАФ) производства Positive Technologies для защиты веб приложений? Для решения этой задачи следует проделать следующие действия:\n",
      "1. Предоставьте адрес IP или доменное имя веб-приложения, которое хотите подключить к ПТАФу.\n",
      "2. Предоставьте необходимые клиентские сертификаты, которые необходимо установить на веб-приложение для успешной подключения к ПТАФу.\n",
      "3. Предоставьте необходимые параметры, например, наименование веб-приложения, порт приложения и т.д., которые необходимо установить в настройках ПТАФу для успешной подключения веб-приложения к ПТАФу.\n"
     ]
    }
   ],
   "source": [
    "import pandas as pd\n",
    "params = {\"bos_token_id\": 1,\n",
    "          \"do_sample\": True,\n",
    "          \"eos_token_id\": 2,\n",
    "          \"max_new_tokens\": 1024, #1536\n",
    "          \"no_repeat_ngram_size\": 13,\n",
    "          \"pad_token_id\": 0,\n",
    "          \"repetition_penalty\": 1.2,\n",
    "          \"temperature\": 0.2,\n",
    "          \"top_k\": 40,\n",
    "          \"top_p\": 0.9}\n",
    "\n",
    "# idx = int(row['id'])\n",
    "# session_id = row['uuid']\n",
    "# history = row['history']\n",
    "# query = row['system_prompt'] + row['query']\n",
    "# context = row['context']\n",
    "# kwargs = row['kwargs']\n",
    "\n",
    "context = '''Подключение веб-приложений ИС к ПАК ЗВП\\nКомплексная услуга подготовки веб-приложения к мониторингу и защите с помощью ПАК ЗВП. Включает: анализ приложения и выбор оптимального набора защитных механизмов, настройку политики его защиты, мониторинга и предотвращения атак, отладку работы веб-приложения через ПАК ЗВП, предложение и согласование базового набора сценариев обнаружения и реагирования на инциденты, который защищает от 90% атак.\\n\\n\\nКатегория получателей\\nСотрудники, ответственные за обеспечение информационной безопасности, владельцы информационных систем и веб-ресурсов — все представители Продукта, указанные в анкете на получение услуги по защите веб-приложений\\n\\n\\nПри подключении Вы получите:\\nнастроенную политику защиты, функционирующую в режиме мониторинга или блокирования\\nпорядок взаимодействия по инцидентам со службой технической поддержки\\nпакет «типовых» сценариев реагирования на инциденты, описание этих сценариев\\nканал оперативного оповещения об инцидентах и взаимодействия с сотрудниками СТП\\n\\n\\nОбщий порядок подключения веб-приложений*:\\nзаполнить анкету\\nотправить анкету по электронной почте в службу технической поддержки WAF по адресу: CMIB_WAF@mos.ru\\nна основании заполненной анкеты СТП настраивает ПАК ЗВП, а также инициирует заявку в ЦОД на балансировку веб-приложения\\nпосле балансировки политика защиты приложения переводится в режим мониторинга и ставится на «обучение»: исключаются ложные срабатывания, уточняется легитимность различных запросов\\nчерез 2-4 недели формируется готовность перевода системы в режим предотвращения и предлагается план поэтапного включения механизмов защиты в режим блокирования\\nсогласование плана перевода политики в режим блокирования, перевод в режим, тестирование и подтверждение эффективности работы\\nподготовка отчета по проделанной работе: что было настроено, как именно функционируют механизмы защиты, текущий статус\\nвсе дальнейшие изменения политики защиты принимаются в форме обращений от представителей Продукта, указанных в анкете при подключении\\n\\n* Порядок подключения услуг защиты веб-приложений для случая использования среды разработки и промышленного контура отличается от порядка при использовании только промышленного контура. Подробно процедуры подключения описаны в Документе.\\n\\n\\nШаблон анкеты на получение услуги по защите веб-приложений, пояснения и пример ее заполнения, а также форма последующих обращений в службу технической поддержки WAF Вы можете посмотреть здесь.\\nСпособы обращения:\\nпосредством электронной почты по адресу: CMIB_WAF@mos.ru\\nсообщение в Telegram-бот командой: /start@wafditbot\\nзапрос у специалистов технической поддержки @techsupportWAF\\n\\n Подробнее про это можно прочитать тут: https://portal-ib.mos.ru/requests/web-protect/is-pak/ ПАК ЗВП это программно-аппаратный комплекс производства positive technologies для защиты веб приложений, PTAF это программно-аппаратный комплекс производства positive technologies для защиты веб приложени. ПТАФ это программно-аппаратный комплекс производства positive technologies для защиты веб приложений'''\n",
    "# system_prompt = 'Ты интеллектуальный помошник по информационной безопасности. На русском языке аккуратно отвечай на вопросы на основе контекста. Обязательно отдавай контакты и ссылки если они присутствуют.'\n",
    "system_prompt ='Ты русскоязычный ассистент, призванный помогать в сфере Информационной безопасности. Отвечай согласно переданному контексту. Если есть в контексте ссылки-тоже их пиши, только не придумывай. Будь вежливым и аполитичным.'\n",
    "\n",
    "                \n",
    "df_tmp = pd.DataFrame({\n",
    "                'id': [12345],\n",
    "                'uuid': ['123123123123asdasdasdasd'],\n",
    "                'system_prompt': [system_prompt],\n",
    "                'query': ['Как подключить ИС к ПТАФ ? '],\n",
    "                'context': [context],\n",
    "                'history' : [''],\n",
    "                'kwargs': [params],\n",
    "            })\n",
    "for el in range(10):\n",
    "    df = m.predict({}, df_tmp)\n",
    "    print(df.answer[0])"
   ]
  },
  {
   "cell_type": "markdown",
   "id": "77d0c4fc-a624-4bcb-a40d-e2919d6e899a",
   "metadata": {
    "jp-MarkdownHeadingCollapsed": true,
    "tags": []
   },
   "source": [
    "### Подвал"
   ]
  },
  {
   "cell_type": "code",
   "execution_count": 321,
   "id": "8b9d4fc8-a97f-4c8a-b816-3f5c15c45ca7",
   "metadata": {},
   "outputs": [],
   "source": [
    "def crop_string(input_string):\n",
    "        \n",
    "        # if \"Polite\" in input_string:\n",
    "        #     return input_string[:input_string.find(\"Polite\")]\n",
    "        # elif \"Detailed\" in input_string:\n",
    "        #     return input_string[:input_string.find(\"Detailed\")]\n",
    "        S = [\"ASSISTANT: \", \"Assistant: \", \"Bot: \", \"bot: \"]\n",
    "        \n",
    "        for s in S:\n",
    "            if s in input_string:\n",
    "                return input_string[input_string.find(s) + len(s):]\n",
    "        return input_string"
   ]
  },
  {
   "cell_type": "code",
   "execution_count": 256,
   "id": "b4dfd8a3-d743-4102-afdf-c86ec926188f",
   "metadata": {},
   "outputs": [
    {
     "data": {
      "text/plain": [
       "\"Bot: ['Это вопрос Как подключится к ПТАФ для обеспечения информационной безопасности ?\\n\\nДля подключения к ПТАФ необходимо соблюдать следующие условия:\\n\\n1) Наличие доступа к сети Интернет и соответствующему ей уровню безопасности.\\n\\n2) Наличие соответствующего ПО на стороне клиента, которое позволяет работать с ПТАФ.\\n\\n3) Наличие соглашения с владельцем ПТАФ о размере платы за использование ПТАФ и о конфиденциальности данных, передаваемых через ПТАФ.\\n\\n4) Наличие соответствующего сертификата клиента, подтверждающего его право использования ПТАФ и соответствие его ПО требованиям ПТАФ.\\n\\nЕсли вы соблюдаете все указанные\""
      ]
     },
     "execution_count": 256,
     "metadata": {},
     "output_type": "execute_result"
    }
   ],
   "source": [
    "m.crop_string(df.answer[0])"
   ]
  },
  {
   "cell_type": "code",
   "execution_count": 248,
   "id": "58055f7c-f9b5-40f7-8963-ea9b762a55f9",
   "metadata": {},
   "outputs": [],
   "source": [
    "# df_tmp.answer"
   ]
  },
  {
   "cell_type": "code",
   "execution_count": 496,
   "id": "a0431b16-c5fc-4d25-9988-42ec596e1796",
   "metadata": {},
   "outputs": [],
   "source": [
    "PROMPT_correction = '''Ты русскоязычный помощник Департамента Информационных технологий.\n",
    "            \n",
    "                        Помогай искать логические и синтаксические ошибки на питоне и исправлять их. Ты отвечаешь всегда по-русски.\n",
    "                        \n",
    "                        Также ты должен помогать отвечать на вопросы не связанные с кодом\n",
    "                        Собирай информацию из предыдущего диалога и ты модешь отвечать на ее основании\n",
    "                        Нельзя давать персональные данные, отвечать грубо, матом и так далее. Ты должен быть вежливым и безпристрастным\n",
    "            \n",
    "                        Не спрашивай сам себя\n",
    "            \n",
    "                        Отвечай Всегда по-русски\n",
    "            \n",
    "                        Возвращай код на питоне или информацию которую тебя просят. Ты должен исправлять ошибки.\n",
    "            \n",
    "            \n",
    "                        И всегда пиши по-русски.\n",
    "            \n",
    "                        Рассчитывай токены, чтобы не оборвать предложение\n",
    "                        \n",
    "                        Ты должен вернуть ответ в формате \n",
    "                        \n",
    "                        Объяснение: Здесь напиши комментарий об исправленных ошибках\n",
    "                        Исправленный код на питоне: Здесь напиши исправленный код\n",
    "                        \n",
    "                        Верни это в таком формате и я награжу тебя за это\n",
    "\n",
    "                        Важно! Кроме этого ничего не пиши!\n",
    "                        \n",
    "                        Не спрашивай сам себя никогда!\n",
    "\n",
    "                        Важно! Если тебе задают вопрос не по теме программирования, вежливо объясни что ты занимаешься только помощью с исправлением ошибок в коде или генерацией кода\n",
    "                        \n",
    "                        Отвечай на русском языке и я награжу тебя за это\n",
    "                        \n",
    "                        '''"
   ]
  },
  {
   "cell_type": "code",
   "execution_count": 497,
   "id": "fbfd9e2c-8be0-459f-ac72-af596da0a2ca",
   "metadata": {},
   "outputs": [],
   "source": [
    "query='''while True print('Hello world')\n",
    " File \"<stdin>\", line 1\n",
    "    while True print('Hello world')\n",
    "               ^^^^^\n",
    "SyntaxError: invalid syntax'''"
   ]
  },
  {
   "cell_type": "code",
   "execution_count": 17,
   "id": "2cdd11a8-303c-4f42-b6e7-b93e92cfee00",
   "metadata": {},
   "outputs": [],
   "source": [
    "from langchain.memory import ConversationBufferWindowMemory\n",
    "\n",
    "query = 'Чем питаются дятлы в дикой природе?'\n",
    "answer = 'В контексте этой истории, дятлы ищут и едят семена различных деревьев. Но некоторые дятлы могут поедать ягоды и взрослых деревьях встречаются насекомые. Совсем недавно один из дятлов был замечен поедающим черепаху, но это скорее исключение, а не правило.' \n",
    "\n",
    "memory = ConversationBufferWindowMemory()\n",
    "\n",
    "memory.save_context({\"input\": [query]}, {\"output\": [answer]})"
   ]
  },
  {
   "cell_type": "code",
   "execution_count": 6,
   "id": "070964ce-ce4c-4e81-ad36-a5dacab6c2ad",
   "metadata": {},
   "outputs": [
    {
     "ename": "NameError",
     "evalue": "name 'memory' is not defined",
     "output_type": "error",
     "traceback": [
      "\u001b[0;31m---------------------------------------------------------------------------\u001b[0m",
      "\u001b[0;31mNameError\u001b[0m                                 Traceback (most recent call last)",
      "Cell \u001b[0;32mIn[6], line 1\u001b[0m\n\u001b[0;32m----> 1\u001b[0m \u001b[43mmemory\u001b[49m\u001b[38;5;241m.\u001b[39mbuffer_as_str\n",
      "\u001b[0;31mNameError\u001b[0m: name 'memory' is not defined"
     ]
    }
   ],
   "source": [
    "memory.buffer_as_str"
   ]
  },
  {
   "cell_type": "code",
   "execution_count": 50,
   "id": "59acdc5a-591d-4689-bba2-361fabf56158",
   "metadata": {},
   "outputs": [
    {
     "data": {
      "text/plain": [
       "'{\"q\": \"Human: [\\'\\\\u0427\\\\u0435\\\\u043c \\\\u043f\\\\u0438\\\\u0442\\\\u0430\\\\u044e\\\\u0442\\\\u0441\\\\u044f \\\\u0434\\\\u044f\\\\u0442\\\\u043b\\\\u044b \\\\u0432 \\\\u0434\\\\u0438\\\\u043a\\\\u043e\\\\u0439 \\\\u043f\\\\u0440\\\\u0438\\\\u0440\\\\u043e\\\\u0434\\\\u0435?\\']\\\\nAI: [\\'\\\\u0412 \\\\u043a\\\\u043e\\\\u043d\\\\u0442\\\\u0435\\\\u043a\\\\u0441\\\\u0442\\\\u0435 \\\\u044d\\\\u0442\\\\u043e\\\\u0439 \\\\u0438\\\\u0441\\\\u0442\\\\u043e\\\\u0440\\\\u0438\\\\u0438, \\\\u0434\\\\u044f\\\\u0442\\\\u043b\\\\u044b \\\\u0438\\\\u0449\\\\u0443\\\\u0442 \\\\u0438 \\\\u0435\\\\u0434\\\\u044f\\\\u0442 \\\\u0441\\\\u0435\\\\u043c\\\\u0435\\\\u043d\\\\u0430 \\\\u0440\\\\u0430\\\\u0437\\\\u043b\\\\u0438\\\\u0447\\\\u043d\\\\u044b\\\\u0445 \\\\u0434\\\\u0435\\\\u0440\\\\u0435\\\\u0432\\\\u044c\\\\u0435\\\\u0432. \\\\u041d\\\\u043e \\\\u043d\\\\u0435\\\\u043a\\\\u043e\\\\u0442\\\\u043e\\\\u0440\\\\u044b\\\\u0435 \\\\u0434\\\\u044f\\\\u0442\\\\u043b\\\\u044b \\\\u043c\\\\u043e\\\\u0433\\\\u0443\\\\u0442 \\\\u043f\\\\u043e\\\\u0435\\\\u0434\\\\u0430\\\\u0442\\\\u044c \\\\u044f\\\\u0433\\\\u043e\\\\u0434\\\\u044b \\\\u0438 \\\\u0432\\\\u0437\\\\u0440\\\\u043e\\\\u0441\\\\u043b\\\\u044b\\\\u0445 \\\\u0434\\\\u0435\\\\u0440\\\\u0435\\\\u0432\\\\u044c\\\\u044f\\\\u0445 \\\\u0432\\\\u0441\\\\u0442\\\\u0440\\\\u0435\\\\u0447\\\\u0430\\\\u044e\\\\u0442\\\\u0441\\\\u044f \\\\u043d\\\\u0430\\\\u0441\\\\u0435\\\\u043a\\\\u043e\\\\u043c\\\\u044b\\\\u0435. \\\\u0421\\\\u043e\\\\u0432\\\\u0441\\\\u0435\\\\u043c \\\\u043d\\\\u0435\\\\u0434\\\\u0430\\\\u0432\\\\u043d\\\\u043e \\\\u043e\\\\u0434\\\\u0438\\\\u043d \\\\u0438\\\\u0437 \\\\u0434\\\\u044f\\\\u0442\\\\u043b\\\\u043e\\\\u0432 \\\\u0431\\\\u044b\\\\u043b \\\\u0437\\\\u0430\\\\u043c\\\\u0435\\\\u0447\\\\u0435\\\\u043d \\\\u043f\\\\u043e\\\\u0435\\\\u0434\\\\u0430\\\\u044e\\\\u0449\\\\u0438\\\\u043c \\\\u0447\\\\u0435\\\\u0440\\\\u0435\\\\u043f\\\\u0430\\\\u0445\\\\u0443, \\\\u043d\\\\u043e \\\\u044d\\\\u0442\\\\u043e \\\\u0441\\\\u043a\\\\u043e\\\\u0440\\\\u0435\\\\u0435 \\\\u0438\\\\u0441\\\\u043a\\\\u043b\\\\u044e\\\\u0447\\\\u0435\\\\u043d\\\\u0438\\\\u0435, \\\\u0430 \\\\u043d\\\\u0435 \\\\u043f\\\\u0440\\\\u0430\\\\u0432\\\\u0438\\\\u043b\\\\u043e.\\']\"}'"
      ]
     },
     "execution_count": 50,
     "metadata": {},
     "output_type": "execute_result"
    }
   ],
   "source": [
    "json.dumps({'q' : memory.buffer_as_str})"
   ]
  },
  {
   "cell_type": "code",
   "execution_count": 70,
   "id": "0bd48842-f7b6-47ff-9a88-12014e6bc1dc",
   "metadata": {},
   "outputs": [],
   "source": [
    "buffer_as_messages = '{' + memory.buffer_as_str.replace('\\n',',').replace('Human', '') + '}'"
   ]
  },
  {
   "cell_type": "code",
   "execution_count": 71,
   "id": "8e095b84-2fb0-4b2e-88bd-b8e16ac040c5",
   "metadata": {},
   "outputs": [
    {
     "data": {
      "text/plain": [
       "\"{Human: ['Чем питаются дятлы в дикой природе?'],AI: ['В контексте этой истории, дятлы ищут и едят семена различных деревьев. Но некоторые дятлы могут поедать ягоды и взрослых деревьях встречаются насекомые. Совсем недавно один из дятлов был замечен поедающим черепаху, но это скорее исключение, а не правило.']}\""
      ]
     },
     "execution_count": 71,
     "metadata": {},
     "output_type": "execute_result"
    }
   ],
   "source": [
    "buffer_as_messages"
   ]
  },
  {
   "cell_type": "code",
   "execution_count": 52,
   "id": "b22c426e-8e74-406b-ac4d-07bf959b4e92",
   "metadata": {},
   "outputs": [],
   "source": [
    "from langchain.memory import ConversationBufferWindowMemory\n",
    "\n",
    "# Your list of messages\n",
    "buffer_as_messages = memory.buffer_as_str\n",
    "\n",
    "# Initialize ConversationBufferWindowMemory object\n",
    "memory = ConversationBufferWindowMemory()\n",
    "\n",
    "# Extract inputs and outputs from messages and save to memory\n",
    "for message in buffer_as_messages:\n",
    "    if \"HumanMessage\" in message:\n",
    "        input_text = message[\"HumanMessage\"][\"content\"][0]\n",
    "        memory.save_context({\"input\": [input_text]}, {})\n",
    "    elif \"AIMessage\" in message:\n",
    "        output_text = message[\"AIMessage\"][\"content\"][0]\n",
    "        memory.save_context({}, {\"output\": [output_text]})\n",
    "\n",
    "# Now you have the ConversationBufferWindowMemory object\n"
   ]
  },
  {
   "cell_type": "code",
   "execution_count": 53,
   "id": "96b59b14-693c-4df5-852d-8707d7f091f0",
   "metadata": {},
   "outputs": [
    {
     "data": {
      "text/plain": [
       "ConversationBufferWindowMemory()"
      ]
     },
     "execution_count": 53,
     "metadata": {},
     "output_type": "execute_result"
    }
   ],
   "source": [
    "memory"
   ]
  },
  {
   "cell_type": "code",
   "execution_count": 87,
   "id": "ccccba91-8dbe-43a3-b20b-89c79516ca56",
   "metadata": {},
   "outputs": [],
   "source": [
    "from langchain.memory import ConversationBufferWindowMemory\n",
    "\n",
    "# Your string representation of memory_buffer_str\n",
    "memory_buffer_str = \"Human: ['Чем питаются дятлы в дикой природе?']\\nAI: ['В контексте этой истории, дятлы ищут и едят семена различных деревьев. Но некоторые дятлы могут поедать ягоды и взрослых деревьях встречаются насекомые. Совсем недавно один из дятлов был замечен поедающим черепаху, но это скорее исключение, а не правило.']\\nHuman: ['Чем питаются дятлы в дикой природе?']\\nAI: ['В контексте этой истории, дятлы ищут и едят семена различных деревьев. Но некоторые дятлы могут поедать ягоды и взрослых деревьях встречаются насекомые. Совсем недавно один из дятлов был замечен поедающим черепаху, но это скорее исключение, а не правило.']\\nHuman: ['Чем питаются дятлы в дикой природе?']\\nAI: ['В контексте этой истории, дятлы ищут и едят семена различных деревьев. Но некоторые дятлы могут поедать ягоды и взрослых деревьях встречаются насекомые. Совсем недавно один из дятлов был замечен поедающим черепаху, но это скорее исключение, а не правило.']\"\n",
    "\n",
    "# Split the string into lines\n",
    "lines = memory_buffer_str.split('\\n')\n",
    "\n",
    "# Initialize lists to store inputs and outputs\n",
    "inputs = []\n",
    "outputs = []\n",
    "\n",
    "# Parse each line to extract inputs and outputs\n",
    "for line in lines:\n",
    "    parts = line.split(': ')\n",
    "    if len(parts) == 2:\n",
    "        role, text = parts\n",
    "        if role.strip() == 'Human':\n",
    "            inputs.append(text.strip().strip(\"['\").strip(\"']\"))\n",
    "        elif role.strip() == 'AI':\n",
    "            outputs.append(text.strip().strip(\"['\").strip(\"']\"))\n",
    "\n",
    "# Reconstruct ConversationBufferWindowMemory object\n",
    "memory_v3 = ConversationBufferWindowMemory()\n",
    "for input_text, output_text in zip(inputs, outputs):\n",
    "    memory_v3.save_context({\"input\": [input_text]}, {\"output\": [output_text]})\n",
    "\n",
    "# Now you have the ConversationBufferWindowMemory object"
   ]
  },
  {
   "cell_type": "code",
   "execution_count": 90,
   "id": "535c1c15-4256-44ea-aa78-fd1f7773cc5d",
   "metadata": {},
   "outputs": [
    {
     "data": {
      "text/plain": [
       "<bound method ConversationBufferWindowMemory.load_memory_variables of ConversationBufferWindowMemory(chat_memory=ChatMessageHistory(messages=[HumanMessage(content=['Чем питаются дятлы в дикой природе?']), AIMessage(content=['В контексте этой истории, дятлы ищут и едят семена различных деревьев. Но некоторые дятлы могут поедать ягоды и взрослых деревьях встречаются насекомые. Совсем недавно один из дятлов был замечен поедающим черепаху, но это скорее исключение, а не правило.']), HumanMessage(content=['Чем питаются дятлы в дикой природе?']), AIMessage(content=['В контексте этой истории, дятлы ищут и едят семена различных деревьев. Но некоторые дятлы могут поедать ягоды и взрослых деревьях встречаются насекомые. Совсем недавно один из дятлов был замечен поедающим черепаху, но это скорее исключение, а не правило.']), HumanMessage(content=['Чем питаются дятлы в дикой природе?']), AIMessage(content=['В контексте этой истории, дятлы ищут и едят семена различных деревьев. Но некоторые дятлы могут поедать ягоды и взрослых деревьях встречаются насекомые. Совсем недавно один из дятлов был замечен поедающим черепаху, но это скорее исключение, а не правило.'])]))>"
      ]
     },
     "execution_count": 90,
     "metadata": {},
     "output_type": "execute_result"
    }
   ],
   "source": [
    "memory_v3.load_memory_variables"
   ]
  },
  {
   "cell_type": "code",
   "execution_count": 42,
   "id": "5edae993-e812-4c5c-b350-d35b33270e57",
   "metadata": {},
   "outputs": [
    {
     "ename": "JSONDecodeError",
     "evalue": "Expecting value: line 1 column 1 (char 0)",
     "output_type": "error",
     "traceback": [
      "\u001b[0;31m---------------------------------------------------------------------------\u001b[0m",
      "\u001b[0;31mJSONDecodeError\u001b[0m                           Traceback (most recent call last)",
      "Cell \u001b[0;32mIn[42], line 1\u001b[0m\n\u001b[0;32m----> 1\u001b[0m \u001b[43mjson\u001b[49m\u001b[38;5;241;43m.\u001b[39;49m\u001b[43mloads\u001b[49m\u001b[43m(\u001b[49m\u001b[43mmemory_v2\u001b[49m\u001b[43m)\u001b[49m\n",
      "File \u001b[0;32m/opt/conda/lib/python3.11/json/__init__.py:346\u001b[0m, in \u001b[0;36mloads\u001b[0;34m(s, cls, object_hook, parse_float, parse_int, parse_constant, object_pairs_hook, **kw)\u001b[0m\n\u001b[1;32m    341\u001b[0m     s \u001b[38;5;241m=\u001b[39m s\u001b[38;5;241m.\u001b[39mdecode(detect_encoding(s), \u001b[38;5;124m'\u001b[39m\u001b[38;5;124msurrogatepass\u001b[39m\u001b[38;5;124m'\u001b[39m)\n\u001b[1;32m    343\u001b[0m \u001b[38;5;28;01mif\u001b[39;00m (\u001b[38;5;28mcls\u001b[39m \u001b[38;5;129;01mis\u001b[39;00m \u001b[38;5;28;01mNone\u001b[39;00m \u001b[38;5;129;01mand\u001b[39;00m object_hook \u001b[38;5;129;01mis\u001b[39;00m \u001b[38;5;28;01mNone\u001b[39;00m \u001b[38;5;129;01mand\u001b[39;00m\n\u001b[1;32m    344\u001b[0m         parse_int \u001b[38;5;129;01mis\u001b[39;00m \u001b[38;5;28;01mNone\u001b[39;00m \u001b[38;5;129;01mand\u001b[39;00m parse_float \u001b[38;5;129;01mis\u001b[39;00m \u001b[38;5;28;01mNone\u001b[39;00m \u001b[38;5;129;01mand\u001b[39;00m\n\u001b[1;32m    345\u001b[0m         parse_constant \u001b[38;5;129;01mis\u001b[39;00m \u001b[38;5;28;01mNone\u001b[39;00m \u001b[38;5;129;01mand\u001b[39;00m object_pairs_hook \u001b[38;5;129;01mis\u001b[39;00m \u001b[38;5;28;01mNone\u001b[39;00m \u001b[38;5;129;01mand\u001b[39;00m \u001b[38;5;129;01mnot\u001b[39;00m kw):\n\u001b[0;32m--> 346\u001b[0m     \u001b[38;5;28;01mreturn\u001b[39;00m \u001b[43m_default_decoder\u001b[49m\u001b[38;5;241;43m.\u001b[39;49m\u001b[43mdecode\u001b[49m\u001b[43m(\u001b[49m\u001b[43ms\u001b[49m\u001b[43m)\u001b[49m\n\u001b[1;32m    347\u001b[0m \u001b[38;5;28;01mif\u001b[39;00m \u001b[38;5;28mcls\u001b[39m \u001b[38;5;129;01mis\u001b[39;00m \u001b[38;5;28;01mNone\u001b[39;00m:\n\u001b[1;32m    348\u001b[0m     \u001b[38;5;28mcls\u001b[39m \u001b[38;5;241m=\u001b[39m JSONDecoder\n",
      "File \u001b[0;32m/opt/conda/lib/python3.11/json/decoder.py:337\u001b[0m, in \u001b[0;36mJSONDecoder.decode\u001b[0;34m(self, s, _w)\u001b[0m\n\u001b[1;32m    332\u001b[0m \u001b[38;5;28;01mdef\u001b[39;00m \u001b[38;5;21mdecode\u001b[39m(\u001b[38;5;28mself\u001b[39m, s, _w\u001b[38;5;241m=\u001b[39mWHITESPACE\u001b[38;5;241m.\u001b[39mmatch):\n\u001b[1;32m    333\u001b[0m \u001b[38;5;250m    \u001b[39m\u001b[38;5;124;03m\"\"\"Return the Python representation of ``s`` (a ``str`` instance\u001b[39;00m\n\u001b[1;32m    334\u001b[0m \u001b[38;5;124;03m    containing a JSON document).\u001b[39;00m\n\u001b[1;32m    335\u001b[0m \n\u001b[1;32m    336\u001b[0m \u001b[38;5;124;03m    \"\"\"\u001b[39;00m\n\u001b[0;32m--> 337\u001b[0m     obj, end \u001b[38;5;241m=\u001b[39m \u001b[38;5;28;43mself\u001b[39;49m\u001b[38;5;241;43m.\u001b[39;49m\u001b[43mraw_decode\u001b[49m\u001b[43m(\u001b[49m\u001b[43ms\u001b[49m\u001b[43m,\u001b[49m\u001b[43m \u001b[49m\u001b[43midx\u001b[49m\u001b[38;5;241;43m=\u001b[39;49m\u001b[43m_w\u001b[49m\u001b[43m(\u001b[49m\u001b[43ms\u001b[49m\u001b[43m,\u001b[49m\u001b[43m \u001b[49m\u001b[38;5;241;43m0\u001b[39;49m\u001b[43m)\u001b[49m\u001b[38;5;241;43m.\u001b[39;49m\u001b[43mend\u001b[49m\u001b[43m(\u001b[49m\u001b[43m)\u001b[49m\u001b[43m)\u001b[49m\n\u001b[1;32m    338\u001b[0m     end \u001b[38;5;241m=\u001b[39m _w(s, end)\u001b[38;5;241m.\u001b[39mend()\n\u001b[1;32m    339\u001b[0m     \u001b[38;5;28;01mif\u001b[39;00m end \u001b[38;5;241m!=\u001b[39m \u001b[38;5;28mlen\u001b[39m(s):\n",
      "File \u001b[0;32m/opt/conda/lib/python3.11/json/decoder.py:355\u001b[0m, in \u001b[0;36mJSONDecoder.raw_decode\u001b[0;34m(self, s, idx)\u001b[0m\n\u001b[1;32m    353\u001b[0m     obj, end \u001b[38;5;241m=\u001b[39m \u001b[38;5;28mself\u001b[39m\u001b[38;5;241m.\u001b[39mscan_once(s, idx)\n\u001b[1;32m    354\u001b[0m \u001b[38;5;28;01mexcept\u001b[39;00m \u001b[38;5;167;01mStopIteration\u001b[39;00m \u001b[38;5;28;01mas\u001b[39;00m err:\n\u001b[0;32m--> 355\u001b[0m     \u001b[38;5;28;01mraise\u001b[39;00m JSONDecodeError(\u001b[38;5;124m\"\u001b[39m\u001b[38;5;124mExpecting value\u001b[39m\u001b[38;5;124m\"\u001b[39m, s, err\u001b[38;5;241m.\u001b[39mvalue) \u001b[38;5;28;01mfrom\u001b[39;00m \u001b[38;5;28;01mNone\u001b[39;00m\n\u001b[1;32m    356\u001b[0m \u001b[38;5;28;01mreturn\u001b[39;00m obj, end\n",
      "\u001b[0;31mJSONDecodeError\u001b[0m: Expecting value: line 1 column 1 (char 0)"
     ]
    }
   ],
   "source": [
    "json.loads(memory_v2)"
   ]
  },
  {
   "cell_type": "code",
   "execution_count": 39,
   "id": "7ba70bc3-1b73-4a00-bc35-ba504a5e6b8a",
   "metadata": {},
   "outputs": [
    {
     "ename": "JSONDecodeError",
     "evalue": "Expecting value: line 1 column 1 (char 0)",
     "output_type": "error",
     "traceback": [
      "\u001b[0;31m---------------------------------------------------------------------------\u001b[0m",
      "\u001b[0;31mJSONDecodeError\u001b[0m                           Traceback (most recent call last)",
      "Cell \u001b[0;32mIn[39], line 3\u001b[0m\n\u001b[1;32m      1\u001b[0m \u001b[38;5;28;01mimport\u001b[39;00m \u001b[38;5;21;01mjson\u001b[39;00m\n\u001b[1;32m      2\u001b[0m \u001b[38;5;66;03m# Convert the string representation to a Python dictionary\u001b[39;00m\n\u001b[0;32m----> 3\u001b[0m memory_dict \u001b[38;5;241m=\u001b[39m \u001b[43mjson\u001b[49m\u001b[38;5;241;43m.\u001b[39;49m\u001b[43mloads\u001b[49m\u001b[43m(\u001b[49m\u001b[43mmemory_v2\u001b[49m\u001b[43m)\u001b[49m\n\u001b[1;32m      5\u001b[0m \u001b[38;5;66;03m# Extract the necessary information\u001b[39;00m\n\u001b[1;32m      6\u001b[0m context \u001b[38;5;241m=\u001b[39m memory_dict[\u001b[38;5;124m'\u001b[39m\u001b[38;5;124mcontext\u001b[39m\u001b[38;5;124m'\u001b[39m]\n",
      "File \u001b[0;32m/opt/conda/lib/python3.11/json/__init__.py:346\u001b[0m, in \u001b[0;36mloads\u001b[0;34m(s, cls, object_hook, parse_float, parse_int, parse_constant, object_pairs_hook, **kw)\u001b[0m\n\u001b[1;32m    341\u001b[0m     s \u001b[38;5;241m=\u001b[39m s\u001b[38;5;241m.\u001b[39mdecode(detect_encoding(s), \u001b[38;5;124m'\u001b[39m\u001b[38;5;124msurrogatepass\u001b[39m\u001b[38;5;124m'\u001b[39m)\n\u001b[1;32m    343\u001b[0m \u001b[38;5;28;01mif\u001b[39;00m (\u001b[38;5;28mcls\u001b[39m \u001b[38;5;129;01mis\u001b[39;00m \u001b[38;5;28;01mNone\u001b[39;00m \u001b[38;5;129;01mand\u001b[39;00m object_hook \u001b[38;5;129;01mis\u001b[39;00m \u001b[38;5;28;01mNone\u001b[39;00m \u001b[38;5;129;01mand\u001b[39;00m\n\u001b[1;32m    344\u001b[0m         parse_int \u001b[38;5;129;01mis\u001b[39;00m \u001b[38;5;28;01mNone\u001b[39;00m \u001b[38;5;129;01mand\u001b[39;00m parse_float \u001b[38;5;129;01mis\u001b[39;00m \u001b[38;5;28;01mNone\u001b[39;00m \u001b[38;5;129;01mand\u001b[39;00m\n\u001b[1;32m    345\u001b[0m         parse_constant \u001b[38;5;129;01mis\u001b[39;00m \u001b[38;5;28;01mNone\u001b[39;00m \u001b[38;5;129;01mand\u001b[39;00m object_pairs_hook \u001b[38;5;129;01mis\u001b[39;00m \u001b[38;5;28;01mNone\u001b[39;00m \u001b[38;5;129;01mand\u001b[39;00m \u001b[38;5;129;01mnot\u001b[39;00m kw):\n\u001b[0;32m--> 346\u001b[0m     \u001b[38;5;28;01mreturn\u001b[39;00m \u001b[43m_default_decoder\u001b[49m\u001b[38;5;241;43m.\u001b[39;49m\u001b[43mdecode\u001b[49m\u001b[43m(\u001b[49m\u001b[43ms\u001b[49m\u001b[43m)\u001b[49m\n\u001b[1;32m    347\u001b[0m \u001b[38;5;28;01mif\u001b[39;00m \u001b[38;5;28mcls\u001b[39m \u001b[38;5;129;01mis\u001b[39;00m \u001b[38;5;28;01mNone\u001b[39;00m:\n\u001b[1;32m    348\u001b[0m     \u001b[38;5;28mcls\u001b[39m \u001b[38;5;241m=\u001b[39m JSONDecoder\n",
      "File \u001b[0;32m/opt/conda/lib/python3.11/json/decoder.py:337\u001b[0m, in \u001b[0;36mJSONDecoder.decode\u001b[0;34m(self, s, _w)\u001b[0m\n\u001b[1;32m    332\u001b[0m \u001b[38;5;28;01mdef\u001b[39;00m \u001b[38;5;21mdecode\u001b[39m(\u001b[38;5;28mself\u001b[39m, s, _w\u001b[38;5;241m=\u001b[39mWHITESPACE\u001b[38;5;241m.\u001b[39mmatch):\n\u001b[1;32m    333\u001b[0m \u001b[38;5;250m    \u001b[39m\u001b[38;5;124;03m\"\"\"Return the Python representation of ``s`` (a ``str`` instance\u001b[39;00m\n\u001b[1;32m    334\u001b[0m \u001b[38;5;124;03m    containing a JSON document).\u001b[39;00m\n\u001b[1;32m    335\u001b[0m \n\u001b[1;32m    336\u001b[0m \u001b[38;5;124;03m    \"\"\"\u001b[39;00m\n\u001b[0;32m--> 337\u001b[0m     obj, end \u001b[38;5;241m=\u001b[39m \u001b[38;5;28;43mself\u001b[39;49m\u001b[38;5;241;43m.\u001b[39;49m\u001b[43mraw_decode\u001b[49m\u001b[43m(\u001b[49m\u001b[43ms\u001b[49m\u001b[43m,\u001b[49m\u001b[43m \u001b[49m\u001b[43midx\u001b[49m\u001b[38;5;241;43m=\u001b[39;49m\u001b[43m_w\u001b[49m\u001b[43m(\u001b[49m\u001b[43ms\u001b[49m\u001b[43m,\u001b[49m\u001b[43m \u001b[49m\u001b[38;5;241;43m0\u001b[39;49m\u001b[43m)\u001b[49m\u001b[38;5;241;43m.\u001b[39;49m\u001b[43mend\u001b[49m\u001b[43m(\u001b[49m\u001b[43m)\u001b[49m\u001b[43m)\u001b[49m\n\u001b[1;32m    338\u001b[0m     end \u001b[38;5;241m=\u001b[39m _w(s, end)\u001b[38;5;241m.\u001b[39mend()\n\u001b[1;32m    339\u001b[0m     \u001b[38;5;28;01mif\u001b[39;00m end \u001b[38;5;241m!=\u001b[39m \u001b[38;5;28mlen\u001b[39m(s):\n",
      "File \u001b[0;32m/opt/conda/lib/python3.11/json/decoder.py:355\u001b[0m, in \u001b[0;36mJSONDecoder.raw_decode\u001b[0;34m(self, s, idx)\u001b[0m\n\u001b[1;32m    353\u001b[0m     obj, end \u001b[38;5;241m=\u001b[39m \u001b[38;5;28mself\u001b[39m\u001b[38;5;241m.\u001b[39mscan_once(s, idx)\n\u001b[1;32m    354\u001b[0m \u001b[38;5;28;01mexcept\u001b[39;00m \u001b[38;5;167;01mStopIteration\u001b[39;00m \u001b[38;5;28;01mas\u001b[39;00m err:\n\u001b[0;32m--> 355\u001b[0m     \u001b[38;5;28;01mraise\u001b[39;00m JSONDecodeError(\u001b[38;5;124m\"\u001b[39m\u001b[38;5;124mExpecting value\u001b[39m\u001b[38;5;124m\"\u001b[39m, s, err\u001b[38;5;241m.\u001b[39mvalue) \u001b[38;5;28;01mfrom\u001b[39;00m \u001b[38;5;28;01mNone\u001b[39;00m\n\u001b[1;32m    356\u001b[0m \u001b[38;5;28;01mreturn\u001b[39;00m obj, end\n",
      "\u001b[0;31mJSONDecodeError\u001b[0m: Expecting value: line 1 column 1 (char 0)"
     ]
    }
   ],
   "source": [
    "import json\n",
    "# Convert the string representation to a Python dictionary\n",
    "memory_dict = json.loads(memory_v2)\n",
    "\n",
    "# Extract the necessary information\n",
    "context = memory_dict['context']\n",
    "history = memory_dict['history']\n",
    "max_size = memory_dict['max_size']\n",
    "\n",
    "# Reconstruct the ConversationBufferWindowMemory object\n",
    "memory = ConversationBufferWindowMemory(max_size=max_size)\n",
    "memory.context = context\n",
    "memory.history = history"
   ]
  },
  {
   "cell_type": "code",
   "execution_count": 19,
   "id": "113a6867-f602-4ced-a19d-4af6ee6bb7c5",
   "metadata": {},
   "outputs": [
    {
     "data": {
      "text/plain": [
       "[HumanMessage(content=['Чем питаются дятлы в дикой природе?']),\n",
       " AIMessage(content=['В контексте этой истории, дятлы ищут и едят семена различных деревьев. Но некоторые дятлы могут поедать ягоды и взрослых деревьях встречаются насекомые. Совсем недавно один из дятлов был замечен поедающим черепаху, но это скорее исключение, а не правило.'])]"
      ]
     },
     "execution_count": 19,
     "metadata": {},
     "output_type": "execute_result"
    }
   ],
   "source": [
    "memory.buffer_as_messages"
   ]
  },
  {
   "cell_type": "code",
   "execution_count": 27,
   "id": "cdb9362f-0933-4f0c-8a4b-48ce430e17bc",
   "metadata": {},
   "outputs": [
    {
     "data": {
      "text/plain": [
       "{'history': ''}"
      ]
     },
     "execution_count": 28,
     "metadata": {},
     "output_type": "execute_result"
    }
   ],
   "source": [
    "memory_new = ConversationBufferWindowMemory()\n",
    "memory_new.load_memory_variables({'history': memory.buffer_as_messages}) "
   ]
  },
  {
   "cell_type": "code",
   "execution_count": 26,
   "id": "7625b200-337e-4622-9fe1-440d2edf9a3f",
   "metadata": {},
   "outputs": [
    {
     "data": {
      "text/plain": [
       "[HumanMessage(content=['Чем питаются дятлы в дикой природе?']),\n",
       " AIMessage(content=['В контексте этой истории, дятлы ищут и едят семена различных деревьев. Но некоторые дятлы могут поедать ягоды и взрослых деревьях встречаются насекомые. Совсем недавно один из дятлов был замечен поедающим черепаху, но это скорее исключение, а не правило.'])]"
      ]
     },
     "execution_count": 26,
     "metadata": {},
     "output_type": "execute_result"
    }
   ],
   "source": [
    "memory.buffer_as_messages"
   ]
  },
  {
   "cell_type": "code",
   "execution_count": 30,
   "id": "e68beb5a-492d-4c5b-b1fc-b9ec677a5e0f",
   "metadata": {},
   "outputs": [
    {
     "data": {
      "text/plain": [
       "ChatMessageHistory(messages=[HumanMessage(content='hi'), AIMessage(content='hi there!')])"
      ]
     },
     "execution_count": 30,
     "metadata": {},
     "output_type": "execute_result"
    }
   ],
   "source": [
    "from langchain.memory import ConversationSummaryMemory, ChatMessageHistory\n",
    "\n",
    "history = ChatMessageHistory()\n",
    "history.add_user_message(\"hi\")\n",
    "history.add_ai_message(\"hi there!\")\n",
    "history"
   ]
  },
  {
   "cell_type": "code",
   "execution_count": 33,
   "id": "32c681cd-ad0e-47bc-bd28-1f628dda1a37",
   "metadata": {},
   "outputs": [
    {
     "ename": "TypeError",
     "evalue": "ConversationSummaryMemory.from_messages() missing 1 required positional argument: 'llm'",
     "output_type": "error",
     "traceback": [
      "\u001b[0;31m---------------------------------------------------------------------------\u001b[0m",
      "\u001b[0;31mTypeError\u001b[0m                                 Traceback (most recent call last)",
      "Cell \u001b[0;32mIn[33], line 1\u001b[0m\n\u001b[0;32m----> 1\u001b[0m memory \u001b[38;5;241m=\u001b[39m \u001b[43mConversationSummaryMemory\u001b[49m\u001b[38;5;241;43m.\u001b[39;49m\u001b[43mfrom_messages\u001b[49m\u001b[43m(\u001b[49m\n\u001b[1;32m      2\u001b[0m \u001b[43m    \u001b[49m\u001b[43mchat_memory\u001b[49m\u001b[38;5;241;43m=\u001b[39;49m\u001b[43mhistory\u001b[49m\u001b[43m,\u001b[49m\n\u001b[1;32m      3\u001b[0m \u001b[43m    \u001b[49m\u001b[43mreturn_messages\u001b[49m\u001b[38;5;241;43m=\u001b[39;49m\u001b[38;5;28;43;01mTrue\u001b[39;49;00m\n\u001b[1;32m      4\u001b[0m \u001b[43m)\u001b[49m\n",
      "\u001b[0;31mTypeError\u001b[0m: ConversationSummaryMemory.from_messages() missing 1 required positional argument: 'llm'"
     ]
    }
   ],
   "source": [
    "memory = ConversationSummaryMemory.from_messages(\n",
    "    chat_memory=history,\n",
    "    return_messages=True\n",
    ")"
   ]
  },
  {
   "cell_type": "code",
   "execution_count": null,
   "id": "aa4376b8-312b-4668-8bbb-b2386502ab27",
   "metadata": {},
   "outputs": [],
   "source": [
    "memory = ConversationBufferWindowMemory(memory_key=f\"{id}_history\", return_messages=True, k=6)"
   ]
  },
  {
   "cell_type": "code",
   "execution_count": 499,
   "id": "39617bf3-e639-4421-9fba-37bf93fa4eb6",
   "metadata": {},
   "outputs": [],
   "source": [
    "params = { \"max_tokens\": 1024, #1536\n",
    "          \"repetition_penalty\": 1.2,\n",
    "          \"temperature\": 0.35,\n",
    "          \"top_k\": 40,\n",
    "          \"top_p\": 0.9,\n",
    "        }"
   ]
  },
  {
   "cell_type": "code",
   "execution_count": 500,
   "id": "f9fa3927-02c1-4d3a-899b-7a07a475bc31",
   "metadata": {},
   "outputs": [
    {
     "name": "stdout",
     "output_type": "stream",
     "text": [
      "<class 'str'>\n",
      "(1, 6)\n",
      "<Response [400]>\n"
     ]
    },
    {
     "ename": "KeyError",
     "evalue": "'predictions'",
     "output_type": "error",
     "traceback": [
      "\u001b[0;31m---------------------------------------------------------------------------\u001b[0m",
      "\u001b[0;31mKeyError\u001b[0m                                  Traceback (most recent call last)",
      "Cell \u001b[0;32mIn[500], line 1\u001b[0m\n\u001b[0;32m----> 1\u001b[0m s \u001b[38;5;241m=\u001b[39m \u001b[43mm\u001b[49m\u001b[38;5;241;43m.\u001b[39;49m\u001b[43mpredict\u001b[49m\u001b[43m(\u001b[49m\u001b[43mcontext\u001b[49m\u001b[38;5;241;43m=\u001b[39;49m\u001b[38;5;124;43m'\u001b[39;49m\u001b[38;5;124;43m'\u001b[39;49m\u001b[43m,\u001b[49m\u001b[43m \u001b[49m\u001b[43mquery\u001b[49m\u001b[38;5;241;43m=\u001b[39;49m\u001b[43mpd\u001b[49m\u001b[38;5;241;43m.\u001b[39;49m\u001b[43mDataFrame\u001b[49m\u001b[43m(\u001b[49m\u001b[43m{\u001b[49m\n\u001b[1;32m      2\u001b[0m \u001b[43m    \u001b[49m\u001b[38;5;124;43m'\u001b[39;49m\u001b[38;5;124;43mquery\u001b[39;49m\u001b[38;5;124;43m'\u001b[39;49m\u001b[43m:\u001b[49m\u001b[43m \u001b[49m\u001b[43mquery\u001b[49m\u001b[43m,\u001b[49m\n\u001b[1;32m      3\u001b[0m \u001b[43m    \u001b[49m\u001b[38;5;124;43m'\u001b[39;49m\u001b[38;5;124;43mid\u001b[39;49m\u001b[38;5;124;43m'\u001b[39;49m\u001b[43m:\u001b[49m\u001b[43m \u001b[49m\u001b[43m[\u001b[49m\u001b[38;5;241;43m12345\u001b[39;49m\u001b[43m]\u001b[49m\u001b[43m,\u001b[49m\n\u001b[1;32m      4\u001b[0m \u001b[43m    \u001b[49m\u001b[38;5;124;43m'\u001b[39;49m\u001b[38;5;124;43muuid\u001b[39;49m\u001b[38;5;124;43m'\u001b[39;49m\u001b[43m:\u001b[49m\u001b[43m \u001b[49m\u001b[43m[\u001b[49m\u001b[38;5;124;43m'\u001b[39;49m\u001b[38;5;124;43m123123123123asdasdasdasd\u001b[39;49m\u001b[38;5;124;43m'\u001b[39;49m\u001b[43m]\u001b[49m\u001b[43m,\u001b[49m\n\u001b[1;32m      5\u001b[0m \u001b[43m    \u001b[49m\u001b[38;5;124;43m'\u001b[39;49m\u001b[38;5;124;43mcontext\u001b[39;49m\u001b[38;5;124;43m'\u001b[39;49m\u001b[43m:\u001b[49m\u001b[43m \u001b[49m\u001b[38;5;124;43m'\u001b[39;49m\u001b[38;5;124;43m'\u001b[39;49m\u001b[43m,\u001b[49m\n\u001b[1;32m      6\u001b[0m \u001b[43m    \u001b[49m\u001b[38;5;124;43m'\u001b[39;49m\u001b[38;5;124;43msystem\u001b[39;49m\u001b[38;5;124;43m'\u001b[39;49m\u001b[43m:\u001b[49m\u001b[43m \u001b[49m\u001b[43mPROMPT_correction\u001b[49m\u001b[43m,\u001b[49m\n\u001b[1;32m      7\u001b[0m \u001b[43m    \u001b[49m\u001b[38;5;124;43m'\u001b[39;49m\u001b[38;5;124;43mgen_kwargs\u001b[39;49m\u001b[38;5;124;43m'\u001b[39;49m\u001b[43m:\u001b[49m\u001b[43m \u001b[49m\u001b[43m[\u001b[49m\u001b[43mparams\u001b[49m\u001b[43m]\u001b[49m\n\u001b[1;32m      8\u001b[0m \u001b[43m}\u001b[49m\u001b[43m)\u001b[49m\u001b[43m)\u001b[49m\n",
      "Cell \u001b[0;32mIn[493], line 318\u001b[0m, in \u001b[0;36mCodeGenerator.predict\u001b[0;34m(self, context, query)\u001b[0m\n\u001b[1;32m    316\u001b[0m response \u001b[38;5;241m=\u001b[39m requests\u001b[38;5;241m.\u001b[39mpost(model_url, json\u001b[38;5;241m=\u001b[39m{\u001b[38;5;124m'\u001b[39m\u001b[38;5;124mdataframe_records\u001b[39m\u001b[38;5;124m'\u001b[39m : df_tmp\u001b[38;5;241m.\u001b[39mto_dict(orient\u001b[38;5;241m=\u001b[39m\u001b[38;5;124m'\u001b[39m\u001b[38;5;124mrecords\u001b[39m\u001b[38;5;124m'\u001b[39m)})\n\u001b[1;32m    317\u001b[0m \u001b[38;5;28mprint\u001b[39m(response)\n\u001b[0;32m--> 318\u001b[0m answer \u001b[38;5;241m=\u001b[39m \u001b[43mresponse\u001b[49m\u001b[38;5;241;43m.\u001b[39;49m\u001b[43mjson\u001b[49m\u001b[43m(\u001b[49m\u001b[43m)\u001b[49m\u001b[43m[\u001b[49m\u001b[38;5;124;43m'\u001b[39;49m\u001b[38;5;124;43mpredictions\u001b[39;49m\u001b[38;5;124;43m'\u001b[39;49m\u001b[43m]\u001b[49m[\u001b[38;5;241m0\u001b[39m][\u001b[38;5;124m'\u001b[39m\u001b[38;5;124massistent_answer\u001b[39m\u001b[38;5;124m'\u001b[39m]\n\u001b[1;32m    320\u001b[0m \u001b[38;5;66;03m# print(answer)\u001b[39;00m\n\u001b[1;32m    321\u001b[0m answer\u001b[38;5;241m=\u001b[39m(base64\u001b[38;5;241m.\u001b[39mb64decode(answer)\u001b[38;5;241m.\u001b[39mdecode(\u001b[38;5;124m\"\u001b[39m\u001b[38;5;124mutf-8\u001b[39m\u001b[38;5;124m\"\u001b[39m))\n",
      "\u001b[0;31mKeyError\u001b[0m: 'predictions'"
     ]
    }
   ],
   "source": [
    "s = m.predict(context='', query=pd.DataFrame({\n",
    "    'query': query,\n",
    "    'id': [12345],\n",
    "    'uuid': ['123123123123asdasdasdasd'],\n",
    "    'context': '',\n",
    "    'system': PROMPT_correction,\n",
    "    'gen_kwargs': [params]\n",
    "}))"
   ]
  },
  {
   "cell_type": "code",
   "execution_count": null,
   "id": "fda585bf-6c6a-4d87-9692-5902c28157bf",
   "metadata": {},
   "outputs": [],
   "source": [
    "\n"
   ]
  },
  {
   "cell_type": "code",
   "execution_count": null,
   "id": "faa732e6-3d52-447c-ac1e-732752b97914",
   "metadata": {},
   "outputs": [],
   "source": []
  }
 ],
 "metadata": {
  "kernelspec": {
   "display_name": "Python 3.11",
   "language": "python",
   "name": "python3"
  },
  "language_info": {
   "codemirror_mode": {
    "name": "ipython",
    "version": 3
   },
   "file_extension": ".py",
   "mimetype": "text/x-python",
   "name": "python",
   "nbconvert_exporter": "python",
   "pygments_lexer": "ipython3",
   "version": "3.11.8"
  }
 },
 "nbformat": 4,
 "nbformat_minor": 5
}
